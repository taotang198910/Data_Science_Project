{
 "cells": [
  {
   "cell_type": "markdown",
   "metadata": {},
   "source": [
    "# Zillow Rent Index, 2011- 01/2017"
   ]
  },
  {
   "cell_type": "markdown",
   "metadata": {},
   "source": [
    "** Data From: https://www.kaggle.com/zillow/rent-index **"
   ]
  },
  {
   "cell_type": "code",
   "execution_count": 1,
   "metadata": {
    "collapsed": true
   },
   "outputs": [],
   "source": [
    "import numpy as np\n",
    "import pandas as pd\n",
    "import matplotlib.pyplot as plt\n",
    "import missingno as mso\n",
    "%matplotlib inline"
   ]
  },
  {
   "cell_type": "code",
   "execution_count": 2,
   "metadata": {
    "collapsed": true
   },
   "outputs": [],
   "source": [
    "df=pd.read_csv('price.csv')"
   ]
  },
  {
   "cell_type": "code",
   "execution_count": 3,
   "metadata": {},
   "outputs": [
    {
     "data": {
      "text/html": [
       "<div>\n",
       "<style>\n",
       "    .dataframe thead tr:only-child th {\n",
       "        text-align: right;\n",
       "    }\n",
       "\n",
       "    .dataframe thead th {\n",
       "        text-align: left;\n",
       "    }\n",
       "\n",
       "    .dataframe tbody tr th {\n",
       "        vertical-align: top;\n",
       "    }\n",
       "</style>\n",
       "<table border=\"1\" class=\"dataframe\">\n",
       "  <thead>\n",
       "    <tr style=\"text-align: right;\">\n",
       "      <th></th>\n",
       "      <th>City Code</th>\n",
       "      <th>City</th>\n",
       "      <th>Metro</th>\n",
       "      <th>County</th>\n",
       "      <th>State</th>\n",
       "      <th>Population Rank</th>\n",
       "      <th>November 2010</th>\n",
       "      <th>December 2010</th>\n",
       "      <th>January 2011</th>\n",
       "      <th>February 2011</th>\n",
       "      <th>...</th>\n",
       "      <th>April 2016</th>\n",
       "      <th>May 2016</th>\n",
       "      <th>June 2016</th>\n",
       "      <th>July 2016</th>\n",
       "      <th>August 2016</th>\n",
       "      <th>September 2016</th>\n",
       "      <th>October 2016</th>\n",
       "      <th>November 2016</th>\n",
       "      <th>December 2016</th>\n",
       "      <th>January 2017</th>\n",
       "    </tr>\n",
       "  </thead>\n",
       "  <tbody>\n",
       "    <tr>\n",
       "      <th>0</th>\n",
       "      <td>6181</td>\n",
       "      <td>New York</td>\n",
       "      <td>New York</td>\n",
       "      <td>Queens</td>\n",
       "      <td>NY</td>\n",
       "      <td>1</td>\n",
       "      <td>NaN</td>\n",
       "      <td>NaN</td>\n",
       "      <td>NaN</td>\n",
       "      <td>NaN</td>\n",
       "      <td>...</td>\n",
       "      <td>2334</td>\n",
       "      <td>2339</td>\n",
       "      <td>2345</td>\n",
       "      <td>2344</td>\n",
       "      <td>2336</td>\n",
       "      <td>2324</td>\n",
       "      <td>2318</td>\n",
       "      <td>2321</td>\n",
       "      <td>2321</td>\n",
       "      <td>2322</td>\n",
       "    </tr>\n",
       "    <tr>\n",
       "      <th>1</th>\n",
       "      <td>12447</td>\n",
       "      <td>Los Angeles</td>\n",
       "      <td>Los Angeles</td>\n",
       "      <td>Los Angeles</td>\n",
       "      <td>CA</td>\n",
       "      <td>2</td>\n",
       "      <td>2184.0</td>\n",
       "      <td>2184.0</td>\n",
       "      <td>2183.0</td>\n",
       "      <td>2188.0</td>\n",
       "      <td>...</td>\n",
       "      <td>2637</td>\n",
       "      <td>2662</td>\n",
       "      <td>2687</td>\n",
       "      <td>2704</td>\n",
       "      <td>2716</td>\n",
       "      <td>2723</td>\n",
       "      <td>2731</td>\n",
       "      <td>2740</td>\n",
       "      <td>2748</td>\n",
       "      <td>2753</td>\n",
       "    </tr>\n",
       "    <tr>\n",
       "      <th>2</th>\n",
       "      <td>17426</td>\n",
       "      <td>Chicago</td>\n",
       "      <td>Chicago</td>\n",
       "      <td>Cook</td>\n",
       "      <td>IL</td>\n",
       "      <td>3</td>\n",
       "      <td>1563.0</td>\n",
       "      <td>1555.0</td>\n",
       "      <td>1547.0</td>\n",
       "      <td>1537.0</td>\n",
       "      <td>...</td>\n",
       "      <td>1684</td>\n",
       "      <td>1686</td>\n",
       "      <td>1687</td>\n",
       "      <td>1685</td>\n",
       "      <td>1681</td>\n",
       "      <td>1675</td>\n",
       "      <td>1668</td>\n",
       "      <td>1656</td>\n",
       "      <td>1644</td>\n",
       "      <td>1632</td>\n",
       "    </tr>\n",
       "    <tr>\n",
       "      <th>3</th>\n",
       "      <td>39051</td>\n",
       "      <td>Houston</td>\n",
       "      <td>Houston</td>\n",
       "      <td>Harris</td>\n",
       "      <td>TX</td>\n",
       "      <td>4</td>\n",
       "      <td>1198.0</td>\n",
       "      <td>1199.0</td>\n",
       "      <td>1199.0</td>\n",
       "      <td>1200.0</td>\n",
       "      <td>...</td>\n",
       "      <td>1444</td>\n",
       "      <td>1446</td>\n",
       "      <td>1446</td>\n",
       "      <td>1443</td>\n",
       "      <td>1440</td>\n",
       "      <td>1438</td>\n",
       "      <td>1437</td>\n",
       "      <td>1437</td>\n",
       "      <td>1435</td>\n",
       "      <td>1430</td>\n",
       "    </tr>\n",
       "    <tr>\n",
       "      <th>4</th>\n",
       "      <td>13271</td>\n",
       "      <td>Philadelphia</td>\n",
       "      <td>Philadelphia</td>\n",
       "      <td>Philadelphia</td>\n",
       "      <td>PA</td>\n",
       "      <td>5</td>\n",
       "      <td>1092.0</td>\n",
       "      <td>1099.0</td>\n",
       "      <td>1094.0</td>\n",
       "      <td>1087.0</td>\n",
       "      <td>...</td>\n",
       "      <td>1206</td>\n",
       "      <td>1211</td>\n",
       "      <td>1218</td>\n",
       "      <td>1222</td>\n",
       "      <td>1223</td>\n",
       "      <td>1220</td>\n",
       "      <td>1216</td>\n",
       "      <td>1211</td>\n",
       "      <td>1209</td>\n",
       "      <td>1212</td>\n",
       "    </tr>\n",
       "  </tbody>\n",
       "</table>\n",
       "<p>5 rows × 81 columns</p>\n",
       "</div>"
      ],
      "text/plain": [
       "   City Code          City         Metro        County State  Population Rank  \\\n",
       "0       6181      New York      New York        Queens    NY                1   \n",
       "1      12447   Los Angeles   Los Angeles   Los Angeles    CA                2   \n",
       "2      17426       Chicago       Chicago          Cook    IL                3   \n",
       "3      39051       Houston       Houston        Harris    TX                4   \n",
       "4      13271  Philadelphia  Philadelphia  Philadelphia    PA                5   \n",
       "\n",
       "   November 2010  December 2010  January 2011  February 2011      ...       \\\n",
       "0            NaN            NaN           NaN            NaN      ...        \n",
       "1         2184.0         2184.0        2183.0         2188.0      ...        \n",
       "2         1563.0         1555.0        1547.0         1537.0      ...        \n",
       "3         1198.0         1199.0        1199.0         1200.0      ...        \n",
       "4         1092.0         1099.0        1094.0         1087.0      ...        \n",
       "\n",
       "   April 2016  May 2016  June 2016  July 2016  August 2016  September 2016  \\\n",
       "0        2334      2339       2345       2344         2336            2324   \n",
       "1        2637      2662       2687       2704         2716            2723   \n",
       "2        1684      1686       1687       1685         1681            1675   \n",
       "3        1444      1446       1446       1443         1440            1438   \n",
       "4        1206      1211       1218       1222         1223            1220   \n",
       "\n",
       "   October 2016  November 2016  December 2016  January 2017  \n",
       "0          2318           2321           2321          2322  \n",
       "1          2731           2740           2748          2753  \n",
       "2          1668           1656           1644          1632  \n",
       "3          1437           1437           1435          1430  \n",
       "4          1216           1211           1209          1212  \n",
       "\n",
       "[5 rows x 81 columns]"
      ]
     },
     "execution_count": 3,
     "metadata": {},
     "output_type": "execute_result"
    }
   ],
   "source": [
    "df.head()"
   ]
  },
  {
   "cell_type": "code",
   "execution_count": 4,
   "metadata": {},
   "outputs": [
    {
     "name": "stdout",
     "output_type": "stream",
     "text": [
      "<class 'pandas.core.frame.DataFrame'>\n",
      "RangeIndex: 13131 entries, 0 to 13130\n",
      "Data columns (total 81 columns):\n",
      "City Code          13131 non-null int64\n",
      "City               13131 non-null object\n",
      "Metro              11899 non-null object\n",
      "County             13131 non-null object\n",
      "State              13131 non-null object\n",
      "Population Rank    13131 non-null int64\n",
      "November 2010      11348 non-null float64\n",
      "December 2010      11348 non-null float64\n",
      "January 2011       11348 non-null float64\n",
      "February 2011      11500 non-null float64\n",
      "March 2011         11673 non-null float64\n",
      "April 2011         11722 non-null float64\n",
      "May 2011           11732 non-null float64\n",
      "June 2011          11732 non-null float64\n",
      "July 2011          11732 non-null float64\n",
      "August 2011        11732 non-null float64\n",
      "September 2011     11734 non-null float64\n",
      "October 2011       11748 non-null float64\n",
      "November 2011      11748 non-null float64\n",
      "December 2011      11969 non-null float64\n",
      "January 2012       11969 non-null float64\n",
      "February 2012      11969 non-null float64\n",
      "March 2012         11969 non-null float64\n",
      "April 2012         13131 non-null int64\n",
      "May 2012           13131 non-null int64\n",
      "June 2012          13131 non-null int64\n",
      "July 2012          13131 non-null int64\n",
      "August 2012        13131 non-null int64\n",
      "September 2012     13131 non-null int64\n",
      "October 2012       13131 non-null int64\n",
      "November 2012      13131 non-null int64\n",
      "December 2012      13131 non-null int64\n",
      "January 2013       13131 non-null int64\n",
      "February 2013      13131 non-null int64\n",
      "March 2013         13131 non-null int64\n",
      "April 2013         13131 non-null int64\n",
      "May 2013           13131 non-null int64\n",
      "June 2013          13131 non-null int64\n",
      "July 2013          13131 non-null int64\n",
      "August 2013        13131 non-null int64\n",
      "September 2013     13131 non-null int64\n",
      "October 2013       13131 non-null int64\n",
      "November 2013      13131 non-null int64\n",
      "December 2013      13131 non-null int64\n",
      "January 2014       13131 non-null int64\n",
      "February 2014      13131 non-null int64\n",
      "March 2014         13131 non-null int64\n",
      "April 2014         13131 non-null int64\n",
      "May 2014           13131 non-null int64\n",
      "June 2014          13131 non-null int64\n",
      "July 2014          13131 non-null int64\n",
      "August 2014        13131 non-null int64\n",
      "September 2014     13131 non-null int64\n",
      "October 2014       13131 non-null int64\n",
      "November 2014      13131 non-null int64\n",
      "December 2014      13131 non-null int64\n",
      "January 2015       13131 non-null int64\n",
      "February 2015      13131 non-null int64\n",
      "March 2015         13131 non-null int64\n",
      "April 2015         13131 non-null int64\n",
      "May 2015           13131 non-null int64\n",
      "June 2015          13131 non-null int64\n",
      "July 2015          13131 non-null int64\n",
      "August 2015        13131 non-null int64\n",
      "September 2015     13131 non-null int64\n",
      "October 2015       13131 non-null int64\n",
      "November 2015      13131 non-null int64\n",
      "December 2015      13131 non-null int64\n",
      "January 2016       13131 non-null int64\n",
      "February 2016      13131 non-null int64\n",
      "March 2016         13131 non-null int64\n",
      "April 2016         13131 non-null int64\n",
      "May 2016           13131 non-null int64\n",
      "June 2016          13131 non-null int64\n",
      "July 2016          13131 non-null int64\n",
      "August 2016        13131 non-null int64\n",
      "September 2016     13131 non-null int64\n",
      "October 2016       13131 non-null int64\n",
      "November 2016      13131 non-null int64\n",
      "December 2016      13131 non-null int64\n",
      "January 2017       13131 non-null int64\n",
      "dtypes: float64(17), int64(60), object(4)\n",
      "memory usage: 8.1+ MB\n"
     ]
    }
   ],
   "source": [
    "df.info()"
   ]
  },
  {
   "cell_type": "code",
   "execution_count": 5,
   "metadata": {},
   "outputs": [
    {
     "data": {
      "image/png": "[encoded data removed]",
      "text/plain": [
       "<matplotlib.figure.Figure at 0x10bce4b38>"
      ]
     },
     "metadata": {},
     "output_type": "display_data"
    },
    {
     "data": {
      "image/png": "[encoded data removed]",
      "text/plain": [
       "<matplotlib.figure.Figure at 0x1061990b8>"
      ]
     },
     "metadata": {},
     "output_type": "display_data"
    }
   ],
   "source": [
    "missing=mso.nullity_sort(df, sort='descending')\n",
    "mso.matrix(missing.loc[:,:'Population Rank'])\n",
    "mso.matrix(missing.loc[:,'November 2010':'December 2012'])"
   ]
  },
  {
   "cell_type": "markdown",
   "metadata": {},
   "source": [
    "** Missing values from November 2010 -- March 2012 **"
   ]
  },
  {
   "cell_type": "code",
   "execution_count": 6,
   "metadata": {},
   "outputs": [
    {
     "data": {
      "text/plain": [
       "Index(['City Code', 'City', 'Metro', 'County', 'State', 'Population Rank',\n",
       "       'November 2010', 'December 2010', 'January 2011', 'February 2011',\n",
       "       'March 2011', 'April 2011', 'May 2011', 'June 2011', 'July 2011',\n",
       "       'August 2011', 'September 2011', 'October 2011', 'November 2011',\n",
       "       'December 2011', 'January 2012', 'February 2012', 'March 2012',\n",
       "       'April 2012', 'May 2012', 'June 2012', 'July 2012', 'August 2012',\n",
       "       'September 2012', 'October 2012', 'November 2012', 'December 2012',\n",
       "       'January 2013', 'February 2013', 'March 2013', 'April 2013', 'May 2013',\n",
       "       'June 2013', 'July 2013', 'August 2013', 'September 2013',\n",
       "       'October 2013', 'November 2013', 'December 2013', 'January 2014',\n",
       "       'February 2014', 'March 2014', 'April 2014', 'May 2014', 'June 2014',\n",
       "       'July 2014', 'August 2014', 'September 2014', 'October 2014',\n",
       "       'November 2014', 'December 2014', 'January 2015', 'February 2015',\n",
       "       'March 2015', 'April 2015', 'May 2015', 'June 2015', 'July 2015',\n",
       "       'August 2015', 'September 2015', 'October 2015', 'November 2015',\n",
       "       'December 2015', 'January 2016', 'February 2016', 'March 2016',\n",
       "       'April 2016', 'May 2016', 'June 2016', 'July 2016', 'August 2016',\n",
       "       'September 2016', 'October 2016', 'November 2016', 'December 2016',\n",
       "       'January 2017'],\n",
       "      dtype='object')"
      ]
     },
     "execution_count": 6,
     "metadata": {},
     "output_type": "execute_result"
    }
   ],
   "source": [
    "df.columns"
   ]
  },
  {
   "cell_type": "code",
   "execution_count": 7,
   "metadata": {
    "collapsed": true
   },
   "outputs": [],
   "source": [
    "## Extract data from January 2013 to January 2017\n",
    "data=df.drop(df.loc[:,'November 2010':'December 2012'],axis=1)"
   ]
  },
  {
   "cell_type": "code",
   "execution_count": 8,
   "metadata": {},
   "outputs": [
    {
     "data": {
      "text/html": [
       "<div>\n",
       "<style>\n",
       "    .dataframe thead tr:only-child th {\n",
       "        text-align: right;\n",
       "    }\n",
       "\n",
       "    .dataframe thead th {\n",
       "        text-align: left;\n",
       "    }\n",
       "\n",
       "    .dataframe tbody tr th {\n",
       "        vertical-align: top;\n",
       "    }\n",
       "</style>\n",
       "<table border=\"1\" class=\"dataframe\">\n",
       "  <thead>\n",
       "    <tr style=\"text-align: right;\">\n",
       "      <th></th>\n",
       "      <th>City Code</th>\n",
       "      <th>City</th>\n",
       "      <th>Metro</th>\n",
       "      <th>County</th>\n",
       "      <th>State</th>\n",
       "      <th>Population Rank</th>\n",
       "      <th>January 2013</th>\n",
       "      <th>February 2013</th>\n",
       "      <th>March 2013</th>\n",
       "      <th>April 2013</th>\n",
       "      <th>...</th>\n",
       "      <th>April 2016</th>\n",
       "      <th>May 2016</th>\n",
       "      <th>June 2016</th>\n",
       "      <th>July 2016</th>\n",
       "      <th>August 2016</th>\n",
       "      <th>September 2016</th>\n",
       "      <th>October 2016</th>\n",
       "      <th>November 2016</th>\n",
       "      <th>December 2016</th>\n",
       "      <th>January 2017</th>\n",
       "    </tr>\n",
       "  </thead>\n",
       "  <tbody>\n",
       "    <tr>\n",
       "      <th>0</th>\n",
       "      <td>6181</td>\n",
       "      <td>New York</td>\n",
       "      <td>New York</td>\n",
       "      <td>Queens</td>\n",
       "      <td>NY</td>\n",
       "      <td>1</td>\n",
       "      <td>1851</td>\n",
       "      <td>1870</td>\n",
       "      <td>1888</td>\n",
       "      <td>1901</td>\n",
       "      <td>...</td>\n",
       "      <td>2334</td>\n",
       "      <td>2339</td>\n",
       "      <td>2345</td>\n",
       "      <td>2344</td>\n",
       "      <td>2336</td>\n",
       "      <td>2324</td>\n",
       "      <td>2318</td>\n",
       "      <td>2321</td>\n",
       "      <td>2321</td>\n",
       "      <td>2322</td>\n",
       "    </tr>\n",
       "    <tr>\n",
       "      <th>1</th>\n",
       "      <td>12447</td>\n",
       "      <td>Los Angeles</td>\n",
       "      <td>Los Angeles</td>\n",
       "      <td>Los Angeles</td>\n",
       "      <td>CA</td>\n",
       "      <td>2</td>\n",
       "      <td>2194</td>\n",
       "      <td>2203</td>\n",
       "      <td>2212</td>\n",
       "      <td>2222</td>\n",
       "      <td>...</td>\n",
       "      <td>2637</td>\n",
       "      <td>2662</td>\n",
       "      <td>2687</td>\n",
       "      <td>2704</td>\n",
       "      <td>2716</td>\n",
       "      <td>2723</td>\n",
       "      <td>2731</td>\n",
       "      <td>2740</td>\n",
       "      <td>2748</td>\n",
       "      <td>2753</td>\n",
       "    </tr>\n",
       "    <tr>\n",
       "      <th>2</th>\n",
       "      <td>17426</td>\n",
       "      <td>Chicago</td>\n",
       "      <td>Chicago</td>\n",
       "      <td>Cook</td>\n",
       "      <td>IL</td>\n",
       "      <td>3</td>\n",
       "      <td>1514</td>\n",
       "      <td>1511</td>\n",
       "      <td>1512</td>\n",
       "      <td>1527</td>\n",
       "      <td>...</td>\n",
       "      <td>1684</td>\n",
       "      <td>1686</td>\n",
       "      <td>1687</td>\n",
       "      <td>1685</td>\n",
       "      <td>1681</td>\n",
       "      <td>1675</td>\n",
       "      <td>1668</td>\n",
       "      <td>1656</td>\n",
       "      <td>1644</td>\n",
       "      <td>1632</td>\n",
       "    </tr>\n",
       "    <tr>\n",
       "      <th>3</th>\n",
       "      <td>39051</td>\n",
       "      <td>Houston</td>\n",
       "      <td>Houston</td>\n",
       "      <td>Harris</td>\n",
       "      <td>TX</td>\n",
       "      <td>4</td>\n",
       "      <td>1201</td>\n",
       "      <td>1208</td>\n",
       "      <td>1218</td>\n",
       "      <td>1227</td>\n",
       "      <td>...</td>\n",
       "      <td>1444</td>\n",
       "      <td>1446</td>\n",
       "      <td>1446</td>\n",
       "      <td>1443</td>\n",
       "      <td>1440</td>\n",
       "      <td>1438</td>\n",
       "      <td>1437</td>\n",
       "      <td>1437</td>\n",
       "      <td>1435</td>\n",
       "      <td>1430</td>\n",
       "    </tr>\n",
       "    <tr>\n",
       "      <th>4</th>\n",
       "      <td>13271</td>\n",
       "      <td>Philadelphia</td>\n",
       "      <td>Philadelphia</td>\n",
       "      <td>Philadelphia</td>\n",
       "      <td>PA</td>\n",
       "      <td>5</td>\n",
       "      <td>1083</td>\n",
       "      <td>1081</td>\n",
       "      <td>1083</td>\n",
       "      <td>1089</td>\n",
       "      <td>...</td>\n",
       "      <td>1206</td>\n",
       "      <td>1211</td>\n",
       "      <td>1218</td>\n",
       "      <td>1222</td>\n",
       "      <td>1223</td>\n",
       "      <td>1220</td>\n",
       "      <td>1216</td>\n",
       "      <td>1211</td>\n",
       "      <td>1209</td>\n",
       "      <td>1212</td>\n",
       "    </tr>\n",
       "  </tbody>\n",
       "</table>\n",
       "<p>5 rows × 55 columns</p>\n",
       "</div>"
      ],
      "text/plain": [
       "   City Code          City         Metro        County State  Population Rank  \\\n",
       "0       6181      New York      New York        Queens    NY                1   \n",
       "1      12447   Los Angeles   Los Angeles   Los Angeles    CA                2   \n",
       "2      17426       Chicago       Chicago          Cook    IL                3   \n",
       "3      39051       Houston       Houston        Harris    TX                4   \n",
       "4      13271  Philadelphia  Philadelphia  Philadelphia    PA                5   \n",
       "\n",
       "   January 2013  February 2013  March 2013  April 2013      ...       \\\n",
       "0          1851           1870        1888        1901      ...        \n",
       "1          2194           2203        2212        2222      ...        \n",
       "2          1514           1511        1512        1527      ...        \n",
       "3          1201           1208        1218        1227      ...        \n",
       "4          1083           1081        1083        1089      ...        \n",
       "\n",
       "   April 2016  May 2016  June 2016  July 2016  August 2016  September 2016  \\\n",
       "0        2334      2339       2345       2344         2336            2324   \n",
       "1        2637      2662       2687       2704         2716            2723   \n",
       "2        1684      1686       1687       1685         1681            1675   \n",
       "3        1444      1446       1446       1443         1440            1438   \n",
       "4        1206      1211       1218       1222         1223            1220   \n",
       "\n",
       "   October 2016  November 2016  December 2016  January 2017  \n",
       "0          2318           2321           2321          2322  \n",
       "1          2731           2740           2748          2753  \n",
       "2          1668           1656           1644          1632  \n",
       "3          1437           1437           1435          1430  \n",
       "4          1216           1211           1209          1212  \n",
       "\n",
       "[5 rows x 55 columns]"
      ]
     },
     "execution_count": 8,
     "metadata": {},
     "output_type": "execute_result"
    }
   ],
   "source": [
    "data.head()"
   ]
  },
  {
   "cell_type": "code",
   "execution_count": 9,
   "metadata": {
    "collapsed": true
   },
   "outputs": [],
   "source": [
    "price=pd.melt(data,id_vars=['City Code', 'City', 'Metro', 'County', 'State', 'Population Rank'],var_name='Time',value_name='Price')"
   ]
  },
  {
   "cell_type": "code",
   "execution_count": 10,
   "metadata": {},
   "outputs": [
    {
     "data": {
      "text/html": [
       "<div>\n",
       "<style>\n",
       "    .dataframe thead tr:only-child th {\n",
       "        text-align: right;\n",
       "    }\n",
       "\n",
       "    .dataframe thead th {\n",
       "        text-align: left;\n",
       "    }\n",
       "\n",
       "    .dataframe tbody tr th {\n",
       "        vertical-align: top;\n",
       "    }\n",
       "</style>\n",
       "<table border=\"1\" class=\"dataframe\">\n",
       "  <thead>\n",
       "    <tr style=\"text-align: right;\">\n",
       "      <th></th>\n",
       "      <th>City Code</th>\n",
       "      <th>City</th>\n",
       "      <th>Metro</th>\n",
       "      <th>County</th>\n",
       "      <th>State</th>\n",
       "      <th>Population Rank</th>\n",
       "      <th>Time</th>\n",
       "      <th>Price</th>\n",
       "    </tr>\n",
       "  </thead>\n",
       "  <tbody>\n",
       "    <tr>\n",
       "      <th>0</th>\n",
       "      <td>6181</td>\n",
       "      <td>New York</td>\n",
       "      <td>New York</td>\n",
       "      <td>Queens</td>\n",
       "      <td>NY</td>\n",
       "      <td>1</td>\n",
       "      <td>January 2013</td>\n",
       "      <td>1851</td>\n",
       "    </tr>\n",
       "    <tr>\n",
       "      <th>1</th>\n",
       "      <td>12447</td>\n",
       "      <td>Los Angeles</td>\n",
       "      <td>Los Angeles</td>\n",
       "      <td>Los Angeles</td>\n",
       "      <td>CA</td>\n",
       "      <td>2</td>\n",
       "      <td>January 2013</td>\n",
       "      <td>2194</td>\n",
       "    </tr>\n",
       "    <tr>\n",
       "      <th>2</th>\n",
       "      <td>17426</td>\n",
       "      <td>Chicago</td>\n",
       "      <td>Chicago</td>\n",
       "      <td>Cook</td>\n",
       "      <td>IL</td>\n",
       "      <td>3</td>\n",
       "      <td>January 2013</td>\n",
       "      <td>1514</td>\n",
       "    </tr>\n",
       "    <tr>\n",
       "      <th>3</th>\n",
       "      <td>39051</td>\n",
       "      <td>Houston</td>\n",
       "      <td>Houston</td>\n",
       "      <td>Harris</td>\n",
       "      <td>TX</td>\n",
       "      <td>4</td>\n",
       "      <td>January 2013</td>\n",
       "      <td>1201</td>\n",
       "    </tr>\n",
       "    <tr>\n",
       "      <th>4</th>\n",
       "      <td>13271</td>\n",
       "      <td>Philadelphia</td>\n",
       "      <td>Philadelphia</td>\n",
       "      <td>Philadelphia</td>\n",
       "      <td>PA</td>\n",
       "      <td>5</td>\n",
       "      <td>January 2013</td>\n",
       "      <td>1083</td>\n",
       "    </tr>\n",
       "  </tbody>\n",
       "</table>\n",
       "</div>"
      ],
      "text/plain": [
       "   City Code          City         Metro        County State  Population Rank  \\\n",
       "0       6181      New York      New York        Queens    NY                1   \n",
       "1      12447   Los Angeles   Los Angeles   Los Angeles    CA                2   \n",
       "2      17426       Chicago       Chicago          Cook    IL                3   \n",
       "3      39051       Houston       Houston        Harris    TX                4   \n",
       "4      13271  Philadelphia  Philadelphia  Philadelphia    PA                5   \n",
       "\n",
       "           Time  Price  \n",
       "0  January 2013   1851  \n",
       "1  January 2013   2194  \n",
       "2  January 2013   1514  \n",
       "3  January 2013   1201  \n",
       "4  January 2013   1083  "
      ]
     },
     "execution_count": 10,
     "metadata": {},
     "output_type": "execute_result"
    }
   ],
   "source": [
    "price.head()"
   ]
  },
  {
   "cell_type": "code",
   "execution_count": 11,
   "metadata": {},
   "outputs": [
    {
     "name": "stdout",
     "output_type": "stream",
     "text": [
      "<class 'pandas.core.frame.DataFrame'>\n",
      "RangeIndex: 643419 entries, 0 to 643418\n",
      "Data columns (total 8 columns):\n",
      "City Code          643419 non-null int64\n",
      "City               643419 non-null object\n",
      "Metro              583051 non-null object\n",
      "County             643419 non-null object\n",
      "State              643419 non-null object\n",
      "Population Rank    643419 non-null int64\n",
      "Time               643419 non-null object\n",
      "Price              643419 non-null int64\n",
      "dtypes: int64(3), object(5)\n",
      "memory usage: 39.3+ MB\n"
     ]
    }
   ],
   "source": [
    "price.info()"
   ]
  },
  {
   "cell_type": "code",
   "execution_count": 12,
   "metadata": {
    "collapsed": true
   },
   "outputs": [],
   "source": [
    "price['Month']=price['Time'].map(lambda x: x.split()[0])\n",
    "price['Year']=price['Time'].map(lambda x: x.split()[1])\n",
    "price['City_State']=price['City']+', '+price['State']"
   ]
  },
  {
   "cell_type": "code",
   "execution_count": 13,
   "metadata": {
    "collapsed": true
   },
   "outputs": [],
   "source": [
    "monthMap={'January':1, 'February':2, 'March':3, 'April':4, 'May':5, 'June':6, \n",
    "          'July':7, 'August':8, 'September':9, 'October':10, 'November':11, 'December':12}\n",
    "price['Month']=price['Month'].map(monthMap)"
   ]
  },
  {
   "cell_type": "code",
   "execution_count": 14,
   "metadata": {},
   "outputs": [
    {
     "data": {
      "text/html": [
       "<div>\n",
       "<style>\n",
       "    .dataframe thead tr:only-child th {\n",
       "        text-align: right;\n",
       "    }\n",
       "\n",
       "    .dataframe thead th {\n",
       "        text-align: left;\n",
       "    }\n",
       "\n",
       "    .dataframe tbody tr th {\n",
       "        vertical-align: top;\n",
       "    }\n",
       "</style>\n",
       "<table border=\"1\" class=\"dataframe\">\n",
       "  <thead>\n",
       "    <tr style=\"text-align: right;\">\n",
       "      <th></th>\n",
       "      <th>City Code</th>\n",
       "      <th>City</th>\n",
       "      <th>Metro</th>\n",
       "      <th>County</th>\n",
       "      <th>State</th>\n",
       "      <th>Population Rank</th>\n",
       "      <th>Time</th>\n",
       "      <th>Price</th>\n",
       "      <th>Month</th>\n",
       "      <th>Year</th>\n",
       "      <th>City_State</th>\n",
       "    </tr>\n",
       "  </thead>\n",
       "  <tbody>\n",
       "    <tr>\n",
       "      <th>0</th>\n",
       "      <td>6181</td>\n",
       "      <td>New York</td>\n",
       "      <td>New York</td>\n",
       "      <td>Queens</td>\n",
       "      <td>NY</td>\n",
       "      <td>1</td>\n",
       "      <td>January 2013</td>\n",
       "      <td>1851</td>\n",
       "      <td>1</td>\n",
       "      <td>2013</td>\n",
       "      <td>New York, NY</td>\n",
       "    </tr>\n",
       "    <tr>\n",
       "      <th>1</th>\n",
       "      <td>12447</td>\n",
       "      <td>Los Angeles</td>\n",
       "      <td>Los Angeles</td>\n",
       "      <td>Los Angeles</td>\n",
       "      <td>CA</td>\n",
       "      <td>2</td>\n",
       "      <td>January 2013</td>\n",
       "      <td>2194</td>\n",
       "      <td>1</td>\n",
       "      <td>2013</td>\n",
       "      <td>Los Angeles, CA</td>\n",
       "    </tr>\n",
       "    <tr>\n",
       "      <th>2</th>\n",
       "      <td>17426</td>\n",
       "      <td>Chicago</td>\n",
       "      <td>Chicago</td>\n",
       "      <td>Cook</td>\n",
       "      <td>IL</td>\n",
       "      <td>3</td>\n",
       "      <td>January 2013</td>\n",
       "      <td>1514</td>\n",
       "      <td>1</td>\n",
       "      <td>2013</td>\n",
       "      <td>Chicago, IL</td>\n",
       "    </tr>\n",
       "    <tr>\n",
       "      <th>3</th>\n",
       "      <td>39051</td>\n",
       "      <td>Houston</td>\n",
       "      <td>Houston</td>\n",
       "      <td>Harris</td>\n",
       "      <td>TX</td>\n",
       "      <td>4</td>\n",
       "      <td>January 2013</td>\n",
       "      <td>1201</td>\n",
       "      <td>1</td>\n",
       "      <td>2013</td>\n",
       "      <td>Houston, TX</td>\n",
       "    </tr>\n",
       "    <tr>\n",
       "      <th>4</th>\n",
       "      <td>13271</td>\n",
       "      <td>Philadelphia</td>\n",
       "      <td>Philadelphia</td>\n",
       "      <td>Philadelphia</td>\n",
       "      <td>PA</td>\n",
       "      <td>5</td>\n",
       "      <td>January 2013</td>\n",
       "      <td>1083</td>\n",
       "      <td>1</td>\n",
       "      <td>2013</td>\n",
       "      <td>Philadelphia, PA</td>\n",
       "    </tr>\n",
       "  </tbody>\n",
       "</table>\n",
       "</div>"
      ],
      "text/plain": [
       "   City Code          City         Metro        County State  Population Rank  \\\n",
       "0       6181      New York      New York        Queens    NY                1   \n",
       "1      12447   Los Angeles   Los Angeles   Los Angeles    CA                2   \n",
       "2      17426       Chicago       Chicago          Cook    IL                3   \n",
       "3      39051       Houston       Houston        Harris    TX                4   \n",
       "4      13271  Philadelphia  Philadelphia  Philadelphia    PA                5   \n",
       "\n",
       "           Time  Price  Month  Year        City_State  \n",
       "0  January 2013   1851      1  2013      New York, NY  \n",
       "1  January 2013   2194      1  2013   Los Angeles, CA  \n",
       "2  January 2013   1514      1  2013       Chicago, IL  \n",
       "3  January 2013   1201      1  2013       Houston, TX  \n",
       "4  January 2013   1083      1  2013  Philadelphia, PA  "
      ]
     },
     "execution_count": 14,
     "metadata": {},
     "output_type": "execute_result"
    }
   ],
   "source": [
    "price.head()"
   ]
  },
  {
   "cell_type": "markdown",
   "metadata": {},
   "source": [
    "____\n",
    "## EDA"
   ]
  },
  {
   "cell_type": "code",
   "execution_count": 15,
   "metadata": {
    "collapsed": true
   },
   "outputs": [],
   "source": [
    "Jan2017=price[price['Time']=='January 2017'][['Price','City_State']].sort_values(by='Price',ascending=False)"
   ]
  },
  {
   "cell_type": "markdown",
   "metadata": {},
   "source": [
    "** Most 10 expensive cities in January 2017: **"
   ]
  },
  {
   "cell_type": "code",
   "execution_count": 16,
   "metadata": {},
   "outputs": [
    {
     "data": {
      "text/plain": [
       "<matplotlib.axes._subplots.AxesSubplot at 0x10f023518>"
      ]
     },
     "execution_count": 16,
     "metadata": {},
     "output_type": "execute_result"
    },
    {
     "data": {
      "text/plain": [
       "([<matplotlib.axis.YTick at 0x1206d8cc0>,\n",
       "  <matplotlib.axis.YTick at 0x10f3530f0>,\n",
       "  <matplotlib.axis.YTick at 0x119342cf8>,\n",
       "  <matplotlib.axis.YTick at 0x11933ae48>,\n",
       "  <matplotlib.axis.YTick at 0x11933a470>,\n",
       "  <matplotlib.axis.YTick at 0x119336a58>,\n",
       "  <matplotlib.axis.YTick at 0x119336080>,\n",
       "  <matplotlib.axis.YTick at 0x11933ab38>,\n",
       "  <matplotlib.axis.YTick at 0x1207eceb8>,\n",
       "  <matplotlib.axis.YTick at 0x105216588>],\n",
       " <a list of 10 Text yticklabel objects>)"
      ]
     },
     "execution_count": 16,
     "metadata": {},
     "output_type": "execute_result"
    },
    {
     "data": {
      "text/plain": [
       "<matplotlib.text.Text at 0x1051ec860>"
      ]
     },
     "execution_count": 16,
     "metadata": {},
     "output_type": "execute_result"
    },
    {
     "data": {
      "image/png": "[encoded data removed]",
      "text/plain": [
       "<matplotlib.figure.Figure at 0x119352400>"
      ]
     },
     "metadata": {},
     "output_type": "display_data"
    }
   ],
   "source": [
    "## Most expensive 10 cities in Jan 2017\n",
    "Jan2017.head(10).plot(kind='barh',use_index=False)\n",
    "plt.yticks(np.arange(10),Jan2017['City_State'])\n",
    "plt.title('Most expensive 10 cities in Jan 2017')"
   ]
  },
  {
   "cell_type": "markdown",
   "metadata": {
    "collapsed": true
   },
   "source": [
    "** Lowest rent of 10 cities in January 2017: **"
   ]
  },
  {
   "cell_type": "code",
   "execution_count": 17,
   "metadata": {},
   "outputs": [
    {
     "data": {
      "text/plain": [
       "<matplotlib.axes._subplots.AxesSubplot at 0x10f0089b0>"
      ]
     },
     "execution_count": 17,
     "metadata": {},
     "output_type": "execute_result"
    },
    {
     "data": {
      "text/plain": [
       "([<matplotlib.axis.YTick at 0x10c235d30>,\n",
       "  <matplotlib.axis.YTick at 0x10c25a3c8>,\n",
       "  <matplotlib.axis.YTick at 0x1051be518>,\n",
       "  <matplotlib.axis.YTick at 0x1051b89b0>,\n",
       "  <matplotlib.axis.YTick at 0x1051b43c8>,\n",
       "  <matplotlib.axis.YTick at 0x1051b4da0>,\n",
       "  <matplotlib.axis.YTick at 0x1051af7b8>,\n",
       "  <matplotlib.axis.YTick at 0x10c235470>,\n",
       "  <matplotlib.axis.YTick at 0x10c24b4e0>,\n",
       "  <matplotlib.axis.YTick at 0x1051a1c50>],\n",
       " <a list of 10 Text yticklabel objects>)"
      ]
     },
     "execution_count": 17,
     "metadata": {},
     "output_type": "execute_result"
    },
    {
     "data": {
      "text/plain": [
       "<matplotlib.text.Text at 0x11b6705c0>"
      ]
     },
     "execution_count": 17,
     "metadata": {},
     "output_type": "execute_result"
    },
    {
     "data": {
      "image/png": "[encoded data removed]",
      "text/plain": [
       "<matplotlib.figure.Figure at 0x11de80e80>"
      ]
     },
     "metadata": {},
     "output_type": "display_data"
    }
   ],
   "source": [
    "## Lowest 10 cities in January 2017\n",
    "Jan2017.tail(10).plot(kind='barh',use_index=False)\n",
    "plt.yticks(np.arange(10),Jan2017['City_State'])\n",
    "plt.title('Lowest 10 cities in Jan 2017')"
   ]
  },
  {
   "cell_type": "markdown",
   "metadata": {
    "collapsed": true
   },
   "source": [
    "___\n",
    "** Most 10 expensive cities in 2016: **"
   ]
  },
  {
   "cell_type": "code",
   "execution_count": 18,
   "metadata": {
    "collapsed": true
   },
   "outputs": [],
   "source": [
    "median=price.groupby(['Year','City_State'])['Price'].median().unstack('Year')"
   ]
  },
  {
   "cell_type": "code",
   "execution_count": 19,
   "metadata": {},
   "outputs": [
    {
     "data": {
      "text/plain": [
       "<matplotlib.axes._subplots.AxesSubplot at 0x1051b8da0>"
      ]
     },
     "execution_count": 19,
     "metadata": {},
     "output_type": "execute_result"
    },
    {
     "data": {
      "text/plain": [
       "<matplotlib.text.Text at 0x112272dd8>"
      ]
     },
     "execution_count": 19,
     "metadata": {},
     "output_type": "execute_result"
    },
    {
     "data": {
      "image/png": "[encoded data removed]",
      "text/plain": [
       "<matplotlib.figure.Figure at 0x1051a9c88>"
      ]
     },
     "metadata": {},
     "output_type": "display_data"
    }
   ],
   "source": [
    "## Top 10 cities of 2016\n",
    "median['2016'].sort_values(ascending=False).head(10).plot(kind='barh')\n",
    "plt.title('Most 10 expensice cities in 2016')"
   ]
  },
  {
   "cell_type": "markdown",
   "metadata": {},
   "source": [
    "** Lowest rent of 10 cities in 2016: **"
   ]
  },
  {
   "cell_type": "code",
   "execution_count": 20,
   "metadata": {},
   "outputs": [
    {
     "data": {
      "text/plain": [
       "<matplotlib.axes._subplots.AxesSubplot at 0x11dddefd0>"
      ]
     },
     "execution_count": 20,
     "metadata": {},
     "output_type": "execute_result"
    },
    {
     "data": {
      "text/plain": [
       "<matplotlib.text.Text at 0x11ddb2978>"
      ]
     },
     "execution_count": 20,
     "metadata": {},
     "output_type": "execute_result"
    },
    {
     "data": {
      "image/png": "[encoded data removed]",
      "text/plain": [
       "<matplotlib.figure.Figure at 0x119297f98>"
      ]
     },
     "metadata": {},
     "output_type": "display_data"
    }
   ],
   "source": [
    "## Lowest 10 cities in 2016\n",
    "median['2016'].sort_values(ascending=False).tail(10).plot(kind='barh')\n",
    "plt.title('Lowest rent of 10 cities in 2016')"
   ]
  },
  {
   "cell_type": "markdown",
   "metadata": {},
   "source": [
    "____\n",
    "** Most 10 expensive metro areas in 2016:**"
   ]
  },
  {
   "cell_type": "code",
   "execution_count": 21,
   "metadata": {
    "collapsed": true
   },
   "outputs": [],
   "source": [
    "metro=price.groupby(['Year','Metro'])['Price'].median().unstack('Year')"
   ]
  },
  {
   "cell_type": "code",
   "execution_count": 22,
   "metadata": {},
   "outputs": [
    {
     "data": {
      "text/plain": [
       "<matplotlib.axes._subplots.AxesSubplot at 0x10efd1b70>"
      ]
     },
     "execution_count": 22,
     "metadata": {},
     "output_type": "execute_result"
    },
    {
     "data": {
      "text/plain": [
       "<matplotlib.text.Text at 0x10c273ba8>"
      ]
     },
     "execution_count": 22,
     "metadata": {},
     "output_type": "execute_result"
    },
    {
     "data": {
      "image/png": "[encoded data removed]",
      "text/plain": [
       "<matplotlib.figure.Figure at 0x11ddcd860>"
      ]
     },
     "metadata": {},
     "output_type": "display_data"
    }
   ],
   "source": [
    "## Top 10 Metro in 2016\n",
    "metro['2016'].sort_values(ascending=False).head(10).plot(kind='barh')\n",
    "plt.title('Most 10 Expensive Metro Areas in 2016')"
   ]
  },
  {
   "cell_type": "markdown",
   "metadata": {
    "collapsed": true
   },
   "source": [
    "** Most 10 expensive metro areas in January 2017:**"
   ]
  },
  {
   "cell_type": "code",
   "execution_count": 23,
   "metadata": {},
   "outputs": [
    {
     "data": {
      "text/plain": [
       "<matplotlib.axes._subplots.AxesSubplot at 0x10ee42320>"
      ]
     },
     "execution_count": 23,
     "metadata": {},
     "output_type": "execute_result"
    },
    {
     "data": {
      "text/plain": [
       "<matplotlib.text.Text at 0x109aadac8>"
      ]
     },
     "execution_count": 23,
     "metadata": {},
     "output_type": "execute_result"
    },
    {
     "data": {
      "image/png": "[encoded data removed]",
      "text/plain": [
       "<matplotlib.figure.Figure at 0x10f0e3e80>"
      ]
     },
     "metadata": {},
     "output_type": "display_data"
    }
   ],
   "source": [
    "## Top 10 Metro in January 2017\n",
    "metro['2017'].groupby('Metro').median().sort_values(ascending=False).head(10).plot(kind='barh')\n",
    "plt.title('Most 10 expensive Metro Areas in Jan 2017')"
   ]
  },
  {
   "cell_type": "markdown",
   "metadata": {
    "collapsed": true
   },
   "source": [
    "____\n",
    "** Where have rental prices increased in the past five years and where have they remained the same? **"
   ]
  },
  {
   "cell_type": "code",
   "execution_count": 24,
   "metadata": {
    "collapsed": true
   },
   "outputs": [],
   "source": [
    "price_group=price.sort_values(by=['City Code','Year','Month'])"
   ]
  },
  {
   "cell_type": "code",
   "execution_count": 25,
   "metadata": {},
   "outputs": [
    {
     "data": {
      "text/html": [
       "<div>\n",
       "<style>\n",
       "    .dataframe thead tr:only-child th {\n",
       "        text-align: right;\n",
       "    }\n",
       "\n",
       "    .dataframe thead th {\n",
       "        text-align: left;\n",
       "    }\n",
       "\n",
       "    .dataframe tbody tr th {\n",
       "        vertical-align: top;\n",
       "    }\n",
       "</style>\n",
       "<table border=\"1\" class=\"dataframe\">\n",
       "  <thead>\n",
       "    <tr style=\"text-align: right;\">\n",
       "      <th></th>\n",
       "      <th>City Code</th>\n",
       "      <th>City</th>\n",
       "      <th>Metro</th>\n",
       "      <th>County</th>\n",
       "      <th>State</th>\n",
       "      <th>Population Rank</th>\n",
       "      <th>Time</th>\n",
       "      <th>Price</th>\n",
       "      <th>Month</th>\n",
       "      <th>Year</th>\n",
       "      <th>City_State</th>\n",
       "    </tr>\n",
       "  </thead>\n",
       "  <tbody>\n",
       "    <tr>\n",
       "      <th>7596</th>\n",
       "      <td>3300</td>\n",
       "      <td>Aberdeen</td>\n",
       "      <td>Blackfoot</td>\n",
       "      <td>Bingham</td>\n",
       "      <td>ID</td>\n",
       "      <td>7597</td>\n",
       "      <td>January 2013</td>\n",
       "      <td>754</td>\n",
       "      <td>1</td>\n",
       "      <td>2013</td>\n",
       "      <td>Aberdeen, ID</td>\n",
       "    </tr>\n",
       "    <tr>\n",
       "      <th>20727</th>\n",
       "      <td>3300</td>\n",
       "      <td>Aberdeen</td>\n",
       "      <td>Blackfoot</td>\n",
       "      <td>Bingham</td>\n",
       "      <td>ID</td>\n",
       "      <td>7597</td>\n",
       "      <td>February 2013</td>\n",
       "      <td>742</td>\n",
       "      <td>2</td>\n",
       "      <td>2013</td>\n",
       "      <td>Aberdeen, ID</td>\n",
       "    </tr>\n",
       "    <tr>\n",
       "      <th>33858</th>\n",
       "      <td>3300</td>\n",
       "      <td>Aberdeen</td>\n",
       "      <td>Blackfoot</td>\n",
       "      <td>Bingham</td>\n",
       "      <td>ID</td>\n",
       "      <td>7597</td>\n",
       "      <td>March 2013</td>\n",
       "      <td>737</td>\n",
       "      <td>3</td>\n",
       "      <td>2013</td>\n",
       "      <td>Aberdeen, ID</td>\n",
       "    </tr>\n",
       "    <tr>\n",
       "      <th>46989</th>\n",
       "      <td>3300</td>\n",
       "      <td>Aberdeen</td>\n",
       "      <td>Blackfoot</td>\n",
       "      <td>Bingham</td>\n",
       "      <td>ID</td>\n",
       "      <td>7597</td>\n",
       "      <td>April 2013</td>\n",
       "      <td>742</td>\n",
       "      <td>4</td>\n",
       "      <td>2013</td>\n",
       "      <td>Aberdeen, ID</td>\n",
       "    </tr>\n",
       "    <tr>\n",
       "      <th>60120</th>\n",
       "      <td>3300</td>\n",
       "      <td>Aberdeen</td>\n",
       "      <td>Blackfoot</td>\n",
       "      <td>Bingham</td>\n",
       "      <td>ID</td>\n",
       "      <td>7597</td>\n",
       "      <td>May 2013</td>\n",
       "      <td>755</td>\n",
       "      <td>5</td>\n",
       "      <td>2013</td>\n",
       "      <td>Aberdeen, ID</td>\n",
       "    </tr>\n",
       "  </tbody>\n",
       "</table>\n",
       "</div>"
      ],
      "text/plain": [
       "       City Code      City      Metro   County State  Population Rank  \\\n",
       "7596        3300  Aberdeen  Blackfoot  Bingham    ID             7597   \n",
       "20727       3300  Aberdeen  Blackfoot  Bingham    ID             7597   \n",
       "33858       3300  Aberdeen  Blackfoot  Bingham    ID             7597   \n",
       "46989       3300  Aberdeen  Blackfoot  Bingham    ID             7597   \n",
       "60120       3300  Aberdeen  Blackfoot  Bingham    ID             7597   \n",
       "\n",
       "                Time  Price  Month  Year    City_State  \n",
       "7596    January 2013    754      1  2013  Aberdeen, ID  \n",
       "20727  February 2013    742      2  2013  Aberdeen, ID  \n",
       "33858     March 2013    737      3  2013  Aberdeen, ID  \n",
       "46989     April 2013    742      4  2013  Aberdeen, ID  \n",
       "60120       May 2013    755      5  2013  Aberdeen, ID  "
      ]
     },
     "execution_count": 25,
     "metadata": {},
     "output_type": "execute_result"
    }
   ],
   "source": [
    "price_group.head()"
   ]
  },
  {
   "cell_type": "code",
   "execution_count": 26,
   "metadata": {
    "collapsed": true
   },
   "outputs": [],
   "source": [
    "price_group2=price.groupby(['City_State','Year'])['Price'].median().unstack('Year')"
   ]
  },
  {
   "cell_type": "code",
   "execution_count": 27,
   "metadata": {},
   "outputs": [
    {
     "data": {
      "text/plain": [
       "City_State\n",
       "Sea Island, GA             0.638269\n",
       "Oakland, CA                0.607362\n",
       "Bonita Springs, FL         0.581281\n",
       "Otisville, MI              0.556535\n",
       "Fisher Island, FL          0.553089\n",
       "Saint Simons Island, GA    0.552399\n",
       "Davison, MI                0.549474\n",
       "Albany, CA                 0.543004\n",
       "Hilton Head Island, SC     0.534459\n",
       "Emeryville, CA             0.526134\n",
       "dtype: float64"
      ]
     },
     "execution_count": 27,
     "metadata": {},
     "output_type": "execute_result"
    }
   ],
   "source": [
    "((price_group2['2017']-price_group2['2013'])/price_group2['2013']).sort_values(ascending=False).head(10)"
   ]
  },
  {
   "cell_type": "code",
   "execution_count": 28,
   "metadata": {},
   "outputs": [
    {
     "data": {
      "text/plain": [
       "City_State\n",
       "Lohman, MO                 0.294643\n",
       "Plandome, NY               0.285236\n",
       "Freeport, TX               0.246043\n",
       "Mazon, IL                  0.235867\n",
       "Gardner, IL                0.234375\n",
       "Pepper Pike, OH            0.220886\n",
       "Mount Crested Butte, CO    0.220469\n",
       "Coal City, IL              0.217949\n",
       "Grand Ridge, FL            0.217326\n",
       "Put in Bay, OH             0.215183\n",
       "dtype: float64"
      ]
     },
     "execution_count": 28,
     "metadata": {},
     "output_type": "execute_result"
    }
   ],
   "source": [
    "((price_group2['2016']-price_group2['2015'])/price_group2['2015']).sort_values(ascending=False).head(10)"
   ]
  },
  {
   "cell_type": "markdown",
   "metadata": {},
   "source": [
    "___\n",
    "** The change of most 5 expensive metro areas rent from January 2013 to January 2017:**"
   ]
  },
  {
   "cell_type": "code",
   "execution_count": 29,
   "metadata": {
    "collapsed": true
   },
   "outputs": [],
   "source": [
    "index=metro['2016'].sort_values(ascending=False).head(5).index"
   ]
  },
  {
   "cell_type": "code",
   "execution_count": 30,
   "metadata": {},
   "outputs": [
    {
     "data": {
      "text/plain": [
       "<matplotlib.figure.Figure at 0x109aa14e0>"
      ]
     },
     "execution_count": 30,
     "metadata": {},
     "output_type": "execute_result"
    },
    {
     "data": {
      "text/plain": [
       "<matplotlib.axes._subplots.AxesSubplot at 0x10ee30710>"
      ]
     },
     "execution_count": 30,
     "metadata": {},
     "output_type": "execute_result"
    },
    {
     "data": {
      "text/plain": [
       "<matplotlib.legend.Legend at 0x109a9eba8>"
      ]
     },
     "execution_count": 30,
     "metadata": {},
     "output_type": "execute_result"
    },
    {
     "data": {
      "text/plain": [
       "<matplotlib.axes._subplots.AxesSubplot at 0x10ee30710>"
      ]
     },
     "execution_count": 30,
     "metadata": {},
     "output_type": "execute_result"
    },
    {
     "data": {
      "text/plain": [
       "<matplotlib.legend.Legend at 0x10c4c2160>"
      ]
     },
     "execution_count": 30,
     "metadata": {},
     "output_type": "execute_result"
    },
    {
     "data": {
      "text/plain": [
       "<matplotlib.axes._subplots.AxesSubplot at 0x10ee30710>"
      ]
     },
     "execution_count": 30,
     "metadata": {},
     "output_type": "execute_result"
    },
    {
     "data": {
      "text/plain": [
       "<matplotlib.legend.Legend at 0x10ef8ba20>"
      ]
     },
     "execution_count": 30,
     "metadata": {},
     "output_type": "execute_result"
    },
    {
     "data": {
      "text/plain": [
       "<matplotlib.axes._subplots.AxesSubplot at 0x10ee30710>"
      ]
     },
     "execution_count": 30,
     "metadata": {},
     "output_type": "execute_result"
    },
    {
     "data": {
      "text/plain": [
       "<matplotlib.legend.Legend at 0x10c4d9cc0>"
      ]
     },
     "execution_count": 30,
     "metadata": {},
     "output_type": "execute_result"
    },
    {
     "data": {
      "text/plain": [
       "<matplotlib.axes._subplots.AxesSubplot at 0x10ee30710>"
      ]
     },
     "execution_count": 30,
     "metadata": {},
     "output_type": "execute_result"
    },
    {
     "data": {
      "text/plain": [
       "<matplotlib.legend.Legend at 0x10efb8ac8>"
      ]
     },
     "execution_count": 30,
     "metadata": {},
     "output_type": "execute_result"
    },
    {
     "data": {
      "image/png": "[encoded data removed]",
      "text/plain": [
       "<matplotlib.figure.Figure at 0x109aa14e0>"
      ]
     },
     "metadata": {},
     "output_type": "display_data"
    }
   ],
   "source": [
    "plt.figure(figsize=(12,6))\n",
    "for name in index.values:\n",
    "    price[price['Metro']==name].groupby(['Year','Month'])['Price'].median().plot(label=name)\n",
    "    plt.legend()"
   ]
  },
  {
   "cell_type": "markdown",
   "metadata": {},
   "source": [
    "____\n",
    "** Cities where rent prices have remained the same from 2015 to 2016:**"
   ]
  },
  {
   "cell_type": "code",
   "execution_count": 31,
   "metadata": {
    "collapsed": true
   },
   "outputs": [],
   "source": [
    "remained=(price_group2['2016']-price_group2['2015'])/price_group2['2015']"
   ]
  },
  {
   "cell_type": "code",
   "execution_count": 32,
   "metadata": {},
   "outputs": [
    {
     "data": {
      "text/plain": [
       "['Alexandria, VA',\n",
       " 'Ancram, NY',\n",
       " 'Bald Knob, AR',\n",
       " 'Bingham Farms, MI',\n",
       " 'Blackville, SC',\n",
       " 'Bradford, TN',\n",
       " 'Bressler-Enhaut-Oberlin, PA',\n",
       " 'Bucyrus, OH',\n",
       " 'Cleveland, OH',\n",
       " 'Darwin, MN',\n",
       " 'Denton, NC',\n",
       " 'Dinuba, CA',\n",
       " 'Dinwiddie, VA',\n",
       " 'District Heights, MD',\n",
       " 'Fairbury, IL',\n",
       " 'Fredericksburg, VA',\n",
       " 'Freeland, PA',\n",
       " 'Fruita, CO',\n",
       " 'Fulton, PA',\n",
       " 'Gibbsboro, NJ',\n",
       " 'Glassport, PA',\n",
       " 'Greenwood, AR',\n",
       " 'Harleton, TX',\n",
       " 'Hedgesville, WV',\n",
       " 'Holland, OH',\n",
       " 'Hurricane, WV',\n",
       " 'Lackawaxen, PA',\n",
       " 'Lebanon Junction, KY',\n",
       " 'Lincoln Park, MI',\n",
       " 'Luther, MI',\n",
       " 'Lyndhurst, NJ',\n",
       " 'Mc David, FL',\n",
       " 'McKeesport, PA',\n",
       " 'Mendon, MI',\n",
       " 'Midfield, AL',\n",
       " 'Milford, DE',\n",
       " 'Mountain Lake Park, MD',\n",
       " 'Needles, CA',\n",
       " 'North Lewisburg, OH',\n",
       " 'Oxford, MS',\n",
       " 'Plattsmouth, NE',\n",
       " 'Pleasantville, NY',\n",
       " 'Ridgefield, NJ',\n",
       " 'Saint Charles, MI',\n",
       " 'Shillington, PA',\n",
       " 'Sinking Spring, PA',\n",
       " 'Steelton, PA',\n",
       " 'Sugar Creek, WI',\n",
       " 'Tarrant, AL',\n",
       " 'Trafalgar, IN',\n",
       " 'Wallisville, TX',\n",
       " 'Ward, AR',\n",
       " 'Waterville, ME',\n",
       " 'Wellston, OH',\n",
       " 'Woodlawn, IL']"
      ]
     },
     "execution_count": 32,
     "metadata": {},
     "output_type": "execute_result"
    }
   ],
   "source": [
    "remained[remained==0].index.tolist()"
   ]
  },
  {
   "cell_type": "code",
   "execution_count": null,
   "metadata": {
    "collapsed": true
   },
   "outputs": [],
   "source": []
  }
 ],
 "metadata": {
  "kernelspec": {
   "display_name": "Python 3",
   "language": "python",
   "name": "python3"
  },
  "language_info": {
   "codemirror_mode": {
    "name": "ipython",
    "version": 3
   },
   "file_extension": ".py",
   "mimetype": "text/x-python",
   "name": "python",
   "nbconvert_exporter": "python",
   "pygments_lexer": "ipython3",
   "version": "3.5.2"
  }
 },
 "nbformat": 4,
 "nbformat_minor": 2
}
