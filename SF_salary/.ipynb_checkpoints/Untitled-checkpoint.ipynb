{
 "cells": [
  {
   "cell_type": "code",
   "execution_count": 1,
   "metadata": {
    "collapsed": true
   },
   "outputs": [],
   "source": [
    "import pandas as pd\n",
    "import numpy as np\n",
    "import matplotlib.pyplot as plt\n",
    "import seaborn as sns\n",
    "%matplotlib inline"
   ]
  },
  {
   "cell_type": "code",
   "execution_count": 2,
   "metadata": {
    "collapsed": true
   },
   "outputs": [],
   "source": [
    "df=pd.read_csv('Salaries.csv',low_memory=False)"
   ]
  },
  {
   "cell_type": "code",
   "execution_count": 3,
   "metadata": {},
   "outputs": [
    {
     "data": {
      "text/html": [
       "<div>\n",
       "<style>\n",
       "    .dataframe thead tr:only-child th {\n",
       "        text-align: right;\n",
       "    }\n",
       "\n",
       "    .dataframe thead th {\n",
       "        text-align: left;\n",
       "    }\n",
       "\n",
       "    .dataframe tbody tr th {\n",
       "        vertical-align: top;\n",
       "    }\n",
       "</style>\n",
       "<table border=\"1\" class=\"dataframe\">\n",
       "  <thead>\n",
       "    <tr style=\"text-align: right;\">\n",
       "      <th></th>\n",
       "      <th>Id</th>\n",
       "      <th>EmployeeName</th>\n",
       "      <th>JobTitle</th>\n",
       "      <th>BasePay</th>\n",
       "      <th>OvertimePay</th>\n",
       "      <th>OtherPay</th>\n",
       "      <th>Benefits</th>\n",
       "      <th>TotalPay</th>\n",
       "      <th>TotalPayBenefits</th>\n",
       "      <th>Year</th>\n",
       "      <th>Notes</th>\n",
       "      <th>Agency</th>\n",
       "      <th>Status</th>\n",
       "    </tr>\n",
       "  </thead>\n",
       "  <tbody>\n",
       "    <tr>\n",
       "      <th>0</th>\n",
       "      <td>1</td>\n",
       "      <td>NATHANIEL FORD</td>\n",
       "      <td>GENERAL MANAGER-METROPOLITAN TRANSIT AUTHORITY</td>\n",
       "      <td>167411.18</td>\n",
       "      <td>0.0</td>\n",
       "      <td>400184.25</td>\n",
       "      <td>NaN</td>\n",
       "      <td>567595.43</td>\n",
       "      <td>567595.43</td>\n",
       "      <td>2011</td>\n",
       "      <td>NaN</td>\n",
       "      <td>San Francisco</td>\n",
       "      <td>NaN</td>\n",
       "    </tr>\n",
       "    <tr>\n",
       "      <th>1</th>\n",
       "      <td>2</td>\n",
       "      <td>GARY JIMENEZ</td>\n",
       "      <td>CAPTAIN III (POLICE DEPARTMENT)</td>\n",
       "      <td>155966.02</td>\n",
       "      <td>245131.88</td>\n",
       "      <td>137811.38</td>\n",
       "      <td>NaN</td>\n",
       "      <td>538909.28</td>\n",
       "      <td>538909.28</td>\n",
       "      <td>2011</td>\n",
       "      <td>NaN</td>\n",
       "      <td>San Francisco</td>\n",
       "      <td>NaN</td>\n",
       "    </tr>\n",
       "    <tr>\n",
       "      <th>2</th>\n",
       "      <td>3</td>\n",
       "      <td>ALBERT PARDINI</td>\n",
       "      <td>CAPTAIN III (POLICE DEPARTMENT)</td>\n",
       "      <td>212739.13</td>\n",
       "      <td>106088.18</td>\n",
       "      <td>16452.6</td>\n",
       "      <td>NaN</td>\n",
       "      <td>335279.91</td>\n",
       "      <td>335279.91</td>\n",
       "      <td>2011</td>\n",
       "      <td>NaN</td>\n",
       "      <td>San Francisco</td>\n",
       "      <td>NaN</td>\n",
       "    </tr>\n",
       "    <tr>\n",
       "      <th>3</th>\n",
       "      <td>4</td>\n",
       "      <td>CHRISTOPHER CHONG</td>\n",
       "      <td>WIRE ROPE CABLE MAINTENANCE MECHANIC</td>\n",
       "      <td>77916.0</td>\n",
       "      <td>56120.71</td>\n",
       "      <td>198306.9</td>\n",
       "      <td>NaN</td>\n",
       "      <td>332343.61</td>\n",
       "      <td>332343.61</td>\n",
       "      <td>2011</td>\n",
       "      <td>NaN</td>\n",
       "      <td>San Francisco</td>\n",
       "      <td>NaN</td>\n",
       "    </tr>\n",
       "    <tr>\n",
       "      <th>4</th>\n",
       "      <td>5</td>\n",
       "      <td>PATRICK GARDNER</td>\n",
       "      <td>DEPUTY CHIEF OF DEPARTMENT,(FIRE DEPARTMENT)</td>\n",
       "      <td>134401.6</td>\n",
       "      <td>9737.0</td>\n",
       "      <td>182234.59</td>\n",
       "      <td>NaN</td>\n",
       "      <td>326373.19</td>\n",
       "      <td>326373.19</td>\n",
       "      <td>2011</td>\n",
       "      <td>NaN</td>\n",
       "      <td>San Francisco</td>\n",
       "      <td>NaN</td>\n",
       "    </tr>\n",
       "  </tbody>\n",
       "</table>\n",
       "</div>"
      ],
      "text/plain": [
       "   Id       EmployeeName                                        JobTitle  \\\n",
       "0   1     NATHANIEL FORD  GENERAL MANAGER-METROPOLITAN TRANSIT AUTHORITY   \n",
       "1   2       GARY JIMENEZ                 CAPTAIN III (POLICE DEPARTMENT)   \n",
       "2   3     ALBERT PARDINI                 CAPTAIN III (POLICE DEPARTMENT)   \n",
       "3   4  CHRISTOPHER CHONG            WIRE ROPE CABLE MAINTENANCE MECHANIC   \n",
       "4   5    PATRICK GARDNER    DEPUTY CHIEF OF DEPARTMENT,(FIRE DEPARTMENT)   \n",
       "\n",
       "     BasePay OvertimePay   OtherPay Benefits   TotalPay  TotalPayBenefits  \\\n",
       "0  167411.18         0.0  400184.25      NaN  567595.43         567595.43   \n",
       "1  155966.02   245131.88  137811.38      NaN  538909.28         538909.28   \n",
       "2  212739.13   106088.18    16452.6      NaN  335279.91         335279.91   \n",
       "3    77916.0    56120.71   198306.9      NaN  332343.61         332343.61   \n",
       "4   134401.6      9737.0  182234.59      NaN  326373.19         326373.19   \n",
       "\n",
       "   Year  Notes         Agency Status  \n",
       "0  2011    NaN  San Francisco    NaN  \n",
       "1  2011    NaN  San Francisco    NaN  \n",
       "2  2011    NaN  San Francisco    NaN  \n",
       "3  2011    NaN  San Francisco    NaN  \n",
       "4  2011    NaN  San Francisco    NaN  "
      ]
     },
     "execution_count": 3,
     "metadata": {},
     "output_type": "execute_result"
    }
   ],
   "source": [
    "df.head()"
   ]
  },
  {
   "cell_type": "code",
   "execution_count": 4,
   "metadata": {},
   "outputs": [
    {
     "data": {
      "text/plain": [
       "array(['San Francisco'], dtype=object)"
      ]
     },
     "execution_count": 4,
     "metadata": {},
     "output_type": "execute_result"
    }
   ],
   "source": [
    "df['Agency'].unique()"
   ]
  },
  {
   "cell_type": "code",
   "execution_count": 5,
   "metadata": {},
   "outputs": [
    {
     "data": {
      "text/plain": [
       "array([ nan])"
      ]
     },
     "execution_count": 5,
     "metadata": {},
     "output_type": "execute_result"
    }
   ],
   "source": [
    "df['Notes'].unique()"
   ]
  },
  {
   "cell_type": "code",
   "execution_count": 6,
   "metadata": {
    "collapsed": true
   },
   "outputs": [],
   "source": [
    "df=df.drop(['Agency','Notes'],axis=1)"
   ]
  },
  {
   "cell_type": "code",
   "execution_count": 7,
   "metadata": {},
   "outputs": [
    {
     "data": {
      "text/html": [
       "<div>\n",
       "<style>\n",
       "    .dataframe thead tr:only-child th {\n",
       "        text-align: right;\n",
       "    }\n",
       "\n",
       "    .dataframe thead th {\n",
       "        text-align: left;\n",
       "    }\n",
       "\n",
       "    .dataframe tbody tr th {\n",
       "        vertical-align: top;\n",
       "    }\n",
       "</style>\n",
       "<table border=\"1\" class=\"dataframe\">\n",
       "  <thead>\n",
       "    <tr style=\"text-align: right;\">\n",
       "      <th></th>\n",
       "      <th>Id</th>\n",
       "      <th>EmployeeName</th>\n",
       "      <th>JobTitle</th>\n",
       "      <th>BasePay</th>\n",
       "      <th>OvertimePay</th>\n",
       "      <th>OtherPay</th>\n",
       "      <th>Benefits</th>\n",
       "      <th>TotalPay</th>\n",
       "      <th>TotalPayBenefits</th>\n",
       "      <th>Year</th>\n",
       "      <th>Status</th>\n",
       "    </tr>\n",
       "  </thead>\n",
       "  <tbody>\n",
       "    <tr>\n",
       "      <th>0</th>\n",
       "      <td>1</td>\n",
       "      <td>NATHANIEL FORD</td>\n",
       "      <td>GENERAL MANAGER-METROPOLITAN TRANSIT AUTHORITY</td>\n",
       "      <td>167411.18</td>\n",
       "      <td>0.0</td>\n",
       "      <td>400184.25</td>\n",
       "      <td>NaN</td>\n",
       "      <td>567595.43</td>\n",
       "      <td>567595.43</td>\n",
       "      <td>2011</td>\n",
       "      <td>NaN</td>\n",
       "    </tr>\n",
       "    <tr>\n",
       "      <th>1</th>\n",
       "      <td>2</td>\n",
       "      <td>GARY JIMENEZ</td>\n",
       "      <td>CAPTAIN III (POLICE DEPARTMENT)</td>\n",
       "      <td>155966.02</td>\n",
       "      <td>245131.88</td>\n",
       "      <td>137811.38</td>\n",
       "      <td>NaN</td>\n",
       "      <td>538909.28</td>\n",
       "      <td>538909.28</td>\n",
       "      <td>2011</td>\n",
       "      <td>NaN</td>\n",
       "    </tr>\n",
       "    <tr>\n",
       "      <th>2</th>\n",
       "      <td>3</td>\n",
       "      <td>ALBERT PARDINI</td>\n",
       "      <td>CAPTAIN III (POLICE DEPARTMENT)</td>\n",
       "      <td>212739.13</td>\n",
       "      <td>106088.18</td>\n",
       "      <td>16452.6</td>\n",
       "      <td>NaN</td>\n",
       "      <td>335279.91</td>\n",
       "      <td>335279.91</td>\n",
       "      <td>2011</td>\n",
       "      <td>NaN</td>\n",
       "    </tr>\n",
       "    <tr>\n",
       "      <th>3</th>\n",
       "      <td>4</td>\n",
       "      <td>CHRISTOPHER CHONG</td>\n",
       "      <td>WIRE ROPE CABLE MAINTENANCE MECHANIC</td>\n",
       "      <td>77916.0</td>\n",
       "      <td>56120.71</td>\n",
       "      <td>198306.9</td>\n",
       "      <td>NaN</td>\n",
       "      <td>332343.61</td>\n",
       "      <td>332343.61</td>\n",
       "      <td>2011</td>\n",
       "      <td>NaN</td>\n",
       "    </tr>\n",
       "    <tr>\n",
       "      <th>4</th>\n",
       "      <td>5</td>\n",
       "      <td>PATRICK GARDNER</td>\n",
       "      <td>DEPUTY CHIEF OF DEPARTMENT,(FIRE DEPARTMENT)</td>\n",
       "      <td>134401.6</td>\n",
       "      <td>9737.0</td>\n",
       "      <td>182234.59</td>\n",
       "      <td>NaN</td>\n",
       "      <td>326373.19</td>\n",
       "      <td>326373.19</td>\n",
       "      <td>2011</td>\n",
       "      <td>NaN</td>\n",
       "    </tr>\n",
       "  </tbody>\n",
       "</table>\n",
       "</div>"
      ],
      "text/plain": [
       "   Id       EmployeeName                                        JobTitle  \\\n",
       "0   1     NATHANIEL FORD  GENERAL MANAGER-METROPOLITAN TRANSIT AUTHORITY   \n",
       "1   2       GARY JIMENEZ                 CAPTAIN III (POLICE DEPARTMENT)   \n",
       "2   3     ALBERT PARDINI                 CAPTAIN III (POLICE DEPARTMENT)   \n",
       "3   4  CHRISTOPHER CHONG            WIRE ROPE CABLE MAINTENANCE MECHANIC   \n",
       "4   5    PATRICK GARDNER    DEPUTY CHIEF OF DEPARTMENT,(FIRE DEPARTMENT)   \n",
       "\n",
       "     BasePay OvertimePay   OtherPay Benefits   TotalPay  TotalPayBenefits  \\\n",
       "0  167411.18         0.0  400184.25      NaN  567595.43         567595.43   \n",
       "1  155966.02   245131.88  137811.38      NaN  538909.28         538909.28   \n",
       "2  212739.13   106088.18    16452.6      NaN  335279.91         335279.91   \n",
       "3    77916.0    56120.71   198306.9      NaN  332343.61         332343.61   \n",
       "4   134401.6      9737.0  182234.59      NaN  326373.19         326373.19   \n",
       "\n",
       "   Year Status  \n",
       "0  2011    NaN  \n",
       "1  2011    NaN  \n",
       "2  2011    NaN  \n",
       "3  2011    NaN  \n",
       "4  2011    NaN  "
      ]
     },
     "execution_count": 7,
     "metadata": {},
     "output_type": "execute_result"
    }
   ],
   "source": [
    "df.head()"
   ]
  },
  {
   "cell_type": "code",
   "execution_count": 8,
   "metadata": {},
   "outputs": [
    {
     "name": "stdout",
     "output_type": "stream",
     "text": [
      "<class 'pandas.core.frame.DataFrame'>\n",
      "RangeIndex: 148654 entries, 0 to 148653\n",
      "Data columns (total 11 columns):\n",
      "Id                  148654 non-null int64\n",
      "EmployeeName        148654 non-null object\n",
      "JobTitle            148654 non-null object\n",
      "BasePay             148049 non-null object\n",
      "OvertimePay         148654 non-null object\n",
      "OtherPay            148654 non-null object\n",
      "Benefits            112495 non-null object\n",
      "TotalPay            148654 non-null float64\n",
      "TotalPayBenefits    148654 non-null float64\n",
      "Year                148654 non-null int64\n",
      "Status              38119 non-null object\n",
      "dtypes: float64(2), int64(2), object(7)\n",
      "memory usage: 12.5+ MB\n"
     ]
    }
   ],
   "source": [
    "df.info()"
   ]
  },
  {
   "cell_type": "code",
   "execution_count": 9,
   "metadata": {
    "collapsed": true
   },
   "outputs": [],
   "source": [
    "#change object to Numberic type\n",
    "list=['BasePay','OvertimePay','OtherPay','Benefits']\n",
    "for i in list:\n",
    "    df[i]=pd.to_numeric(df[i],errors='coerce')"
   ]
  },
  {
   "cell_type": "code",
   "execution_count": 10,
   "metadata": {},
   "outputs": [
    {
     "name": "stdout",
     "output_type": "stream",
     "text": [
      "<class 'pandas.core.frame.DataFrame'>\n",
      "RangeIndex: 148654 entries, 0 to 148653\n",
      "Data columns (total 11 columns):\n",
      "Id                  148654 non-null int64\n",
      "EmployeeName        148654 non-null object\n",
      "JobTitle            148654 non-null object\n",
      "BasePay             148045 non-null float64\n",
      "OvertimePay         148650 non-null float64\n",
      "OtherPay            148650 non-null float64\n",
      "Benefits            112491 non-null float64\n",
      "TotalPay            148654 non-null float64\n",
      "TotalPayBenefits    148654 non-null float64\n",
      "Year                148654 non-null int64\n",
      "Status              38119 non-null object\n",
      "dtypes: float64(6), int64(2), object(3)\n",
      "memory usage: 12.5+ MB\n"
     ]
    }
   ],
   "source": [
    "df.info()"
   ]
  },
  {
   "cell_type": "code",
   "execution_count": 11,
   "metadata": {},
   "outputs": [
    {
     "data": {
      "text/plain": [
       "Kevin Lee       13\n",
       "William Wong    11\n",
       "Steven Lee      11\n",
       "Richard Lee     11\n",
       "John Chan        9\n",
       "Name: EmployeeName, dtype: int64"
      ]
     },
     "execution_count": 11,
     "metadata": {},
     "output_type": "execute_result"
    }
   ],
   "source": [
    "df['EmployeeName'].value_counts().head()  ## As we can see Kevin Lee and KEVIN LEE are same person"
   ]
  },
  {
   "cell_type": "code",
   "execution_count": 12,
   "metadata": {},
   "outputs": [
    {
     "data": {
      "text/plain": [
       "1                           CAPTAIN III (POLICE DEPARTMENT)\n",
       "2                           CAPTAIN III (POLICE DEPARTMENT)\n",
       "11                          CAPTAIN III (POLICE DEPARTMENT)\n",
       "17                    CAPTAIN, EMERGENCYCY MEDICAL SERVICES\n",
       "22                                CAPTAIN, FIRE SUPPRESSION\n",
       "24                                CAPTAIN, FIRE SUPPRESSION\n",
       "26                                CAPTAIN, FIRE SUPPRESSION\n",
       "52                                CAPTAIN, FIRE SUPPRESSION\n",
       "53                                CAPTAIN, FIRE SUPPRESSION\n",
       "54                    CAPTAIN, EMERGENCYCY MEDICAL SERVICES\n",
       "61                          CAPTAIN III (POLICE DEPARTMENT)\n",
       "62                    CAPTAIN, EMERGENCYCY MEDICAL SERVICES\n",
       "65                          CAPTAIN III (POLICE DEPARTMENT)\n",
       "67                                CAPTAIN, FIRE SUPPRESSION\n",
       "78                                CAPTAIN, FIRE SUPPRESSION\n",
       "84                    CAPTAIN, EMERGENCYCY MEDICAL SERVICES\n",
       "91                          CAPTAIN III (POLICE DEPARTMENT)\n",
       "92                                CAPTAIN, FIRE SUPPRESSION\n",
       "93                          CAPTAIN III (POLICE DEPARTMENT)\n",
       "120                               CAPTAIN, FIRE SUPPRESSION\n",
       "125                         CAPTAIN III (POLICE DEPARTMENT)\n",
       "128                               CAPTAIN, FIRE SUPPRESSION\n",
       "131                               CAPTAIN, FIRE SUPPRESSION\n",
       "145                   CAPTAIN, EMERGENCYCY MEDICAL SERVICES\n",
       "153                   CAPTAIN, EMERGENCYCY MEDICAL SERVICES\n",
       "172                               CAPTAIN, FIRE SUPPRESSION\n",
       "193                               CAPTAIN, FIRE SUPPRESSION\n",
       "197       CAPTAIN, BUREAU OF FIRE PREVENTION AND PUBLIC ...\n",
       "202                               CAPTAIN, FIRE SUPPRESSION\n",
       "211                         CAPTAIN III (POLICE DEPARTMENT)\n",
       "                                ...                        \n",
       "112072                            Captain, Fire Suppression\n",
       "112083                            Captain, Fire Suppression\n",
       "112126                            Captain, Fire Suppression\n",
       "112140                            Captain, Fire Suppression\n",
       "112157                            Captain, Fire Suppression\n",
       "112161                                    Sheriff's Captain\n",
       "112163                            Captain, Fire Suppression\n",
       "112192                            Captain, Fire Suppression\n",
       "112238                            Captain, Fire Suppression\n",
       "112260                                    Sheriff's Captain\n",
       "112339                          Captain, Emergency Med Svcs\n",
       "112375                                    Sheriff's Captain\n",
       "112382                                    Sheriff's Captain\n",
       "112407                          Captain, Emergency Med Svcs\n",
       "112512                          Captain, Emergency Med Svcs\n",
       "112550                            Captain, Fire Suppression\n",
       "112573                            Captain, Fire Suppression\n",
       "112583                          Captain, Emergency Med Svcs\n",
       "112598                          Captain, Emergency Med Svcs\n",
       "112620                                    Sheriff's Captain\n",
       "112884                            Captain, Fire Suppression\n",
       "113081                          Captain, Emergency Med Svcs\n",
       "113973                                    Sheriff's Captain\n",
       "115477                          Captain, Emergency Med Svcs\n",
       "115491                          Captain, Emergency Med Svcs\n",
       "116604                            Captain, Fire Suppression\n",
       "120867                                            Captain 3\n",
       "122361                            Captain, Fire Suppression\n",
       "126588                                            Captain 3\n",
       "132232                            Captain, Fire Suppression\n",
       "Name: JobTitle, Length: 552, dtype: object"
      ]
     },
     "execution_count": 12,
     "metadata": {},
     "output_type": "execute_result"
    }
   ],
   "source": [
    "df[df['JobTitle'].str.lower().str.contains('captain')]['JobTitle']   ##Still lower and upper case problem"
   ]
  },
  {
   "cell_type": "code",
   "execution_count": 13,
   "metadata": {
    "collapsed": true
   },
   "outputs": [],
   "source": [
    "## change EmlpoyeeName and JobTitle to upper case\n",
    "df['EmployeeName']=df['EmployeeName'].str.upper().str.replace('  ',' ')\n",
    "df['JobTitle']=df['JobTitle'].str.upper().str.replace('  ',' ')"
   ]
  },
  {
   "cell_type": "code",
   "execution_count": 14,
   "metadata": {},
   "outputs": [
    {
     "data": {
      "text/plain": [
       "KEVIN LEE       27\n",
       "STEVEN LEE      23\n",
       "WILLIAM WONG    22\n",
       "RICHARD LEE     22\n",
       "JOHN CHAN       18\n",
       "Name: EmployeeName, dtype: int64"
      ]
     },
     "execution_count": 14,
     "metadata": {},
     "output_type": "execute_result"
    }
   ],
   "source": [
    "df['EmployeeName'].value_counts().head()"
   ]
  },
  {
   "cell_type": "code",
   "execution_count": 15,
   "metadata": {},
   "outputs": [
    {
     "data": {
      "text/plain": [
       "1                           CAPTAIN III (POLICE DEPARTMENT)\n",
       "2                           CAPTAIN III (POLICE DEPARTMENT)\n",
       "11                          CAPTAIN III (POLICE DEPARTMENT)\n",
       "17                    CAPTAIN, EMERGENCYCY MEDICAL SERVICES\n",
       "22                                CAPTAIN, FIRE SUPPRESSION\n",
       "24                                CAPTAIN, FIRE SUPPRESSION\n",
       "26                                CAPTAIN, FIRE SUPPRESSION\n",
       "52                                CAPTAIN, FIRE SUPPRESSION\n",
       "53                                CAPTAIN, FIRE SUPPRESSION\n",
       "54                    CAPTAIN, EMERGENCYCY MEDICAL SERVICES\n",
       "61                          CAPTAIN III (POLICE DEPARTMENT)\n",
       "62                    CAPTAIN, EMERGENCYCY MEDICAL SERVICES\n",
       "65                          CAPTAIN III (POLICE DEPARTMENT)\n",
       "67                                CAPTAIN, FIRE SUPPRESSION\n",
       "78                                CAPTAIN, FIRE SUPPRESSION\n",
       "84                    CAPTAIN, EMERGENCYCY MEDICAL SERVICES\n",
       "91                          CAPTAIN III (POLICE DEPARTMENT)\n",
       "92                                CAPTAIN, FIRE SUPPRESSION\n",
       "93                          CAPTAIN III (POLICE DEPARTMENT)\n",
       "120                               CAPTAIN, FIRE SUPPRESSION\n",
       "125                         CAPTAIN III (POLICE DEPARTMENT)\n",
       "128                               CAPTAIN, FIRE SUPPRESSION\n",
       "131                               CAPTAIN, FIRE SUPPRESSION\n",
       "145                   CAPTAIN, EMERGENCYCY MEDICAL SERVICES\n",
       "153                   CAPTAIN, EMERGENCYCY MEDICAL SERVICES\n",
       "172                               CAPTAIN, FIRE SUPPRESSION\n",
       "193                               CAPTAIN, FIRE SUPPRESSION\n",
       "197       CAPTAIN, BUREAU OF FIRE PREVENTION AND PUBLIC ...\n",
       "202                               CAPTAIN, FIRE SUPPRESSION\n",
       "211                         CAPTAIN III (POLICE DEPARTMENT)\n",
       "                                ...                        \n",
       "112072                            CAPTAIN, FIRE SUPPRESSION\n",
       "112083                            CAPTAIN, FIRE SUPPRESSION\n",
       "112126                            CAPTAIN, FIRE SUPPRESSION\n",
       "112140                            CAPTAIN, FIRE SUPPRESSION\n",
       "112157                            CAPTAIN, FIRE SUPPRESSION\n",
       "112161                                    SHERIFF'S CAPTAIN\n",
       "112163                            CAPTAIN, FIRE SUPPRESSION\n",
       "112192                            CAPTAIN, FIRE SUPPRESSION\n",
       "112238                            CAPTAIN, FIRE SUPPRESSION\n",
       "112260                                    SHERIFF'S CAPTAIN\n",
       "112339                          CAPTAIN, EMERGENCY MED SVCS\n",
       "112375                                    SHERIFF'S CAPTAIN\n",
       "112382                                    SHERIFF'S CAPTAIN\n",
       "112407                          CAPTAIN, EMERGENCY MED SVCS\n",
       "112512                          CAPTAIN, EMERGENCY MED SVCS\n",
       "112550                            CAPTAIN, FIRE SUPPRESSION\n",
       "112573                            CAPTAIN, FIRE SUPPRESSION\n",
       "112583                          CAPTAIN, EMERGENCY MED SVCS\n",
       "112598                          CAPTAIN, EMERGENCY MED SVCS\n",
       "112620                                    SHERIFF'S CAPTAIN\n",
       "112884                            CAPTAIN, FIRE SUPPRESSION\n",
       "113081                          CAPTAIN, EMERGENCY MED SVCS\n",
       "113973                                    SHERIFF'S CAPTAIN\n",
       "115477                          CAPTAIN, EMERGENCY MED SVCS\n",
       "115491                          CAPTAIN, EMERGENCY MED SVCS\n",
       "116604                            CAPTAIN, FIRE SUPPRESSION\n",
       "120867                                            CAPTAIN 3\n",
       "122361                            CAPTAIN, FIRE SUPPRESSION\n",
       "126588                                            CAPTAIN 3\n",
       "132232                            CAPTAIN, FIRE SUPPRESSION\n",
       "Name: JobTitle, Length: 552, dtype: object"
      ]
     },
     "execution_count": 15,
     "metadata": {},
     "output_type": "execute_result"
    }
   ],
   "source": [
    "df[df['JobTitle'].str.lower().str.contains('captain')]['JobTitle']"
   ]
  },
  {
   "cell_type": "code",
   "execution_count": 16,
   "metadata": {
    "collapsed": true
   },
   "outputs": [],
   "source": [
    "df2=df.groupby(['Year','JobTitle'])['TotalPayBenefits'].mean().unstack('Year').fillna(0)"
   ]
  },
  {
   "cell_type": "code",
   "execution_count": 17,
   "metadata": {},
   "outputs": [
    {
     "data": {
      "text/html": [
       "<div>\n",
       "<style>\n",
       "    .dataframe thead tr:only-child th {\n",
       "        text-align: right;\n",
       "    }\n",
       "\n",
       "    .dataframe thead th {\n",
       "        text-align: left;\n",
       "    }\n",
       "\n",
       "    .dataframe tbody tr th {\n",
       "        vertical-align: top;\n",
       "    }\n",
       "</style>\n",
       "<table border=\"1\" class=\"dataframe\">\n",
       "  <thead>\n",
       "    <tr style=\"text-align: right;\">\n",
       "      <th>Year</th>\n",
       "      <th>2011</th>\n",
       "      <th>2012</th>\n",
       "      <th>2013</th>\n",
       "      <th>2014</th>\n",
       "    </tr>\n",
       "    <tr>\n",
       "      <th>JobTitle</th>\n",
       "      <th></th>\n",
       "      <th></th>\n",
       "      <th></th>\n",
       "      <th></th>\n",
       "    </tr>\n",
       "  </thead>\n",
       "  <tbody>\n",
       "    <tr>\n",
       "      <th>ACCOUNT CLERK</th>\n",
       "      <td>44035.664337</td>\n",
       "      <td>69012.928824</td>\n",
       "      <td>64175.402222</td>\n",
       "      <td>55223.166129</td>\n",
       "    </tr>\n",
       "    <tr>\n",
       "      <th>ACCOUNTANT</th>\n",
       "      <td>47429.268000</td>\n",
       "      <td>0.000000</td>\n",
       "      <td>0.000000</td>\n",
       "      <td>0.000000</td>\n",
       "    </tr>\n",
       "    <tr>\n",
       "      <th>ACCOUNTANT I</th>\n",
       "      <td>0.000000</td>\n",
       "      <td>97296.566667</td>\n",
       "      <td>94910.383333</td>\n",
       "      <td>64178.330000</td>\n",
       "    </tr>\n",
       "    <tr>\n",
       "      <th>ACCOUNTANT II</th>\n",
       "      <td>0.000000</td>\n",
       "      <td>92333.582083</td>\n",
       "      <td>96492.600000</td>\n",
       "      <td>96253.160000</td>\n",
       "    </tr>\n",
       "    <tr>\n",
       "      <th>ACCOUNTANT III</th>\n",
       "      <td>0.000000</td>\n",
       "      <td>109238.285000</td>\n",
       "      <td>105843.050659</td>\n",
       "      <td>108155.817071</td>\n",
       "    </tr>\n",
       "  </tbody>\n",
       "</table>\n",
       "</div>"
      ],
      "text/plain": [
       "Year                    2011           2012           2013           2014\n",
       "JobTitle                                                                 \n",
       "ACCOUNT CLERK   44035.664337   69012.928824   64175.402222   55223.166129\n",
       "ACCOUNTANT      47429.268000       0.000000       0.000000       0.000000\n",
       "ACCOUNTANT I        0.000000   97296.566667   94910.383333   64178.330000\n",
       "ACCOUNTANT II       0.000000   92333.582083   96492.600000   96253.160000\n",
       "ACCOUNTANT III      0.000000  109238.285000  105843.050659  108155.817071"
      ]
     },
     "execution_count": 17,
     "metadata": {},
     "output_type": "execute_result"
    }
   ],
   "source": [
    "df2.head()"
   ]
  },
  {
   "cell_type": "code",
   "execution_count": 18,
   "metadata": {},
   "outputs": [
    {
     "data": {
      "text/plain": [
       "JobTitle\n",
       "GENERAL MANAGER-METROPOLITAN TRANSIT AUTHORITY        399211.275000\n",
       "DEPUTY DIRECTOR OF INVESTMENTS                        307899.460000\n",
       "CHIEF OF DEPARTMENT, (FIRE DEPARTMENT)                302377.730000\n",
       "DEPUTY CHIEF OF DEPARTMENT,(FIRE DEPARTMENT)          279359.560000\n",
       "EXECUTIVE CONTRACT EMPLOYEE                           277438.840000\n",
       "CHIEF OF POLICE                                       267992.590000\n",
       "ADMINISTRATOR, SFGH MEDICAL CENTER                    257124.440000\n",
       "DEPUTY CHIEF III (POLICE DEPARTMENT)                  250026.488000\n",
       "DEPARTMENT HEAD V                                     233834.037143\n",
       "PORT DIRECTOR                                         233357.280000\n",
       "ASSISTANT DEPUTY CHIEF II                             228724.506000\n",
       "BATTALION CHIEF, (FIRE DEPARTMENT)                    216655.536889\n",
       "NURSING SUPERVISOR PSYCHIATRIC                        216598.635000\n",
       "FORENSIC TOXICOLOGIST                                 215318.200000\n",
       "CONFIDENTIAL CHIEF ATTORNEY II (CIVIL & CRIMINAL)     214988.680000\n",
       "ASSISTANT MEDICAL EXAMINER                            212793.172000\n",
       "CAPTAIN III (POLICE DEPARTMENT)                       211783.893243\n",
       "CITY ATTORNEY                                         208243.120000\n",
       "CAPTAIN, BUREAU OF FIRE PREVENTION AND PUBLIC SAFE    206704.630000\n",
       "DEPARTMENT HEAD IV                                    206610.332500\n",
       "Name: 2011, dtype: float64"
      ]
     },
     "execution_count": 18,
     "metadata": {},
     "output_type": "execute_result"
    }
   ],
   "source": [
    "## Let's check out the top 10 jobs on 2011\n",
    "df2[2011].sort_values(ascending=False).head(20)"
   ]
  },
  {
   "cell_type": "code",
   "execution_count": 19,
   "metadata": {},
   "outputs": [
    {
     "data": {
      "text/plain": [
       "JobTitle\n",
       "CHIEF INVESTMENT OFFICER          436224.360000\n",
       "CHIEF OF POLICE                   418019.220000\n",
       "CHIEF, FIRE DEPARTMENT            417435.100000\n",
       "GEN MGR, PUBLIC TRNSP DEPT        379918.720000\n",
       "DEP CHF OF DEPT (FIRE DEPT)       368006.350000\n",
       "ADMINISTRATOR, DPH                365561.140000\n",
       "MAYOR                             364814.510000\n",
       "DEPT HEAD V                       361932.378000\n",
       "EXECUTIVE CONTRACT EMPLOYEE       354918.300000\n",
       "ADM, SFGH MEDICAL CENTER          349527.750000\n",
       "CONTROLLER                        347713.880000\n",
       "ASST CHF OF DEPT (FIRE DEPT)      344702.513333\n",
       "DEPUTY CHIEF 3                    339794.811250\n",
       "PORT DIRECTOR                     329147.300000\n",
       "ASSISTANT DEPUTY CHIEF 2          324555.640000\n",
       "ASST MED EXAMINER                 323497.457500\n",
       "EMERGENCY MEDICAL SVCS CHIEF      318297.510000\n",
       "DISTRICT ATTORNEY                 314612.090000\n",
       "MANAGER, DEPT PUBLIC HEALTH       314138.620000\n",
       "BATTALION CHIEF, FIRE SUPPRESS    309241.047742\n",
       "Name: 2014, dtype: float64"
      ]
     },
     "execution_count": 19,
     "metadata": {},
     "output_type": "execute_result"
    }
   ],
   "source": [
    "#Top 1p jobs on 2014\n",
    "df2[2014].sort_values(ascending=False).head(20)"
   ]
  },
  {
   "cell_type": "code",
   "execution_count": 20,
   "metadata": {
    "collapsed": true
   },
   "outputs": [],
   "source": [
    "#JobTitle difference between 2011 and 2014\n",
    "df=df.replace({'CHIEF OF DEPARTMENT, (FIRE DEPARTMENT)' : 'CHIEF, FIRE DEPARTMENT'})\n",
    "df=df.replace({'ASSISTANT MEDICAL EXAMINER' : 'ASST MED EXAMINER'})\n",
    "df=df.replace({'DEPUTY CHIEF III (POLICE DEPARTMENT)' : 'DEPUTY CHIEF 3'})\n",
    "df=df.replace({'DEPARTMENT HEAD V' : 'DEPT HEAD V'})\n",
    "df=df.replace({'DEPUTY CHIEF OF DEPARTMENT,(FIRE DEPARTMENT)' : 'ASSISTANT DEPUTY CHIEF 2'})\n",
    "df=df.replace({'DEPUTY DIRECTOR I - MUNICIPAL TRANSPORTATION AGE' : 'DEPUTY DIR I, MTA'})\n",
    "df=df.replace({'DEPUTY DIRECTOR V' : 'DEP DIR V'})\n",
    "df=df.replace({'LIEUTENANT, BUREAU OF FIRE PREVENTION AND PUBLIC S' : 'LIEUT,FIRE PREV'})\n",
    "df=df.replace({'CONFIDENTIAL CHIEF ATTORNEY II (CIVIL & CRIMINAL)' : 'CFDNTAL CHF ATTY 2,(CVL&CRMNL)'})\n",
    "df=df.replace({'CAPTAIN III (POLICE DEPARTMENT)' : 'CAPTAIN 3'})\n",
    "df=df.replace({'DEPUTY DIRECTOR II - MUNICIPAL TRANSPORTATION AG' : 'DEPUTY DIR II, MTA'})\n",
    "df=df.replace({'BATTALION CHIEF, (FIRE DEPARTMENT)' : 'BATTALION CHIEF, FIRE SUPPRESS'})\n",
    "df=df.replace({'DEPARTMENT HEAD IV' : 'DEPT HEAD IV'})\n",
    "df=df.replace({'COMMANDER III, (POLICE DEPARTMENT)' : 'CAPTAIN 3'})\n",
    "df=df.replace({'ADMINISTRATOR, SFGH MEDICAL CENTER' : 'ADM, SFGH MEDICAL CENTER'})\n",
    "df=df.replace({'GENERAL MANAGER-METROPOLITAN TRANSIT AUTHORITY' : 'GEN MGR, PUBLIC TRNSP DEPT'})\n",
    "df=df.replace({'ASSISTANT DEPUTY CHIEF II' : 'ASSISTANT DEPUTY CHIEF 2'})\n",
    "df=df.replace({'DEPUTY DIRECTOR OF INVESTMENTS' : 'DEP DIR FOR INVESTMENTS, RET'})\n",
    "df=df.replace({'BATTLION CHIEF, FIRE SUPPRESSI' : 'BATTALION CHIEF, FIRE SUPPRESS'})\n",
    "df=df.replace({'BATTLION CHIEF, FIRE SUPPRESS' : 'BATTALION CHIEF, FIRE SUPPRESS'})\n",
    "df=df.replace({'ASSISTANT CHIEF OF DEPARTMENT, (FIRE DEPARTMENT)' : 'ASST CHF OF DEPT (FIRE DEPT)'})"
   ]
  },
  {
   "cell_type": "code",
   "execution_count": 21,
   "metadata": {
    "collapsed": true
   },
   "outputs": [],
   "source": [
    "df3=df.groupby(['Year','JobTitle'])['TotalPay'].mean().unstack('Year').fillna(0)"
   ]
  },
  {
   "cell_type": "code",
   "execution_count": 22,
   "metadata": {},
   "outputs": [
    {
     "data": {
      "text/plain": [
       "JobTitle\n",
       "GEN MGR, PUBLIC TRNSP DEPT                            399211.275000\n",
       "DEP DIR FOR INVESTMENTS, RET                          307899.460000\n",
       "CHIEF, FIRE DEPARTMENT                                302377.730000\n",
       "EXECUTIVE CONTRACT EMPLOYEE                           277438.840000\n",
       "CHIEF OF POLICE                                       267992.590000\n",
       "ADM, SFGH MEDICAL CENTER                              257124.440000\n",
       "DEPUTY CHIEF 3                                        250026.488000\n",
       "ASSISTANT DEPUTY CHIEF 2                              247712.651250\n",
       "DEPT HEAD V                                           233834.037143\n",
       "PORT DIRECTOR                                         233357.280000\n",
       "BATTALION CHIEF, FIRE SUPPRESS                        216655.536889\n",
       "NURSING SUPERVISOR PSYCHIATRIC                        216598.635000\n",
       "FORENSIC TOXICOLOGIST                                 215318.200000\n",
       "CFDNTAL CHF ATTY 2,(CVL&CRMNL)                        214988.680000\n",
       "ASST MED EXAMINER                                     212793.172000\n",
       "CAPTAIN 3                                             210726.354545\n",
       "CITY ATTORNEY                                         208243.120000\n",
       "CAPTAIN, BUREAU OF FIRE PREVENTION AND PUBLIC SAFE    206704.630000\n",
       "DEPT HEAD IV                                          206610.332500\n",
       "ASST CHF OF DEPT (FIRE DEPT)                          203427.850000\n",
       "Name: 2011, dtype: float64"
      ]
     },
     "execution_count": 22,
     "metadata": {},
     "output_type": "execute_result"
    }
   ],
   "source": [
    "df3[2011].sort_values(ascending=False).head(20)"
   ]
  },
  {
   "cell_type": "code",
   "execution_count": 23,
   "metadata": {},
   "outputs": [
    {
     "data": {
      "text/plain": [
       "JobTitle\n",
       "CHIEF INVESTMENT OFFICER          339653.700000\n",
       "CHIEF OF POLICE                   326716.760000\n",
       "CHIEF, FIRE DEPARTMENT            326233.440000\n",
       "GEN MGR, PUBLIC TRNSP DEPT        294000.180000\n",
       "DEP CHF OF DEPT (FIRE DEPT)       285575.785000\n",
       "DEPUTY CHIEF 3                    282918.775000\n",
       "ADMINISTRATOR, DPH                282619.960000\n",
       "MAYOR                             281537.170000\n",
       "ASST CHF OF DEPT (FIRE DEPT)      279768.958333\n",
       "DEPT HEAD V                       279408.864000\n",
       "EXECUTIVE CONTRACT EMPLOYEE       278544.710000\n",
       "ADM, SFGH MEDICAL CENTER          268946.020000\n",
       "CONTROLLER                        267914.000000\n",
       "ASST MED EXAMINER                 264458.635000\n",
       "PORT DIRECTOR                     252149.010000\n",
       "BATTALION CHIEF, FIRE SUPPRESS    250173.942581\n",
       "ASSISTANT DEPUTY CHIEF 2          249505.880000\n",
       "DISTRICT ATTORNEY                 248767.060000\n",
       "MANAGER, DEPT PUBLIC HEALTH       248637.570000\n",
       "EMERGENCY MEDICAL SVCS CHIEF      244209.180000\n",
       "Name: 2014, dtype: float64"
      ]
     },
     "execution_count": 23,
     "metadata": {},
     "output_type": "execute_result"
    }
   ],
   "source": [
    "df3[2014].sort_values(ascending=False).head(20)"
   ]
  },
  {
   "cell_type": "code",
   "execution_count": 24,
   "metadata": {},
   "outputs": [
    {
     "data": {
      "text/html": [
       "<div>\n",
       "<style>\n",
       "    .dataframe thead tr:only-child th {\n",
       "        text-align: right;\n",
       "    }\n",
       "\n",
       "    .dataframe thead th {\n",
       "        text-align: left;\n",
       "    }\n",
       "\n",
       "    .dataframe tbody tr th {\n",
       "        vertical-align: top;\n",
       "    }\n",
       "</style>\n",
       "<table border=\"1\" class=\"dataframe\">\n",
       "  <thead>\n",
       "    <tr style=\"text-align: right;\">\n",
       "      <th>Year</th>\n",
       "      <th>2011</th>\n",
       "      <th>2012</th>\n",
       "      <th>2013</th>\n",
       "      <th>2014</th>\n",
       "    </tr>\n",
       "    <tr>\n",
       "      <th>JobTitle</th>\n",
       "      <th></th>\n",
       "      <th></th>\n",
       "      <th></th>\n",
       "      <th></th>\n",
       "    </tr>\n",
       "  </thead>\n",
       "  <tbody>\n",
       "    <tr>\n",
       "      <th>ACCOUNT CLERK</th>\n",
       "      <td>44035.664337</td>\n",
       "      <td>46066.717765</td>\n",
       "      <td>44681.243444</td>\n",
       "      <td>37681.233226</td>\n",
       "    </tr>\n",
       "    <tr>\n",
       "      <th>ACCOUNTANT</th>\n",
       "      <td>47429.268000</td>\n",
       "      <td>0.000000</td>\n",
       "      <td>0.000000</td>\n",
       "      <td>0.000000</td>\n",
       "    </tr>\n",
       "    <tr>\n",
       "      <th>ACCOUNTANT I</th>\n",
       "      <td>0.000000</td>\n",
       "      <td>66632.716667</td>\n",
       "      <td>68527.130000</td>\n",
       "      <td>45404.635000</td>\n",
       "    </tr>\n",
       "    <tr>\n",
       "      <th>ACCOUNTANT II</th>\n",
       "      <td>0.000000</td>\n",
       "      <td>63847.613056</td>\n",
       "      <td>69785.547403</td>\n",
       "      <td>68204.682078</td>\n",
       "    </tr>\n",
       "    <tr>\n",
       "      <th>ACCOUNTANT III</th>\n",
       "      <td>0.000000</td>\n",
       "      <td>78010.135682</td>\n",
       "      <td>79385.838681</td>\n",
       "      <td>79528.228586</td>\n",
       "    </tr>\n",
       "  </tbody>\n",
       "</table>\n",
       "</div>"
      ],
      "text/plain": [
       "Year                    2011          2012          2013          2014\n",
       "JobTitle                                                              \n",
       "ACCOUNT CLERK   44035.664337  46066.717765  44681.243444  37681.233226\n",
       "ACCOUNTANT      47429.268000      0.000000      0.000000      0.000000\n",
       "ACCOUNTANT I        0.000000  66632.716667  68527.130000  45404.635000\n",
       "ACCOUNTANT II       0.000000  63847.613056  69785.547403  68204.682078\n",
       "ACCOUNTANT III      0.000000  78010.135682  79385.838681  79528.228586"
      ]
     },
     "execution_count": 24,
     "metadata": {},
     "output_type": "execute_result"
    }
   ],
   "source": [
    "df3.head()"
   ]
  },
  {
   "cell_type": "code",
   "execution_count": 25,
   "metadata": {},
   "outputs": [
    {
     "data": {
      "text/plain": [
       "<matplotlib.axes._subplots.AxesSubplot at 0x111b53fd0>"
      ]
     },
     "execution_count": 25,
     "metadata": {},
     "output_type": "execute_result"
    },
    {
     "data": {
      "text/plain": [
       "<matplotlib.legend.Legend at 0x111b536a0>"
      ]
     },
     "execution_count": 25,
     "metadata": {},
     "output_type": "execute_result"
    },
    {
     "data": {
      "text/plain": [
       "(array([0, 1, 2, 3]), <a list of 4 Text xticklabel objects>)"
      ]
     },
     "execution_count": 25,
     "metadata": {},
     "output_type": "execute_result"
    },
    {
     "data": {
      "image/png": "[encoded data removed]",
      "text/plain": [
       "<matplotlib.figure.Figure at 0x111b53780>"
      ]
     },
     "metadata": {},
     "output_type": "display_data"
    }
   ],
   "source": [
    "df.groupby('Year')['BasePay','TotalPay','TotalPayBenefits'].mean().plot(kind='bar')\n",
    "plt.legend(bbox_to_anchor=(1.05,1),loc=2)\n",
    "plt.xticks(rotation=45)"
   ]
  },
  {
   "cell_type": "code",
   "execution_count": 26,
   "metadata": {},
   "outputs": [
    {
     "data": {
      "text/html": [
       "<div>\n",
       "<style>\n",
       "    .dataframe thead tr:only-child th {\n",
       "        text-align: right;\n",
       "    }\n",
       "\n",
       "    .dataframe thead th {\n",
       "        text-align: left;\n",
       "    }\n",
       "\n",
       "    .dataframe tbody tr th {\n",
       "        vertical-align: top;\n",
       "    }\n",
       "</style>\n",
       "<table border=\"1\" class=\"dataframe\">\n",
       "  <thead>\n",
       "    <tr style=\"text-align: right;\">\n",
       "      <th></th>\n",
       "      <th>Id</th>\n",
       "      <th>EmployeeName</th>\n",
       "      <th>JobTitle</th>\n",
       "      <th>BasePay</th>\n",
       "      <th>OvertimePay</th>\n",
       "      <th>OtherPay</th>\n",
       "      <th>Benefits</th>\n",
       "      <th>TotalPay</th>\n",
       "      <th>TotalPayBenefits</th>\n",
       "      <th>Year</th>\n",
       "      <th>Status</th>\n",
       "    </tr>\n",
       "  </thead>\n",
       "  <tbody>\n",
       "    <tr>\n",
       "      <th>0</th>\n",
       "      <td>1</td>\n",
       "      <td>NATHANIEL FORD</td>\n",
       "      <td>GEN MGR, PUBLIC TRNSP DEPT</td>\n",
       "      <td>167411.18</td>\n",
       "      <td>0.00</td>\n",
       "      <td>400184.25</td>\n",
       "      <td>NaN</td>\n",
       "      <td>567595.43</td>\n",
       "      <td>567595.43</td>\n",
       "      <td>2011</td>\n",
       "      <td>NaN</td>\n",
       "    </tr>\n",
       "    <tr>\n",
       "      <th>1</th>\n",
       "      <td>2</td>\n",
       "      <td>GARY JIMENEZ</td>\n",
       "      <td>CAPTAIN 3</td>\n",
       "      <td>155966.02</td>\n",
       "      <td>245131.88</td>\n",
       "      <td>137811.38</td>\n",
       "      <td>NaN</td>\n",
       "      <td>538909.28</td>\n",
       "      <td>538909.28</td>\n",
       "      <td>2011</td>\n",
       "      <td>NaN</td>\n",
       "    </tr>\n",
       "    <tr>\n",
       "      <th>2</th>\n",
       "      <td>3</td>\n",
       "      <td>ALBERT PARDINI</td>\n",
       "      <td>CAPTAIN 3</td>\n",
       "      <td>212739.13</td>\n",
       "      <td>106088.18</td>\n",
       "      <td>16452.60</td>\n",
       "      <td>NaN</td>\n",
       "      <td>335279.91</td>\n",
       "      <td>335279.91</td>\n",
       "      <td>2011</td>\n",
       "      <td>NaN</td>\n",
       "    </tr>\n",
       "    <tr>\n",
       "      <th>3</th>\n",
       "      <td>4</td>\n",
       "      <td>CHRISTOPHER CHONG</td>\n",
       "      <td>WIRE ROPE CABLE MAINTENANCE MECHANIC</td>\n",
       "      <td>77916.00</td>\n",
       "      <td>56120.71</td>\n",
       "      <td>198306.90</td>\n",
       "      <td>NaN</td>\n",
       "      <td>332343.61</td>\n",
       "      <td>332343.61</td>\n",
       "      <td>2011</td>\n",
       "      <td>NaN</td>\n",
       "    </tr>\n",
       "    <tr>\n",
       "      <th>4</th>\n",
       "      <td>5</td>\n",
       "      <td>PATRICK GARDNER</td>\n",
       "      <td>ASSISTANT DEPUTY CHIEF 2</td>\n",
       "      <td>134401.60</td>\n",
       "      <td>9737.00</td>\n",
       "      <td>182234.59</td>\n",
       "      <td>NaN</td>\n",
       "      <td>326373.19</td>\n",
       "      <td>326373.19</td>\n",
       "      <td>2011</td>\n",
       "      <td>NaN</td>\n",
       "    </tr>\n",
       "  </tbody>\n",
       "</table>\n",
       "</div>"
      ],
      "text/plain": [
       "   Id       EmployeeName                              JobTitle    BasePay  \\\n",
       "0   1     NATHANIEL FORD            GEN MGR, PUBLIC TRNSP DEPT  167411.18   \n",
       "1   2       GARY JIMENEZ                             CAPTAIN 3  155966.02   \n",
       "2   3     ALBERT PARDINI                             CAPTAIN 3  212739.13   \n",
       "3   4  CHRISTOPHER CHONG  WIRE ROPE CABLE MAINTENANCE MECHANIC   77916.00   \n",
       "4   5    PATRICK GARDNER              ASSISTANT DEPUTY CHIEF 2  134401.60   \n",
       "\n",
       "   OvertimePay   OtherPay  Benefits   TotalPay  TotalPayBenefits  Year Status  \n",
       "0         0.00  400184.25       NaN  567595.43         567595.43  2011    NaN  \n",
       "1    245131.88  137811.38       NaN  538909.28         538909.28  2011    NaN  \n",
       "2    106088.18   16452.60       NaN  335279.91         335279.91  2011    NaN  \n",
       "3     56120.71  198306.90       NaN  332343.61         332343.61  2011    NaN  \n",
       "4      9737.00  182234.59       NaN  326373.19         326373.19  2011    NaN  "
      ]
     },
     "execution_count": 26,
     "metadata": {},
     "output_type": "execute_result"
    }
   ],
   "source": [
    "df.head()"
   ]
  },
  {
   "cell_type": "code",
   "execution_count": 27,
   "metadata": {},
   "outputs": [
    {
     "data": {
      "text/html": [
       "<div>\n",
       "<style>\n",
       "    .dataframe thead tr:only-child th {\n",
       "        text-align: right;\n",
       "    }\n",
       "\n",
       "    .dataframe thead th {\n",
       "        text-align: left;\n",
       "    }\n",
       "\n",
       "    .dataframe tbody tr th {\n",
       "        vertical-align: top;\n",
       "    }\n",
       "</style>\n",
       "<table border=\"1\" class=\"dataframe\">\n",
       "  <thead>\n",
       "    <tr style=\"text-align: right;\">\n",
       "      <th>Year</th>\n",
       "      <th>2011</th>\n",
       "      <th>2012</th>\n",
       "      <th>2013</th>\n",
       "      <th>2014</th>\n",
       "    </tr>\n",
       "    <tr>\n",
       "      <th>JobTitle</th>\n",
       "      <th></th>\n",
       "      <th></th>\n",
       "      <th></th>\n",
       "      <th></th>\n",
       "    </tr>\n",
       "  </thead>\n",
       "  <tbody>\n",
       "    <tr>\n",
       "      <th>ACCOUNT CLERK</th>\n",
       "      <td>44035.664337</td>\n",
       "      <td>46066.717765</td>\n",
       "      <td>44681.243444</td>\n",
       "      <td>37681.233226</td>\n",
       "    </tr>\n",
       "    <tr>\n",
       "      <th>ACCOUNTANT</th>\n",
       "      <td>47429.268000</td>\n",
       "      <td>0.000000</td>\n",
       "      <td>0.000000</td>\n",
       "      <td>0.000000</td>\n",
       "    </tr>\n",
       "    <tr>\n",
       "      <th>ACCOUNTANT I</th>\n",
       "      <td>0.000000</td>\n",
       "      <td>66632.716667</td>\n",
       "      <td>68527.130000</td>\n",
       "      <td>45404.635000</td>\n",
       "    </tr>\n",
       "    <tr>\n",
       "      <th>ACCOUNTANT II</th>\n",
       "      <td>0.000000</td>\n",
       "      <td>63847.613056</td>\n",
       "      <td>69785.547403</td>\n",
       "      <td>68204.682078</td>\n",
       "    </tr>\n",
       "    <tr>\n",
       "      <th>ACCOUNTANT III</th>\n",
       "      <td>0.000000</td>\n",
       "      <td>78010.135682</td>\n",
       "      <td>79385.838681</td>\n",
       "      <td>79528.228586</td>\n",
       "    </tr>\n",
       "  </tbody>\n",
       "</table>\n",
       "</div>"
      ],
      "text/plain": [
       "Year                    2011          2012          2013          2014\n",
       "JobTitle                                                              \n",
       "ACCOUNT CLERK   44035.664337  46066.717765  44681.243444  37681.233226\n",
       "ACCOUNTANT      47429.268000      0.000000      0.000000      0.000000\n",
       "ACCOUNTANT I        0.000000  66632.716667  68527.130000  45404.635000\n",
       "ACCOUNTANT II       0.000000  63847.613056  69785.547403  68204.682078\n",
       "ACCOUNTANT III      0.000000  78010.135682  79385.838681  79528.228586"
      ]
     },
     "execution_count": 27,
     "metadata": {},
     "output_type": "execute_result"
    }
   ],
   "source": [
    "df3.head()"
   ]
  },
  {
   "cell_type": "code",
   "execution_count": null,
   "metadata": {},
   "outputs": [],
   "source": []
  },
  {
   "cell_type": "code",
   "execution_count": 28,
   "metadata": {},
   "outputs": [
    {
     "data": {
      "text/plain": [
       "<matplotlib.axes._subplots.AxesSubplot at 0x10bd048d0>"
      ]
     },
     "execution_count": 28,
     "metadata": {},
     "output_type": "execute_result"
    },
    {
     "data": {
      "image/png": "[encoded data removed]",
      "text/plain": [
       "<matplotlib.figure.Figure at 0x115b047f0>"
      ]
     },
     "metadata": {},
     "output_type": "display_data"
    }
   ],
   "source": [
    "df3[2014].sort_values(ascending=False).head(10).plot(kind='barh')"
   ]
  },
  {
   "cell_type": "code",
   "execution_count": 29,
   "metadata": {},
   "outputs": [
    {
     "data": {
      "text/plain": [
       "<matplotlib.axes._subplots.AxesSubplot at 0x115c58e48>"
      ]
     },
     "execution_count": 29,
     "metadata": {},
     "output_type": "execute_result"
    },
    {
     "data": {
      "image/png": "[encoded data removed]",
      "text/plain": [
       "<matplotlib.figure.Figure at 0x115c5d908>"
      ]
     },
     "metadata": {},
     "output_type": "display_data"
    }
   ],
   "source": [
    "df3[2011].sort_values(ascending=False).head(10).plot(kind='barh')"
   ]
  },
  {
   "cell_type": "code",
   "execution_count": 30,
   "metadata": {},
   "outputs": [
    {
     "data": {
      "text/plain": [
       "<matplotlib.axes._subplots.AxesSubplot at 0x115bf9358>"
      ]
     },
     "execution_count": 30,
     "metadata": {},
     "output_type": "execute_result"
    },
    {
     "data": {
      "image/png": "[encoded data removed]",
      "text/plain": [
       "<matplotlib.figure.Figure at 0x115c026d8>"
      ]
     },
     "metadata": {},
     "output_type": "display_data"
    }
   ],
   "source": [
    "df3.sort_values(by=[(2011)],ascending=False).head(10).plot(kind='barh')"
   ]
  },
  {
   "cell_type": "code",
   "execution_count": 31,
   "metadata": {},
   "outputs": [
    {
     "data": {
      "text/plain": [
       "<matplotlib.figure.Figure at 0x115af0fd0>"
      ]
     },
     "execution_count": 31,
     "metadata": {},
     "output_type": "execute_result"
    },
    {
     "data": {
      "text/plain": [
       "{'boxes': [<matplotlib.lines.Line2D at 0x106363940>,\n",
       "  <matplotlib.lines.Line2D at 0x1133b9da0>,\n",
       "  <matplotlib.lines.Line2D at 0x1133d3748>,\n",
       "  <matplotlib.lines.Line2D at 0x1133ea0b8>],\n",
       " 'caps': [<matplotlib.lines.Line2D at 0x10636ad30>,\n",
       "  <matplotlib.lines.Line2D at 0x1133b5c18>,\n",
       "  <matplotlib.lines.Line2D at 0x1133c8d68>,\n",
       "  <matplotlib.lines.Line2D at 0x1133c8ef0>,\n",
       "  <matplotlib.lines.Line2D at 0x1133d9fd0>,\n",
       "  <matplotlib.lines.Line2D at 0x1133deef0>,\n",
       "  <matplotlib.lines.Line2D at 0x112d8aef0>,\n",
       "  <matplotlib.lines.Line2D at 0x112d8f860>],\n",
       " 'fliers': [<matplotlib.lines.Line2D at 0x1133b9c88>,\n",
       "  <matplotlib.lines.Line2D at 0x1133ccf60>,\n",
       "  <matplotlib.lines.Line2D at 0x1133e4f60>,\n",
       "  <matplotlib.lines.Line2D at 0x112d948d0>],\n",
       " 'means': [],\n",
       " 'medians': [<matplotlib.lines.Line2D at 0x1133b5da0>,\n",
       "  <matplotlib.lines.Line2D at 0x1133cc748>,\n",
       "  <matplotlib.lines.Line2D at 0x1133e40b8>,\n",
       "  <matplotlib.lines.Line2D at 0x112d8f9e8>],\n",
       " 'whiskers': [<matplotlib.lines.Line2D at 0x106363be0>,\n",
       "  <matplotlib.lines.Line2D at 0x10636aba8>,\n",
       "  <matplotlib.lines.Line2D at 0x1133c1cf8>,\n",
       "  <matplotlib.lines.Line2D at 0x1133c1e80>,\n",
       "  <matplotlib.lines.Line2D at 0x1133d3f98>,\n",
       "  <matplotlib.lines.Line2D at 0x1133d9e80>,\n",
       "  <matplotlib.lines.Line2D at 0x1133eaf98>,\n",
       "  <matplotlib.lines.Line2D at 0x112d8a7f0>]}"
      ]
     },
     "execution_count": 31,
     "metadata": {},
     "output_type": "execute_result"
    },
    {
     "data": {
      "text/plain": [
       "([<matplotlib.axis.XTick at 0x111b7b978>,\n",
       "  <matplotlib.axis.XTick at 0x111b9f160>,\n",
       "  <matplotlib.axis.XTick at 0x10632cb00>,\n",
       "  <matplotlib.axis.XTick at 0x112d9c940>],\n",
       " <a list of 4 Text xticklabel objects>)"
      ]
     },
     "execution_count": 31,
     "metadata": {},
     "output_type": "execute_result"
    },
    {
     "data": {
      "image/png": "[encoded data removed]",
      "text/plain": [
       "<matplotlib.figure.Figure at 0x115af0fd0>"
      ]
     },
     "metadata": {},
     "output_type": "display_data"
    }
   ],
   "source": [
    "plt.style.use('ggplot')\n",
    "plt.figure(figsize=(12,5))\n",
    "plt.boxplot([df[df['Year']==2011]['TotalPay'],df[df['Year']==2012]['TotalPay'],df[df['Year']==2013]['TotalPay'],df[df['Year']==2014]['TotalPay']])\n",
    "plt.xticks(np.arange(1,5),['2011','2012','2013','2014'])"
   ]
  },
  {
   "cell_type": "code",
   "execution_count": 32,
   "metadata": {},
   "outputs": [
    {
     "data": {
      "text/plain": [
       "<matplotlib.figure.Figure at 0x111b6d978>"
      ]
     },
     "execution_count": 32,
     "metadata": {},
     "output_type": "execute_result"
    },
    {
     "data": {
      "text/plain": [
       "<matplotlib.axes._subplots.AxesSubplot at 0x115ad06a0>"
      ]
     },
     "execution_count": 32,
     "metadata": {},
     "output_type": "execute_result"
    },
    {
     "data": {
      "image/png": "[encoded data removed]",
      "text/plain": [
       "<matplotlib.figure.Figure at 0x111b6d978>"
      ]
     },
     "metadata": {},
     "output_type": "display_data"
    }
   ],
   "source": [
    "plt.style.use('ggplot')\n",
    "plt.figure(figsize=(12,5))\n",
    "sns.boxplot(x='Year',y='TotalPay',data=df)"
   ]
  },
  {
   "cell_type": "code",
   "execution_count": 33,
   "metadata": {},
   "outputs": [
    {
     "data": {
      "text/html": [
       "<div>\n",
       "<style>\n",
       "    .dataframe thead tr:only-child th {\n",
       "        text-align: right;\n",
       "    }\n",
       "\n",
       "    .dataframe thead th {\n",
       "        text-align: left;\n",
       "    }\n",
       "\n",
       "    .dataframe tbody tr th {\n",
       "        vertical-align: top;\n",
       "    }\n",
       "</style>\n",
       "<table border=\"1\" class=\"dataframe\">\n",
       "  <thead>\n",
       "    <tr style=\"text-align: right;\">\n",
       "      <th></th>\n",
       "      <th>Id</th>\n",
       "      <th>EmployeeName</th>\n",
       "      <th>JobTitle</th>\n",
       "      <th>BasePay</th>\n",
       "      <th>OvertimePay</th>\n",
       "      <th>OtherPay</th>\n",
       "      <th>Benefits</th>\n",
       "      <th>TotalPay</th>\n",
       "      <th>TotalPayBenefits</th>\n",
       "      <th>Year</th>\n",
       "      <th>Status</th>\n",
       "    </tr>\n",
       "  </thead>\n",
       "  <tbody>\n",
       "    <tr>\n",
       "      <th>0</th>\n",
       "      <td>1</td>\n",
       "      <td>NATHANIEL FORD</td>\n",
       "      <td>GEN MGR, PUBLIC TRNSP DEPT</td>\n",
       "      <td>167411.18</td>\n",
       "      <td>0.00</td>\n",
       "      <td>400184.25</td>\n",
       "      <td>NaN</td>\n",
       "      <td>567595.43</td>\n",
       "      <td>567595.43</td>\n",
       "      <td>2011</td>\n",
       "      <td>NaN</td>\n",
       "    </tr>\n",
       "    <tr>\n",
       "      <th>1</th>\n",
       "      <td>2</td>\n",
       "      <td>GARY JIMENEZ</td>\n",
       "      <td>CAPTAIN 3</td>\n",
       "      <td>155966.02</td>\n",
       "      <td>245131.88</td>\n",
       "      <td>137811.38</td>\n",
       "      <td>NaN</td>\n",
       "      <td>538909.28</td>\n",
       "      <td>538909.28</td>\n",
       "      <td>2011</td>\n",
       "      <td>NaN</td>\n",
       "    </tr>\n",
       "    <tr>\n",
       "      <th>2</th>\n",
       "      <td>3</td>\n",
       "      <td>ALBERT PARDINI</td>\n",
       "      <td>CAPTAIN 3</td>\n",
       "      <td>212739.13</td>\n",
       "      <td>106088.18</td>\n",
       "      <td>16452.60</td>\n",
       "      <td>NaN</td>\n",
       "      <td>335279.91</td>\n",
       "      <td>335279.91</td>\n",
       "      <td>2011</td>\n",
       "      <td>NaN</td>\n",
       "    </tr>\n",
       "    <tr>\n",
       "      <th>3</th>\n",
       "      <td>4</td>\n",
       "      <td>CHRISTOPHER CHONG</td>\n",
       "      <td>WIRE ROPE CABLE MAINTENANCE MECHANIC</td>\n",
       "      <td>77916.00</td>\n",
       "      <td>56120.71</td>\n",
       "      <td>198306.90</td>\n",
       "      <td>NaN</td>\n",
       "      <td>332343.61</td>\n",
       "      <td>332343.61</td>\n",
       "      <td>2011</td>\n",
       "      <td>NaN</td>\n",
       "    </tr>\n",
       "    <tr>\n",
       "      <th>4</th>\n",
       "      <td>5</td>\n",
       "      <td>PATRICK GARDNER</td>\n",
       "      <td>ASSISTANT DEPUTY CHIEF 2</td>\n",
       "      <td>134401.60</td>\n",
       "      <td>9737.00</td>\n",
       "      <td>182234.59</td>\n",
       "      <td>NaN</td>\n",
       "      <td>326373.19</td>\n",
       "      <td>326373.19</td>\n",
       "      <td>2011</td>\n",
       "      <td>NaN</td>\n",
       "    </tr>\n",
       "  </tbody>\n",
       "</table>\n",
       "</div>"
      ],
      "text/plain": [
       "   Id       EmployeeName                              JobTitle    BasePay  \\\n",
       "0   1     NATHANIEL FORD            GEN MGR, PUBLIC TRNSP DEPT  167411.18   \n",
       "1   2       GARY JIMENEZ                             CAPTAIN 3  155966.02   \n",
       "2   3     ALBERT PARDINI                             CAPTAIN 3  212739.13   \n",
       "3   4  CHRISTOPHER CHONG  WIRE ROPE CABLE MAINTENANCE MECHANIC   77916.00   \n",
       "4   5    PATRICK GARDNER              ASSISTANT DEPUTY CHIEF 2  134401.60   \n",
       "\n",
       "   OvertimePay   OtherPay  Benefits   TotalPay  TotalPayBenefits  Year Status  \n",
       "0         0.00  400184.25       NaN  567595.43         567595.43  2011    NaN  \n",
       "1    245131.88  137811.38       NaN  538909.28         538909.28  2011    NaN  \n",
       "2    106088.18   16452.60       NaN  335279.91         335279.91  2011    NaN  \n",
       "3     56120.71  198306.90       NaN  332343.61         332343.61  2011    NaN  \n",
       "4      9737.00  182234.59       NaN  326373.19         326373.19  2011    NaN  "
      ]
     },
     "execution_count": 33,
     "metadata": {},
     "output_type": "execute_result"
    }
   ],
   "source": [
    "df.head()"
   ]
  },
  {
   "cell_type": "code",
   "execution_count": 34,
   "metadata": {},
   "outputs": [],
   "source": [
    "BasePay=df[df['BasePay'].notnull()]"
   ]
  },
  {
   "cell_type": "code",
   "execution_count": 41,
   "metadata": {},
   "outputs": [],
   "source": [
    "PT=df[df['Status']=='PT']\n",
    "FT=df[df['Status']=='FT']"
   ]
  },
  {
   "cell_type": "code",
   "execution_count": 47,
   "metadata": {},
   "outputs": [
    {
     "data": {
      "text/plain": [
       "<matplotlib.axes._subplots.AxesSubplot at 0x1151777b8>"
      ]
     },
     "execution_count": 47,
     "metadata": {},
     "output_type": "execute_result"
    },
    {
     "data": {
      "text/plain": [
       "<matplotlib.axes._subplots.AxesSubplot at 0x1151777b8>"
      ]
     },
     "execution_count": 47,
     "metadata": {},
     "output_type": "execute_result"
    },
    {
     "data": {
      "text/plain": [
       "<matplotlib.legend.Legend at 0x114277048>"
      ]
     },
     "execution_count": 47,
     "metadata": {},
     "output_type": "execute_result"
    },
    {
     "data": {
      "image/png": "[encoded data removed]",
      "text/plain": [
       "<matplotlib.figure.Figure at 0x114fd1ef0>"
      ]
     },
     "metadata": {},
     "output_type": "display_data"
    }
   ],
   "source": [
    "sns.distplot(PT['TotalPay'],kde=False,label='PT')\n",
    "sns.distplot(FT['TotalPay'],kde=False,label='FT')\n",
    "plt.legend()"
   ]
  },
  {
   "cell_type": "code",
   "execution_count": 45,
   "metadata": {},
   "outputs": [
    {
     "ename": "SyntaxError",
     "evalue": "keyword can't be an expression (<ipython-input-45-a8e10d9083c2>, line 1)",
     "output_type": "error",
     "traceback": [
      "\u001b[0;36m  File \u001b[0;32m\"<ipython-input-45-a8e10d9083c2>\"\u001b[0;36m, line \u001b[0;32m1\u001b[0m\n\u001b[0;31m    sns.distplot(FT['TotalPay'].kde=False)\u001b[0m\n\u001b[0m                ^\u001b[0m\n\u001b[0;31mSyntaxError\u001b[0m\u001b[0;31m:\u001b[0m keyword can't be an expression\n"
     ]
    }
   ],
   "source": []
  },
  {
   "cell_type": "code",
   "execution_count": 57,
   "metadata": {},
   "outputs": [
    {
     "data": {
      "text/plain": [
       "113466.92087184664"
      ]
     },
     "execution_count": 57,
     "metadata": {},
     "output_type": "execute_result"
    }
   ],
   "source": [
    "df[df['JobTitle']=='REGISTERED NURSE']['TotalPay'].mean()"
   ]
  },
  {
   "cell_type": "code",
   "execution_count": 58,
   "metadata": {},
   "outputs": [
    {
     "data": {
      "text/plain": [
       "144222.33467491277"
      ]
     },
     "execution_count": 58,
     "metadata": {},
     "output_type": "execute_result"
    }
   ],
   "source": [
    "df[df['JobTitle']=='FIREFIGHTER']['TotalPay'].mean()"
   ]
  },
  {
   "cell_type": "code",
   "execution_count": 63,
   "metadata": {},
   "outputs": [
    {
     "data": {
      "text/plain": [
       "<matplotlib.axes._subplots.AxesSubplot at 0x115f68550>"
      ]
     },
     "execution_count": 63,
     "metadata": {},
     "output_type": "execute_result"
    },
    {
     "data": {
      "text/plain": [
       "<matplotlib.axes._subplots.AxesSubplot at 0x115f68550>"
      ]
     },
     "execution_count": 63,
     "metadata": {},
     "output_type": "execute_result"
    },
    {
     "data": {
      "text/plain": [
       "<matplotlib.legend.Legend at 0x1163b1208>"
      ]
     },
     "execution_count": 63,
     "metadata": {},
     "output_type": "execute_result"
    },
    {
     "data": {
      "image/png": "[encoded data removed]",
      "text/plain": [
       "<matplotlib.figure.Figure at 0x116175b38>"
      ]
     },
     "metadata": {},
     "output_type": "display_data"
    }
   ],
   "source": [
    "##Nurse vs FireFighter\n",
    "sns.distplot(df[df['JobTitle']=='REGISTERED NURSE']['TotalPay'],kde=False,label='Nurse')\n",
    "sns.distplot(df[df['JobTitle']=='FIREFIGHTER']['TotalPay'],kde=False,label='FireFighter')\n",
    "plt.legend()"
   ]
  },
  {
   "cell_type": "code",
   "execution_count": 64,
   "metadata": {
    "collapsed": true
   },
   "outputs": [],
   "source": [
    "#Nurse median\n",
    "nurse=df[df['JobTitle']=='REGISTERED NURSE']['TotalPay']"
   ]
  },
  {
   "cell_type": "raw",
   "metadata": {
    "collapsed": true
   },
   "source": []
  }
 ],
 "metadata": {
  "kernelspec": {
   "display_name": "Python 3",
   "language": "python",
   "name": "python3"
  },
  "language_info": {
   "codemirror_mode": {
    "name": "ipython",
    "version": 3
   },
   "file_extension": ".py",
   "mimetype": "text/x-python",
   "name": "python",
   "nbconvert_exporter": "python",
   "pygments_lexer": "ipython3",
   "version": "3.5.2"
  }
 },
 "nbformat": 4,
 "nbformat_minor": 2
}
