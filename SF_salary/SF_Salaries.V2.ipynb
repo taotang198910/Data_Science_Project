{
 "cells": [
  {
   "cell_type": "markdown",
   "metadata": {},
   "source": [
    "# SF Salaries"
   ]
  },
  {
   "cell_type": "code",
   "execution_count": 1,
   "metadata": {
    "collapsed": true
   },
   "outputs": [],
   "source": [
    "import numpy as np\n",
    "import pandas as pd\n",
    "import matplotlib.pyplot as plt\n",
    "import seaborn as sns\n",
    "import missingno as mso\n",
    "%matplotlib inline"
   ]
  },
  {
   "cell_type": "markdown",
   "metadata": {},
   "source": [
    "## Data Cleaning: \n",
    "0. Change data type of BasePay,OvertimePay, OtherPay and Benefits to numeric.\n",
    "0. Fill missing values with 0.\n",
    "0. Delete columns that don't need.\n",
    "0. Normalize JobTitle and EmployeeName to upper case.\n",
    "0. Delete rows that JobTitle are 'Not Provided'.\n",
    "0. Manually update top 20 paid titles from 2011 and 2014, since the names were either a subset or a partial match     across years.\n",
    "0. Replace job titles' roman numerals with arabic numerals."
   ]
  },
  {
   "cell_type": "code",
   "execution_count": 2,
   "metadata": {
    "collapsed": true
   },
   "outputs": [],
   "source": [
    "df=pd.read_csv('Salaries.csv',index_col=0,low_memory=False)"
   ]
  },
  {
   "cell_type": "code",
   "execution_count": 3,
   "metadata": {},
   "outputs": [
    {
     "data": {
      "text/html": [
       "<div>\n",
       "<style>\n",
       "    .dataframe thead tr:only-child th {\n",
       "        text-align: right;\n",
       "    }\n",
       "\n",
       "    .dataframe thead th {\n",
       "        text-align: left;\n",
       "    }\n",
       "\n",
       "    .dataframe tbody tr th {\n",
       "        vertical-align: top;\n",
       "    }\n",
       "</style>\n",
       "<table border=\"1\" class=\"dataframe\">\n",
       "  <thead>\n",
       "    <tr style=\"text-align: right;\">\n",
       "      <th></th>\n",
       "      <th>EmployeeName</th>\n",
       "      <th>JobTitle</th>\n",
       "      <th>BasePay</th>\n",
       "      <th>OvertimePay</th>\n",
       "      <th>OtherPay</th>\n",
       "      <th>Benefits</th>\n",
       "      <th>TotalPay</th>\n",
       "      <th>TotalPayBenefits</th>\n",
       "      <th>Year</th>\n",
       "      <th>Notes</th>\n",
       "      <th>Agency</th>\n",
       "      <th>Status</th>\n",
       "    </tr>\n",
       "    <tr>\n",
       "      <th>Id</th>\n",
       "      <th></th>\n",
       "      <th></th>\n",
       "      <th></th>\n",
       "      <th></th>\n",
       "      <th></th>\n",
       "      <th></th>\n",
       "      <th></th>\n",
       "      <th></th>\n",
       "      <th></th>\n",
       "      <th></th>\n",
       "      <th></th>\n",
       "      <th></th>\n",
       "    </tr>\n",
       "  </thead>\n",
       "  <tbody>\n",
       "    <tr>\n",
       "      <th>1</th>\n",
       "      <td>NATHANIEL FORD</td>\n",
       "      <td>GENERAL MANAGER-METROPOLITAN TRANSIT AUTHORITY</td>\n",
       "      <td>167411.18</td>\n",
       "      <td>0.0</td>\n",
       "      <td>400184.25</td>\n",
       "      <td>NaN</td>\n",
       "      <td>567595.43</td>\n",
       "      <td>567595.43</td>\n",
       "      <td>2011</td>\n",
       "      <td>NaN</td>\n",
       "      <td>San Francisco</td>\n",
       "      <td>NaN</td>\n",
       "    </tr>\n",
       "    <tr>\n",
       "      <th>2</th>\n",
       "      <td>GARY JIMENEZ</td>\n",
       "      <td>CAPTAIN III (POLICE DEPARTMENT)</td>\n",
       "      <td>155966.02</td>\n",
       "      <td>245131.88</td>\n",
       "      <td>137811.38</td>\n",
       "      <td>NaN</td>\n",
       "      <td>538909.28</td>\n",
       "      <td>538909.28</td>\n",
       "      <td>2011</td>\n",
       "      <td>NaN</td>\n",
       "      <td>San Francisco</td>\n",
       "      <td>NaN</td>\n",
       "    </tr>\n",
       "    <tr>\n",
       "      <th>3</th>\n",
       "      <td>ALBERT PARDINI</td>\n",
       "      <td>CAPTAIN III (POLICE DEPARTMENT)</td>\n",
       "      <td>212739.13</td>\n",
       "      <td>106088.18</td>\n",
       "      <td>16452.6</td>\n",
       "      <td>NaN</td>\n",
       "      <td>335279.91</td>\n",
       "      <td>335279.91</td>\n",
       "      <td>2011</td>\n",
       "      <td>NaN</td>\n",
       "      <td>San Francisco</td>\n",
       "      <td>NaN</td>\n",
       "    </tr>\n",
       "    <tr>\n",
       "      <th>4</th>\n",
       "      <td>CHRISTOPHER CHONG</td>\n",
       "      <td>WIRE ROPE CABLE MAINTENANCE MECHANIC</td>\n",
       "      <td>77916.0</td>\n",
       "      <td>56120.71</td>\n",
       "      <td>198306.9</td>\n",
       "      <td>NaN</td>\n",
       "      <td>332343.61</td>\n",
       "      <td>332343.61</td>\n",
       "      <td>2011</td>\n",
       "      <td>NaN</td>\n",
       "      <td>San Francisco</td>\n",
       "      <td>NaN</td>\n",
       "    </tr>\n",
       "    <tr>\n",
       "      <th>5</th>\n",
       "      <td>PATRICK GARDNER</td>\n",
       "      <td>DEPUTY CHIEF OF DEPARTMENT,(FIRE DEPARTMENT)</td>\n",
       "      <td>134401.6</td>\n",
       "      <td>9737.0</td>\n",
       "      <td>182234.59</td>\n",
       "      <td>NaN</td>\n",
       "      <td>326373.19</td>\n",
       "      <td>326373.19</td>\n",
       "      <td>2011</td>\n",
       "      <td>NaN</td>\n",
       "      <td>San Francisco</td>\n",
       "      <td>NaN</td>\n",
       "    </tr>\n",
       "  </tbody>\n",
       "</table>\n",
       "</div>"
      ],
      "text/plain": [
       "         EmployeeName                                        JobTitle  \\\n",
       "Id                                                                      \n",
       "1      NATHANIEL FORD  GENERAL MANAGER-METROPOLITAN TRANSIT AUTHORITY   \n",
       "2        GARY JIMENEZ                 CAPTAIN III (POLICE DEPARTMENT)   \n",
       "3      ALBERT PARDINI                 CAPTAIN III (POLICE DEPARTMENT)   \n",
       "4   CHRISTOPHER CHONG            WIRE ROPE CABLE MAINTENANCE MECHANIC   \n",
       "5     PATRICK GARDNER    DEPUTY CHIEF OF DEPARTMENT,(FIRE DEPARTMENT)   \n",
       "\n",
       "      BasePay OvertimePay   OtherPay Benefits   TotalPay  TotalPayBenefits  \\\n",
       "Id                                                                           \n",
       "1   167411.18         0.0  400184.25      NaN  567595.43         567595.43   \n",
       "2   155966.02   245131.88  137811.38      NaN  538909.28         538909.28   \n",
       "3   212739.13   106088.18    16452.6      NaN  335279.91         335279.91   \n",
       "4     77916.0    56120.71   198306.9      NaN  332343.61         332343.61   \n",
       "5    134401.6      9737.0  182234.59      NaN  326373.19         326373.19   \n",
       "\n",
       "    Year  Notes         Agency Status  \n",
       "Id                                     \n",
       "1   2011    NaN  San Francisco    NaN  \n",
       "2   2011    NaN  San Francisco    NaN  \n",
       "3   2011    NaN  San Francisco    NaN  \n",
       "4   2011    NaN  San Francisco    NaN  \n",
       "5   2011    NaN  San Francisco    NaN  "
      ]
     },
     "execution_count": 3,
     "metadata": {},
     "output_type": "execute_result"
    }
   ],
   "source": [
    "df.head()"
   ]
  },
  {
   "cell_type": "code",
   "execution_count": 4,
   "metadata": {},
   "outputs": [
    {
     "name": "stdout",
     "output_type": "stream",
     "text": [
      "<class 'pandas.core.frame.DataFrame'>\n",
      "Int64Index: 148654 entries, 1 to 148654\n",
      "Data columns (total 12 columns):\n",
      "EmployeeName        148654 non-null object\n",
      "JobTitle            148654 non-null object\n",
      "BasePay             148049 non-null object\n",
      "OvertimePay         148654 non-null object\n",
      "OtherPay            148654 non-null object\n",
      "Benefits            112495 non-null object\n",
      "TotalPay            148654 non-null float64\n",
      "TotalPayBenefits    148654 non-null float64\n",
      "Year                148654 non-null int64\n",
      "Notes               0 non-null float64\n",
      "Agency              148654 non-null object\n",
      "Status              38119 non-null object\n",
      "dtypes: float64(3), int64(1), object(8)\n",
      "memory usage: 14.7+ MB\n"
     ]
    }
   ],
   "source": [
    "df.info()"
   ]
  },
  {
   "cell_type": "markdown",
   "metadata": {},
   "source": [
    "** As we could see from the above, BasePay, OvertimePay,OtherPay and Benefits are object. However, they should be Numeric. Let's change the data type. **"
   ]
  },
  {
   "cell_type": "code",
   "execution_count": 5,
   "metadata": {
    "collapsed": true
   },
   "outputs": [],
   "source": [
    "## Change data type to numeric. If ‘coerce’, then invalid parsing will be set as NaN\n",
    "for name in ['BasePay','OvertimePay','OtherPay','Benefits']:\n",
    "    df[name]=pd.to_numeric(df[name],errors='coerce')"
   ]
  },
  {
   "cell_type": "code",
   "execution_count": 6,
   "metadata": {},
   "outputs": [
    {
     "name": "stdout",
     "output_type": "stream",
     "text": [
      "<class 'pandas.core.frame.DataFrame'>\n",
      "Int64Index: 148654 entries, 1 to 148654\n",
      "Data columns (total 12 columns):\n",
      "EmployeeName        148654 non-null object\n",
      "JobTitle            148654 non-null object\n",
      "BasePay             148045 non-null float64\n",
      "OvertimePay         148650 non-null float64\n",
      "OtherPay            148650 non-null float64\n",
      "Benefits            112491 non-null float64\n",
      "TotalPay            148654 non-null float64\n",
      "TotalPayBenefits    148654 non-null float64\n",
      "Year                148654 non-null int64\n",
      "Notes               0 non-null float64\n",
      "Agency              148654 non-null object\n",
      "Status              38119 non-null object\n",
      "dtypes: float64(7), int64(1), object(4)\n",
      "memory usage: 14.7+ MB\n"
     ]
    }
   ],
   "source": [
    "df.info()"
   ]
  },
  {
   "cell_type": "markdown",
   "metadata": {},
   "source": [
    "** Missing Values. From df.info() we could tell which columns have missing values, but here I used Missingno to visualize those columns.**"
   ]
  },
  {
   "cell_type": "code",
   "execution_count": 7,
   "metadata": {},
   "outputs": [
    {
     "data": {
      "image/png": "[encoded data removed]",
      "text/plain": [
       "<matplotlib.figure.Figure at 0x10c8e0780>"
      ]
     },
     "metadata": {},
     "output_type": "display_data"
    }
   ],
   "source": [
    "missing=mso.nullity_sort(df,sort='descending')\n",
    "mso.matrix(missing)"
   ]
  },
  {
   "cell_type": "code",
   "execution_count": 8,
   "metadata": {},
   "outputs": [
    {
     "data": {
      "text/plain": [
       "array([ nan])"
      ]
     },
     "execution_count": 8,
     "metadata": {},
     "output_type": "execute_result"
    }
   ],
   "source": [
    "df['Notes'].unique()"
   ]
  },
  {
   "cell_type": "code",
   "execution_count": 9,
   "metadata": {},
   "outputs": [
    {
     "data": {
      "text/plain": [
       "array(['San Francisco'], dtype=object)"
      ]
     },
     "execution_count": 9,
     "metadata": {},
     "output_type": "execute_result"
    }
   ],
   "source": [
    "df['Agency'].unique()"
   ]
  },
  {
   "cell_type": "code",
   "execution_count": 10,
   "metadata": {},
   "outputs": [
    {
     "data": {
      "text/plain": [
       "array([nan, 'PT', 'FT'], dtype=object)"
      ]
     },
     "execution_count": 10,
     "metadata": {},
     "output_type": "execute_result"
    }
   ],
   "source": [
    "df['Status'].unique()"
   ]
  },
  {
   "cell_type": "markdown",
   "metadata": {},
   "source": [
    "** As we can see that Notes and Agancy columns only have one unique value, so I decide to delete those columns that we would'n use in later's analysis.**"
   ]
  },
  {
   "cell_type": "code",
   "execution_count": 11,
   "metadata": {
    "collapsed": true
   },
   "outputs": [],
   "source": [
    "df.drop(['Notes','Agency'],axis=1,inplace=True)"
   ]
  },
  {
   "cell_type": "code",
   "execution_count": 12,
   "metadata": {
    "collapsed": true
   },
   "outputs": [],
   "source": [
    "##Fill missing value NaN to 0\n",
    "df[['BasePay','Benefits']]=df[['BasePay','Benefits']].fillna(0)"
   ]
  },
  {
   "cell_type": "markdown",
   "metadata": {},
   "source": [
    "** Normalizing EmployeeName and JobTitle values to upper case.**"
   ]
  },
  {
   "cell_type": "code",
   "execution_count": 13,
   "metadata": {},
   "outputs": [
    {
     "data": {
      "text/plain": [
       "Kevin Lee       13\n",
       "Richard Lee     11\n",
       "William Wong    11\n",
       "Steven Lee      11\n",
       "John Chan        9\n",
       "Name: EmployeeName, dtype: int64"
      ]
     },
     "execution_count": 13,
     "metadata": {},
     "output_type": "execute_result"
    }
   ],
   "source": [
    "df['EmployeeName'].value_counts().head()  ## Upper and lower case problem, such as Kevin Lee and KEVIN LEE"
   ]
  },
  {
   "cell_type": "code",
   "execution_count": 14,
   "metadata": {},
   "outputs": [
    {
     "data": {
      "text/plain": [
       "Transit Operator                                      7036\n",
       "Special Nurse                                         4389\n",
       "Registered Nurse                                      3736\n",
       "Public Svc Aide-Public Works                          2518\n",
       "Police Officer 3                                      2421\n",
       "Custodian                                             2418\n",
       "TRANSIT OPERATOR                                      2388\n",
       "Firefighter                                           2359\n",
       "Recreation Leader                                     1971\n",
       "Patient Care Assistant                                1945\n",
       "Deputy Sheriff                                        1933\n",
       "Police Officer                                        1476\n",
       "SPECIAL NURSE                                         1402\n",
       "Public Service Trainee                                1328\n",
       "REGISTERED NURSE                                      1219\n",
       "Police Officer 2                                      1141\n",
       "Attorney (Civil/Criminal)                             1126\n",
       "Porter                                                1095\n",
       "Sergeant 3                                            1047\n",
       "General Laborer                                       1033\n",
       "EMT/Paramedic/Firefighter                              918\n",
       "Gardener                                               894\n",
       "Parking Control Officer                                868\n",
       "Senior Clerk                                           840\n",
       "Library Page                                           799\n",
       "CUSTODIAN                                              796\n",
       "FIREFIGHTER                                            794\n",
       "POLICE OFFICER III                                     779\n",
       "Clerk                                                  764\n",
       "Eligibility Worker                                     760\n",
       "                                                      ... \n",
       "SENIOR EMPLOYEE ASSISTANCE COUNSELOR                     1\n",
       "WIRE ROPE CABLE MAINTENANCE SUPERVISOR                   1\n",
       "PAINTER SUPERVISOR II                                    1\n",
       "PIANIST                                                  1\n",
       "CHIEF OF POLICE                                          1\n",
       "ASST. CHIEF PROBATION OFFICER-JUVENILE PROBATION         1\n",
       "LEGISLATION CLERK                                        1\n",
       "WHARFINGER I                                             1\n",
       "ATTORNEY FOR THE PUBLIC ADMINISTRATOR                    1\n",
       "ORTHOPEDIC TECHNICIAN I                                  1\n",
       "CITY PLANNING GRAPHICS SUPERVISOR                        1\n",
       "SUPPLY ROOM ATTENDENT                                    1\n",
       "TREASURER                                                1\n",
       "SENIOR PLAN CHECKER                                      1\n",
       "Legislative Calendar Clerk                               1\n",
       "SECRETARY, HUMAN SERVICES COMMISSION                     1\n",
       "WINDOW CLEANER SUPERVISOR                                1\n",
       "ASSISTANT DIRECTOR, LOG CABIN RANCH                      1\n",
       "CAPTAIN, BUREAU OF FIRE PREVENTION AND PUBLIC SAFE       1\n",
       "BAKER                                                    1\n",
       "COMMUNICATIONS DIRECTOR                                  1\n",
       "DEPUTY DIRECTOR OF INVESTMENTS                           1\n",
       "GLAZIER SUPERVISOR I                                     1\n",
       "LABORATORY HELPER                                        1\n",
       "DIRECTOR, PROBATION SERVICES                             1\n",
       "DIRECTOR, EMPLOYEE RELATIONS DIVISION                    1\n",
       "Forensic Toxicologist Supervis                           1\n",
       "SENIOR FOOD SERVICE SUPERVISOR                           1\n",
       "TRANSIT POWER LINE WORKER SUPERVISOR II                  1\n",
       "Chief Investment Officer                                 1\n",
       "Name: JobTitle, Length: 2159, dtype: int64"
      ]
     },
     "execution_count": 14,
     "metadata": {},
     "output_type": "execute_result"
    }
   ],
   "source": [
    "df['JobTitle'].value_counts()  ## Upper and lower case problem. "
   ]
  },
  {
   "cell_type": "code",
   "execution_count": 15,
   "metadata": {
    "collapsed": true
   },
   "outputs": [],
   "source": [
    "# Change all values to upper case.\n",
    "df['EmployeeName']=df['EmployeeName'].str.upper().str.replace('  ',' ')\n",
    "df['JobTitle']=df['JobTitle'].str.upper().str.replace('  ',' ')"
   ]
  },
  {
   "cell_type": "markdown",
   "metadata": {},
   "source": [
    "** Deleting rows that JobTitle and EmployeeName have 'Not Provided'.**"
   ]
  },
  {
   "cell_type": "code",
   "execution_count": 16,
   "metadata": {},
   "outputs": [
    {
     "data": {
      "text/html": [
       "<div>\n",
       "<style>\n",
       "    .dataframe thead tr:only-child th {\n",
       "        text-align: right;\n",
       "    }\n",
       "\n",
       "    .dataframe thead th {\n",
       "        text-align: left;\n",
       "    }\n",
       "\n",
       "    .dataframe tbody tr th {\n",
       "        vertical-align: top;\n",
       "    }\n",
       "</style>\n",
       "<table border=\"1\" class=\"dataframe\">\n",
       "  <thead>\n",
       "    <tr style=\"text-align: right;\">\n",
       "      <th></th>\n",
       "      <th>EmployeeName</th>\n",
       "      <th>JobTitle</th>\n",
       "      <th>BasePay</th>\n",
       "      <th>OvertimePay</th>\n",
       "      <th>OtherPay</th>\n",
       "      <th>Benefits</th>\n",
       "      <th>TotalPay</th>\n",
       "      <th>TotalPayBenefits</th>\n",
       "      <th>Year</th>\n",
       "      <th>Status</th>\n",
       "    </tr>\n",
       "    <tr>\n",
       "      <th>Id</th>\n",
       "      <th></th>\n",
       "      <th></th>\n",
       "      <th></th>\n",
       "      <th></th>\n",
       "      <th></th>\n",
       "      <th></th>\n",
       "      <th></th>\n",
       "      <th></th>\n",
       "      <th></th>\n",
       "      <th></th>\n",
       "    </tr>\n",
       "  </thead>\n",
       "  <tbody>\n",
       "    <tr>\n",
       "      <th>13798</th>\n",
       "      <td>NOT PROVIDED</td>\n",
       "      <td>PUBLIC SAFETY COMMUNICATIONS DISPATCHER</td>\n",
       "      <td>57963.39</td>\n",
       "      <td>19683.91</td>\n",
       "      <td>4373.86</td>\n",
       "      <td>0.0</td>\n",
       "      <td>82021.16</td>\n",
       "      <td>82021.16</td>\n",
       "      <td>2011</td>\n",
       "      <td>NaN</td>\n",
       "    </tr>\n",
       "    <tr>\n",
       "      <th>44152</th>\n",
       "      <td>NOT PROVIDED</td>\n",
       "      <td>PUBLIC SAFETYCOMM DISP</td>\n",
       "      <td>82196.52</td>\n",
       "      <td>25934.20</td>\n",
       "      <td>3752.49</td>\n",
       "      <td>38024.3</td>\n",
       "      <td>111883.21</td>\n",
       "      <td>149907.51</td>\n",
       "      <td>2012</td>\n",
       "      <td>NaN</td>\n",
       "    </tr>\n",
       "    <tr>\n",
       "      <th>148647</th>\n",
       "      <td>NOT PROVIDED</td>\n",
       "      <td>NOT PROVIDED</td>\n",
       "      <td>0.00</td>\n",
       "      <td>NaN</td>\n",
       "      <td>NaN</td>\n",
       "      <td>0.0</td>\n",
       "      <td>0.00</td>\n",
       "      <td>0.00</td>\n",
       "      <td>2014</td>\n",
       "      <td>NaN</td>\n",
       "    </tr>\n",
       "    <tr>\n",
       "      <th>148651</th>\n",
       "      <td>NOT PROVIDED</td>\n",
       "      <td>NOT PROVIDED</td>\n",
       "      <td>0.00</td>\n",
       "      <td>NaN</td>\n",
       "      <td>NaN</td>\n",
       "      <td>0.0</td>\n",
       "      <td>0.00</td>\n",
       "      <td>0.00</td>\n",
       "      <td>2014</td>\n",
       "      <td>NaN</td>\n",
       "    </tr>\n",
       "    <tr>\n",
       "      <th>148652</th>\n",
       "      <td>NOT PROVIDED</td>\n",
       "      <td>NOT PROVIDED</td>\n",
       "      <td>0.00</td>\n",
       "      <td>NaN</td>\n",
       "      <td>NaN</td>\n",
       "      <td>0.0</td>\n",
       "      <td>0.00</td>\n",
       "      <td>0.00</td>\n",
       "      <td>2014</td>\n",
       "      <td>NaN</td>\n",
       "    </tr>\n",
       "    <tr>\n",
       "      <th>148653</th>\n",
       "      <td>NOT PROVIDED</td>\n",
       "      <td>NOT PROVIDED</td>\n",
       "      <td>0.00</td>\n",
       "      <td>NaN</td>\n",
       "      <td>NaN</td>\n",
       "      <td>0.0</td>\n",
       "      <td>0.00</td>\n",
       "      <td>0.00</td>\n",
       "      <td>2014</td>\n",
       "      <td>NaN</td>\n",
       "    </tr>\n",
       "  </tbody>\n",
       "</table>\n",
       "</div>"
      ],
      "text/plain": [
       "        EmployeeName                                 JobTitle   BasePay  \\\n",
       "Id                                                                        \n",
       "13798   NOT PROVIDED  PUBLIC SAFETY COMMUNICATIONS DISPATCHER  57963.39   \n",
       "44152   NOT PROVIDED                   PUBLIC SAFETYCOMM DISP  82196.52   \n",
       "148647  NOT PROVIDED                             NOT PROVIDED      0.00   \n",
       "148651  NOT PROVIDED                             NOT PROVIDED      0.00   \n",
       "148652  NOT PROVIDED                             NOT PROVIDED      0.00   \n",
       "148653  NOT PROVIDED                             NOT PROVIDED      0.00   \n",
       "\n",
       "        OvertimePay  OtherPay  Benefits   TotalPay  TotalPayBenefits  Year  \\\n",
       "Id                                                                           \n",
       "13798      19683.91   4373.86       0.0   82021.16          82021.16  2011   \n",
       "44152      25934.20   3752.49   38024.3  111883.21         149907.51  2012   \n",
       "148647          NaN       NaN       0.0       0.00              0.00  2014   \n",
       "148651          NaN       NaN       0.0       0.00              0.00  2014   \n",
       "148652          NaN       NaN       0.0       0.00              0.00  2014   \n",
       "148653          NaN       NaN       0.0       0.00              0.00  2014   \n",
       "\n",
       "       Status  \n",
       "Id             \n",
       "13798     NaN  \n",
       "44152     NaN  \n",
       "148647    NaN  \n",
       "148651    NaN  \n",
       "148652    NaN  \n",
       "148653    NaN  "
      ]
     },
     "execution_count": 16,
     "metadata": {},
     "output_type": "execute_result"
    }
   ],
   "source": [
    "df[df['EmployeeName'].str.contains('NOT PROVIDED')]"
   ]
  },
  {
   "cell_type": "code",
   "execution_count": 17,
   "metadata": {
    "collapsed": true
   },
   "outputs": [],
   "source": [
    "df=df[df['JobTitle'] !='NOT PROVIDED']"
   ]
  },
  {
   "cell_type": "code",
   "execution_count": 18,
   "metadata": {},
   "outputs": [
    {
     "data": {
      "text/html": [
       "<div>\n",
       "<style>\n",
       "    .dataframe thead tr:only-child th {\n",
       "        text-align: right;\n",
       "    }\n",
       "\n",
       "    .dataframe thead th {\n",
       "        text-align: left;\n",
       "    }\n",
       "\n",
       "    .dataframe tbody tr th {\n",
       "        vertical-align: top;\n",
       "    }\n",
       "</style>\n",
       "<table border=\"1\" class=\"dataframe\">\n",
       "  <thead>\n",
       "    <tr style=\"text-align: right;\">\n",
       "      <th></th>\n",
       "      <th>BasePay</th>\n",
       "      <th>OvertimePay</th>\n",
       "      <th>OtherPay</th>\n",
       "      <th>Benefits</th>\n",
       "      <th>TotalPay</th>\n",
       "      <th>TotalPayBenefits</th>\n",
       "      <th>Year</th>\n",
       "    </tr>\n",
       "  </thead>\n",
       "  <tbody>\n",
       "    <tr>\n",
       "      <th>count</th>\n",
       "      <td>148650.000000</td>\n",
       "      <td>148650.000000</td>\n",
       "      <td>148650.000000</td>\n",
       "      <td>148650.000000</td>\n",
       "      <td>148650.000000</td>\n",
       "      <td>148650.000000</td>\n",
       "      <td>148650.000000</td>\n",
       "    </tr>\n",
       "    <tr>\n",
       "      <th>mean</th>\n",
       "      <td>66055.506718</td>\n",
       "      <td>5066.059886</td>\n",
       "      <td>3648.767297</td>\n",
       "      <td>18924.742068</td>\n",
       "      <td>74770.333901</td>\n",
       "      <td>93695.075969</td>\n",
       "      <td>2012.522603</td>\n",
       "    </tr>\n",
       "    <tr>\n",
       "      <th>std</th>\n",
       "      <td>42885.919334</td>\n",
       "      <td>11454.380559</td>\n",
       "      <td>8056.601866</td>\n",
       "      <td>17165.229731</td>\n",
       "      <td>50516.196009</td>\n",
       "      <td>62792.497391</td>\n",
       "      <td>1.117526</td>\n",
       "    </tr>\n",
       "    <tr>\n",
       "      <th>min</th>\n",
       "      <td>-166.010000</td>\n",
       "      <td>-0.010000</td>\n",
       "      <td>-7058.590000</td>\n",
       "      <td>-33.890000</td>\n",
       "      <td>-618.130000</td>\n",
       "      <td>-618.130000</td>\n",
       "      <td>2011.000000</td>\n",
       "    </tr>\n",
       "    <tr>\n",
       "      <th>25%</th>\n",
       "      <td>32798.550000</td>\n",
       "      <td>0.000000</td>\n",
       "      <td>0.000000</td>\n",
       "      <td>0.000000</td>\n",
       "      <td>36169.955000</td>\n",
       "      <td>44073.337500</td>\n",
       "      <td>2012.000000</td>\n",
       "    </tr>\n",
       "    <tr>\n",
       "      <th>50%</th>\n",
       "      <td>64862.310000</td>\n",
       "      <td>0.000000</td>\n",
       "      <td>811.270000</td>\n",
       "      <td>23217.135000</td>\n",
       "      <td>71427.240000</td>\n",
       "      <td>92406.020000</td>\n",
       "      <td>2013.000000</td>\n",
       "    </tr>\n",
       "    <tr>\n",
       "      <th>75%</th>\n",
       "      <td>94609.715000</td>\n",
       "      <td>4658.175000</td>\n",
       "      <td>4236.065000</td>\n",
       "      <td>33468.980000</td>\n",
       "      <td>105842.960000</td>\n",
       "      <td>132877.992500</td>\n",
       "      <td>2014.000000</td>\n",
       "    </tr>\n",
       "    <tr>\n",
       "      <th>max</th>\n",
       "      <td>319275.010000</td>\n",
       "      <td>245131.880000</td>\n",
       "      <td>400184.250000</td>\n",
       "      <td>96570.660000</td>\n",
       "      <td>567595.430000</td>\n",
       "      <td>567595.430000</td>\n",
       "      <td>2014.000000</td>\n",
       "    </tr>\n",
       "  </tbody>\n",
       "</table>\n",
       "</div>"
      ],
      "text/plain": [
       "             BasePay    OvertimePay       OtherPay       Benefits  \\\n",
       "count  148650.000000  148650.000000  148650.000000  148650.000000   \n",
       "mean    66055.506718    5066.059886    3648.767297   18924.742068   \n",
       "std     42885.919334   11454.380559    8056.601866   17165.229731   \n",
       "min      -166.010000      -0.010000   -7058.590000     -33.890000   \n",
       "25%     32798.550000       0.000000       0.000000       0.000000   \n",
       "50%     64862.310000       0.000000     811.270000   23217.135000   \n",
       "75%     94609.715000    4658.175000    4236.065000   33468.980000   \n",
       "max    319275.010000  245131.880000  400184.250000   96570.660000   \n",
       "\n",
       "            TotalPay  TotalPayBenefits           Year  \n",
       "count  148650.000000     148650.000000  148650.000000  \n",
       "mean    74770.333901      93695.075969    2012.522603  \n",
       "std     50516.196009      62792.497391       1.117526  \n",
       "min      -618.130000       -618.130000    2011.000000  \n",
       "25%     36169.955000      44073.337500    2012.000000  \n",
       "50%     71427.240000      92406.020000    2013.000000  \n",
       "75%    105842.960000     132877.992500    2014.000000  \n",
       "max    567595.430000     567595.430000    2014.000000  "
      ]
     },
     "execution_count": 18,
     "metadata": {},
     "output_type": "execute_result"
    }
   ],
   "source": [
    "df.describe()"
   ]
  },
  {
   "cell_type": "markdown",
   "metadata": {},
   "source": [
    "** People have negative pay? Here I decide to only use data that TotalPayBenefits are non-negative.**"
   ]
  },
  {
   "cell_type": "code",
   "execution_count": 19,
   "metadata": {
    "collapsed": true
   },
   "outputs": [],
   "source": [
    "## Fliter TotalPayBenefits are non-negative.\n",
    "df=df[df['TotalPayBenefits']>0]"
   ]
  },
  {
   "cell_type": "markdown",
   "metadata": {},
   "source": [
    "### Job tiles problem:\n"
   ]
  },
  {
   "cell_type": "code",
   "execution_count": 20,
   "metadata": {
    "collapsed": true
   },
   "outputs": [],
   "source": [
    "## Group TotalPay of Year and JobTitle by calulating it's mean values.\n",
    "df2=df.groupby(['Year','JobTitle'])['TotalPay'].median().unstack('Year').fillna(0)"
   ]
  },
  {
   "cell_type": "code",
   "execution_count": 21,
   "metadata": {},
   "outputs": [
    {
     "data": {
      "text/plain": [
       "JobTitle\n",
       "GENERAL MANAGER-METROPOLITAN TRANSIT AUTHORITY        399211.275\n",
       "DEPUTY DIRECTOR OF INVESTMENTS                        307899.460\n",
       "CHIEF OF DEPARTMENT, (FIRE DEPARTMENT)                302377.730\n",
       "EXECUTIVE CONTRACT EMPLOYEE                           277438.840\n",
       "ASSISTANT MEDICAL EXAMINER                            273771.210\n",
       "CHIEF OF POLICE                                       267992.590\n",
       "DEPUTY CHIEF OF DEPARTMENT,(FIRE DEPARTMENT)          261366.140\n",
       "ADMINISTRATOR, SFGH MEDICAL CENTER                    257124.440\n",
       "DEPARTMENT HEAD V                                     248895.770\n",
       "DEPUTY CHIEF III (POLICE DEPARTMENT)                  248718.640\n",
       "ASSISTANT CHIEF OF DEPARTMENT, (FIRE DEPARTMENT)      237344.410\n",
       "PORT DIRECTOR                                         233357.280\n",
       "BATTALION CHIEF, (FIRE DEPARTMENT)                    221049.320\n",
       "FORENSIC TOXICOLOGIST                                 215318.200\n",
       "CONFIDENTIAL CHIEF ATTORNEY II (CIVIL & CRIMINAL)     214988.680\n",
       "COMMANDER III, (POLICE DEPARTMENT)                    211596.240\n",
       "DEPUTY DIRECTOR II - MUNICIPAL TRANSPORTATION AG      210821.610\n",
       "CITY ATTORNEY                                         208243.120\n",
       "NURSING SUPERVISOR PSYCHIATRIC                        207464.250\n",
       "CAPTAIN, BUREAU OF FIRE PREVENTION AND PUBLIC SAFE    206704.630\n",
       "Name: 2011, dtype: float64"
      ]
     },
     "execution_count": 21,
     "metadata": {},
     "output_type": "execute_result"
    }
   ],
   "source": [
    "##Top 20 jobs in year 2011\n",
    "df2[2011].sort_values(ascending=False).head(20)"
   ]
  },
  {
   "cell_type": "code",
   "execution_count": 22,
   "metadata": {},
   "outputs": [
    {
     "data": {
      "text/plain": [
       "JobTitle\n",
       "CHIEF INVESTMENT OFFICER          339653.700\n",
       "CHIEF OF POLICE                   326716.760\n",
       "CHIEF, FIRE DEPARTMENT            326233.440\n",
       "ASST MED EXAMINER                 314441.280\n",
       "GEN MGR, PUBLIC TRNSP DEPT        294000.180\n",
       "DEP CHF OF DEPT (FIRE DEPT)       285575.785\n",
       "ASST CHF OF DEPT (FIRE DEPT)      282782.735\n",
       "ADMINISTRATOR, DPH                282619.960\n",
       "MAYOR                             281537.170\n",
       "EXECUTIVE CONTRACT EMPLOYEE       278544.710\n",
       "ADM, SFGH MEDICAL CENTER          268946.020\n",
       "DEPUTY CHIEF 3                    268864.585\n",
       "DEPT HEAD V                       267914.010\n",
       "CONTROLLER                        267914.000\n",
       "PORT DIRECTOR                     252149.010\n",
       "ASSISTANT DEPUTY CHIEF 2          249505.880\n",
       "DISTRICT ATTORNEY                 248767.060\n",
       "MANAGER, DEPT PUBLIC HEALTH       248637.570\n",
       "BATTALION CHIEF, FIRE SUPPRESS    248616.040\n",
       "EMERGENCY MEDICAL SVCS CHIEF      244209.180\n",
       "Name: 2014, dtype: float64"
      ]
     },
     "execution_count": 22,
     "metadata": {},
     "output_type": "execute_result"
    }
   ],
   "source": [
    "## Top 20 jobs in year 2014\n",
    "df2[2014].sort_values(ascending=False).head(20)"
   ]
  },
  {
   "cell_type": "markdown",
   "metadata": {},
   "source": [
    "\n",
    "___\n",
    "** Have you noticed the difference of some jobtitles? For example. CHIEF OF DEPARTMENT, (FIRE DEPARTMENT) and CHIEF, FIRE DEPARTMENT. But they shoud have the same job title: Chief of fire department. **\n",
    "\n",
    "**Let's explore more about Accountant. **"
   ]
  },
  {
   "cell_type": "code",
   "execution_count": 23,
   "metadata": {},
   "outputs": [
    {
     "data": {
      "text/html": [
       "<div>\n",
       "<style>\n",
       "    .dataframe thead tr:only-child th {\n",
       "        text-align: right;\n",
       "    }\n",
       "\n",
       "    .dataframe thead th {\n",
       "        text-align: left;\n",
       "    }\n",
       "\n",
       "    .dataframe tbody tr th {\n",
       "        vertical-align: top;\n",
       "    }\n",
       "</style>\n",
       "<table border=\"1\" class=\"dataframe\">\n",
       "  <thead>\n",
       "    <tr style=\"text-align: right;\">\n",
       "      <th></th>\n",
       "      <th>EmployeeName</th>\n",
       "      <th>JobTitle</th>\n",
       "      <th>BasePay</th>\n",
       "      <th>OvertimePay</th>\n",
       "      <th>OtherPay</th>\n",
       "      <th>Benefits</th>\n",
       "      <th>TotalPay</th>\n",
       "      <th>TotalPayBenefits</th>\n",
       "      <th>Year</th>\n",
       "      <th>Status</th>\n",
       "    </tr>\n",
       "    <tr>\n",
       "      <th>Id</th>\n",
       "      <th></th>\n",
       "      <th></th>\n",
       "      <th></th>\n",
       "      <th></th>\n",
       "      <th></th>\n",
       "      <th></th>\n",
       "      <th></th>\n",
       "      <th></th>\n",
       "      <th></th>\n",
       "      <th></th>\n",
       "    </tr>\n",
       "  </thead>\n",
       "  <tbody>\n",
       "    <tr>\n",
       "      <th>19264</th>\n",
       "      <td>CARLITO NEPACENA</td>\n",
       "      <td>ACCOUNTANT</td>\n",
       "      <td>65392.01</td>\n",
       "      <td>0.0</td>\n",
       "      <td>0.00</td>\n",
       "      <td>0.0</td>\n",
       "      <td>65392.01</td>\n",
       "      <td>65392.01</td>\n",
       "      <td>2011</td>\n",
       "      <td>NaN</td>\n",
       "    </tr>\n",
       "    <tr>\n",
       "      <th>19325</th>\n",
       "      <td>ROSALINDA TAN</td>\n",
       "      <td>ACCOUNTANT</td>\n",
       "      <td>65225.31</td>\n",
       "      <td>0.0</td>\n",
       "      <td>0.00</td>\n",
       "      <td>0.0</td>\n",
       "      <td>65225.31</td>\n",
       "      <td>65225.31</td>\n",
       "      <td>2011</td>\n",
       "      <td>NaN</td>\n",
       "    </tr>\n",
       "    <tr>\n",
       "      <th>20993</th>\n",
       "      <td>NELSON ALVARADO</td>\n",
       "      <td>ACCOUNTANT</td>\n",
       "      <td>60076.24</td>\n",
       "      <td>0.0</td>\n",
       "      <td>0.00</td>\n",
       "      <td>0.0</td>\n",
       "      <td>60076.24</td>\n",
       "      <td>60076.24</td>\n",
       "      <td>2011</td>\n",
       "      <td>NaN</td>\n",
       "    </tr>\n",
       "    <tr>\n",
       "      <th>25928</th>\n",
       "      <td>JEANETTE COOPER</td>\n",
       "      <td>ACCOUNTANT</td>\n",
       "      <td>42522.30</td>\n",
       "      <td>0.0</td>\n",
       "      <td>2782.08</td>\n",
       "      <td>0.0</td>\n",
       "      <td>45304.38</td>\n",
       "      <td>45304.38</td>\n",
       "      <td>2011</td>\n",
       "      <td>NaN</td>\n",
       "    </tr>\n",
       "    <tr>\n",
       "      <th>35286</th>\n",
       "      <td>CESAR PALARCA</td>\n",
       "      <td>ACCOUNTANT</td>\n",
       "      <td>0.00</td>\n",
       "      <td>0.0</td>\n",
       "      <td>1148.40</td>\n",
       "      <td>0.0</td>\n",
       "      <td>1148.40</td>\n",
       "      <td>1148.40</td>\n",
       "      <td>2011</td>\n",
       "      <td>NaN</td>\n",
       "    </tr>\n",
       "  </tbody>\n",
       "</table>\n",
       "</div>"
      ],
      "text/plain": [
       "           EmployeeName    JobTitle   BasePay  OvertimePay  OtherPay  \\\n",
       "Id                                                                     \n",
       "19264  CARLITO NEPACENA  ACCOUNTANT  65392.01          0.0      0.00   \n",
       "19325     ROSALINDA TAN  ACCOUNTANT  65225.31          0.0      0.00   \n",
       "20993   NELSON ALVARADO  ACCOUNTANT  60076.24          0.0      0.00   \n",
       "25928   JEANETTE COOPER  ACCOUNTANT  42522.30          0.0   2782.08   \n",
       "35286     CESAR PALARCA  ACCOUNTANT      0.00          0.0   1148.40   \n",
       "\n",
       "       Benefits  TotalPay  TotalPayBenefits  Year Status  \n",
       "Id                                                        \n",
       "19264       0.0  65392.01          65392.01  2011    NaN  \n",
       "19325       0.0  65225.31          65225.31  2011    NaN  \n",
       "20993       0.0  60076.24          60076.24  2011    NaN  \n",
       "25928       0.0  45304.38          45304.38  2011    NaN  \n",
       "35286       0.0   1148.40           1148.40  2011    NaN  "
      ]
     },
     "execution_count": 23,
     "metadata": {},
     "output_type": "execute_result"
    }
   ],
   "source": [
    "df[df['JobTitle']=='ACCOUNTANT']"
   ]
  },
  {
   "cell_type": "code",
   "execution_count": 24,
   "metadata": {},
   "outputs": [
    {
     "data": {
      "text/html": [
       "<div>\n",
       "<style>\n",
       "    .dataframe thead tr:only-child th {\n",
       "        text-align: right;\n",
       "    }\n",
       "\n",
       "    .dataframe thead th {\n",
       "        text-align: left;\n",
       "    }\n",
       "\n",
       "    .dataframe tbody tr th {\n",
       "        vertical-align: top;\n",
       "    }\n",
       "</style>\n",
       "<table border=\"1\" class=\"dataframe\">\n",
       "  <thead>\n",
       "    <tr style=\"text-align: right;\">\n",
       "      <th></th>\n",
       "      <th>EmployeeName</th>\n",
       "      <th>JobTitle</th>\n",
       "      <th>BasePay</th>\n",
       "      <th>OvertimePay</th>\n",
       "      <th>OtherPay</th>\n",
       "      <th>Benefits</th>\n",
       "      <th>TotalPay</th>\n",
       "      <th>TotalPayBenefits</th>\n",
       "      <th>Year</th>\n",
       "      <th>Status</th>\n",
       "    </tr>\n",
       "    <tr>\n",
       "      <th>Id</th>\n",
       "      <th></th>\n",
       "      <th></th>\n",
       "      <th></th>\n",
       "      <th></th>\n",
       "      <th></th>\n",
       "      <th></th>\n",
       "      <th></th>\n",
       "      <th></th>\n",
       "      <th></th>\n",
       "      <th></th>\n",
       "    </tr>\n",
       "  </thead>\n",
       "  <tbody>\n",
       "    <tr>\n",
       "      <th>55292</th>\n",
       "      <td>NELSON ALVARADO</td>\n",
       "      <td>ACCOUNTANT I</td>\n",
       "      <td>67895.66</td>\n",
       "      <td>0.0</td>\n",
       "      <td>0.00</td>\n",
       "      <td>31049.72</td>\n",
       "      <td>67895.66</td>\n",
       "      <td>98945.38</td>\n",
       "      <td>2012</td>\n",
       "      <td>NaN</td>\n",
       "    </tr>\n",
       "    <tr>\n",
       "      <th>55574</th>\n",
       "      <td>CARLITO NEPACENA</td>\n",
       "      <td>ACCOUNTANT I</td>\n",
       "      <td>66911.00</td>\n",
       "      <td>0.0</td>\n",
       "      <td>0.00</td>\n",
       "      <td>30851.50</td>\n",
       "      <td>66911.00</td>\n",
       "      <td>97762.50</td>\n",
       "      <td>2012</td>\n",
       "      <td>NaN</td>\n",
       "    </tr>\n",
       "    <tr>\n",
       "      <th>56189</th>\n",
       "      <td>ROSALINDA TAN</td>\n",
       "      <td>ACCOUNTANT I</td>\n",
       "      <td>65091.49</td>\n",
       "      <td>0.0</td>\n",
       "      <td>0.00</td>\n",
       "      <td>30090.33</td>\n",
       "      <td>65091.49</td>\n",
       "      <td>95181.82</td>\n",
       "      <td>2012</td>\n",
       "      <td>NaN</td>\n",
       "    </tr>\n",
       "    <tr>\n",
       "      <th>92397</th>\n",
       "      <td>CARLITO A NEPACENA</td>\n",
       "      <td>ACCOUNTANT I</td>\n",
       "      <td>71605.00</td>\n",
       "      <td>0.0</td>\n",
       "      <td>0.00</td>\n",
       "      <td>27901.82</td>\n",
       "      <td>71605.00</td>\n",
       "      <td>99506.82</td>\n",
       "      <td>2013</td>\n",
       "      <td>NaN</td>\n",
       "    </tr>\n",
       "    <tr>\n",
       "      <th>92600</th>\n",
       "      <td>ROSALINDA B TAN</td>\n",
       "      <td>ACCOUNTANT I</td>\n",
       "      <td>70969.22</td>\n",
       "      <td>0.0</td>\n",
       "      <td>0.00</td>\n",
       "      <td>27650.82</td>\n",
       "      <td>70969.22</td>\n",
       "      <td>98620.04</td>\n",
       "      <td>2013</td>\n",
       "      <td>NaN</td>\n",
       "    </tr>\n",
       "    <tr>\n",
       "      <th>95727</th>\n",
       "      <td>NELSON ALVARADO</td>\n",
       "      <td>ACCOUNTANT I</td>\n",
       "      <td>60941.02</td>\n",
       "      <td>0.0</td>\n",
       "      <td>2066.15</td>\n",
       "      <td>23597.12</td>\n",
       "      <td>63007.17</td>\n",
       "      <td>86604.29</td>\n",
       "      <td>2013</td>\n",
       "      <td>NaN</td>\n",
       "    </tr>\n",
       "    <tr>\n",
       "      <th>129822</th>\n",
       "      <td>CARLITO A NEPACENA</td>\n",
       "      <td>ACCOUNTANT I</td>\n",
       "      <td>70890.04</td>\n",
       "      <td>0.0</td>\n",
       "      <td>0.00</td>\n",
       "      <td>29355.86</td>\n",
       "      <td>70890.04</td>\n",
       "      <td>100245.90</td>\n",
       "      <td>2014</td>\n",
       "      <td>FT</td>\n",
       "    </tr>\n",
       "    <tr>\n",
       "      <th>140731</th>\n",
       "      <td>ROSALINDA B TAN</td>\n",
       "      <td>ACCOUNTANT I</td>\n",
       "      <td>19919.23</td>\n",
       "      <td>0.0</td>\n",
       "      <td>0.00</td>\n",
       "      <td>8191.53</td>\n",
       "      <td>19919.23</td>\n",
       "      <td>28110.76</td>\n",
       "      <td>2014</td>\n",
       "      <td>PT</td>\n",
       "    </tr>\n",
       "  </tbody>\n",
       "</table>\n",
       "</div>"
      ],
      "text/plain": [
       "              EmployeeName      JobTitle   BasePay  OvertimePay  OtherPay  \\\n",
       "Id                                                                          \n",
       "55292      NELSON ALVARADO  ACCOUNTANT I  67895.66          0.0      0.00   \n",
       "55574     CARLITO NEPACENA  ACCOUNTANT I  66911.00          0.0      0.00   \n",
       "56189        ROSALINDA TAN  ACCOUNTANT I  65091.49          0.0      0.00   \n",
       "92397   CARLITO A NEPACENA  ACCOUNTANT I  71605.00          0.0      0.00   \n",
       "92600      ROSALINDA B TAN  ACCOUNTANT I  70969.22          0.0      0.00   \n",
       "95727      NELSON ALVARADO  ACCOUNTANT I  60941.02          0.0   2066.15   \n",
       "129822  CARLITO A NEPACENA  ACCOUNTANT I  70890.04          0.0      0.00   \n",
       "140731     ROSALINDA B TAN  ACCOUNTANT I  19919.23          0.0      0.00   \n",
       "\n",
       "        Benefits  TotalPay  TotalPayBenefits  Year Status  \n",
       "Id                                                         \n",
       "55292   31049.72  67895.66          98945.38  2012    NaN  \n",
       "55574   30851.50  66911.00          97762.50  2012    NaN  \n",
       "56189   30090.33  65091.49          95181.82  2012    NaN  \n",
       "92397   27901.82  71605.00          99506.82  2013    NaN  \n",
       "92600   27650.82  70969.22          98620.04  2013    NaN  \n",
       "95727   23597.12  63007.17          86604.29  2013    NaN  \n",
       "129822  29355.86  70890.04         100245.90  2014     FT  \n",
       "140731   8191.53  19919.23          28110.76  2014     PT  "
      ]
     },
     "execution_count": 24,
     "metadata": {},
     "output_type": "execute_result"
    }
   ],
   "source": [
    "df[(df['JobTitle']=='ACCOUNTANT I') & (df['Year'].isin([2012,2013,2014]))]"
   ]
  },
  {
   "cell_type": "markdown",
   "metadata": {},
   "source": [
    "____\n",
    "** Have you noticed the difference between ACCOUNTANT (2011) and ACCOUNTAN I (2012-2014). They should have the same job title.**\n",
    "\n",
    "** Here I manually update top 20 paid titles from 2011 and 2014, since the names were either a subset or a partial match across years.**"
   ]
  },
  {
   "cell_type": "code",
   "execution_count": 25,
   "metadata": {
    "collapsed": true
   },
   "outputs": [],
   "source": [
    "#Update top 20 names\n",
    "df['JobTitle']=df['JobTitle'].replace({'CHIEF OF DEPARTMENT, (FIRE DEPARTMENT)' : 'CHIEF, FIRE DEPARTMENT',\n",
    "                'ASSISTANT MEDICAL EXAMINER' : 'ASST MED EXAMINER',\n",
    "                'DEPUTY CHIEF III (POLICE DEPARTMENT)' : 'DEPUTY CHIEF 3',\n",
    "                'DEPARTMENT HEAD V' : 'DEPT HEAD V',\n",
    "                'DEPUTY CHIEF OF DEPARTMENT,(FIRE DEPARTMENT)' : 'ASSISTANT DEPUTY CHIEF 2',\n",
    "                'DEPUTY DIRECTOR I - MUNICIPAL TRANSPORTATION AGE' : 'DEPUTY DIR I, MTA',\n",
    "                'DEPUTY DIRECTOR V' : 'DEP DIR V',\n",
    "                'LIEUTENANT, BUREAU OF FIRE PREVENTION AND PUBLIC S' : 'LIEUT,FIRE PREV',\n",
    "                'CONFIDENTIAL CHIEF ATTORNEY II (CIVIL & CRIMINAL)' : 'CFDNTAL CHF ATTY 2,(CVL&CRMNL)',\n",
    "                'CAPTAIN III (POLICE DEPARTMENT)' : 'CAPTAIN 3',\n",
    "                'DEPUTY DIRECTOR II - MUNICIPAL TRANSPORTATION AG' : 'DEPUTY DIR II, MTA',\n",
    "                'BATTALION CHIEF, (FIRE DEPARTMENT)' : 'BATTALION CHIEF, FIRE SUPPRESS',\n",
    "                'DEPARTMENT HEAD IV' : 'DEPT HEAD IV',\n",
    "                'COMMANDER III, (POLICE DEPARTMENT)' : 'CAPTAIN 3',\n",
    "                'ADMINISTRATOR, SFGH MEDICAL CENTER' : 'ADM, SFGH MEDICAL CENTER',\n",
    "                'GENERAL MANAGER-METROPOLITAN TRANSIT AUTHORITY' : 'GEN MGR, PUBLIC TRNSP DEPT',\n",
    "                'ASSISTANT DEPUTY CHIEF II' : 'ASSISTANT DEPUTY CHIEF 2',\n",
    "                'DEPUTY DIRECTOR OF INVESTMENTS' : 'DEP DIR FOR INVESTMENTS, RET',\n",
    "                'BATTLION CHIEF, FIRE SUPPRESSI' : 'BATTALION CHIEF, FIRE SUPPRESS',\n",
    "                'BATTLION CHIEF, FIRE SUPPRESS' : 'BATTALION CHIEF, FIRE SUPPRESS',\n",
    "                'ASSISTANT CHIEF OF DEPARTMENT, (FIRE DEPARTMENT)' : 'ASST CHF OF DEPT (FIRE DEPT)',\n",
    "                'POLICE OFFICER I':'POLICE OFFICER 1',\n",
    "                'ACCOUNTANT':'ACCOUNTANT I'})"
   ]
  },
  {
   "cell_type": "markdown",
   "metadata": {},
   "source": [
    "** Have you also noticed that some titles followed with roman numerals, but some of them with arabic numerala?\n",
    "Here I replace all the roman with arabic. **"
   ]
  },
  {
   "cell_type": "code",
   "execution_count": 26,
   "metadata": {
    "collapsed": true
   },
   "outputs": [],
   "source": [
    "#Replace roman numerals with arabic numerals\n",
    "num1 = {r' I ': r' 1 ',\n",
    "        r' II ': r' 2 ',\n",
    "        r' III': r' 3',\n",
    "        r' IV': r' 4',\n",
    "        r' V ': r' 5 ',\n",
    "        r' VI ': r' 6 ',\n",
    "        r' VII ': r' 7 ',\n",
    "        r' VIII ': r' 8 ',\n",
    "        r' I, ': r' 1, ',\n",
    "        r' II, ': r' 2, ',\n",
    "        r' III, ': r' 3, ',\n",
    "        r' IV, ': r' 4, ',\n",
    "        r' V, ': r' 5, ',\n",
    "        r' VI, ': r' 6, ',\n",
    "        r' VII, ': r' 7, ',\n",
    "        r' VIII, ': r' 8, ',\n",
    "        r' XIV': r' 14',\n",
    "        r' XXII': r' 22'}\n",
    "num2 = {r' I$': r' 1',\n",
    "        r' II$': r' 2',\n",
    "        r' III$': r' 3',\n",
    "        r' IV$': r' 4',\n",
    "        r' V$': r' 5',\n",
    "        r' VI$': r' 6',\n",
    "        r' VII$': r' 7',\n",
    "        r' VIII$': r' 8',\n",
    "        r' IX$': r' 9',\n",
    "        r' X$': r' 10',\n",
    "        r' XI$': r' 11',\n",
    "        r' XII$': r' 12',\n",
    "        r' XIII$': r' 13',\n",
    "        r' XIV$': r' 14',\n",
    "        r' XV$': r' 15',\n",
    "        r' XVI$': r' 16',\n",
    "        r' XVII$': r' 17',\n",
    "        r' XVIII$': r' 18'}"
   ]
  },
  {
   "cell_type": "code",
   "execution_count": 27,
   "metadata": {
    "collapsed": true
   },
   "outputs": [],
   "source": [
    "df['JobTitle']=df['JobTitle'].replace(num1,regex=True,inplace=False)\n",
    "df['JobTitle'].replace(num2,regex=True,inplace=True)"
   ]
  },
  {
   "cell_type": "code",
   "execution_count": 42,
   "metadata": {
    "collapsed": true
   },
   "outputs": [],
   "source": [
    "df3=df.groupby(['Year','JobTitle'])['TotalPay'].median().unstack('Year').fillna(0)"
   ]
  },
  {
   "cell_type": "markdown",
   "metadata": {},
   "source": [
    "____"
   ]
  },
  {
   "cell_type": "markdown",
   "metadata": {},
   "source": [
    "## EDA"
   ]
  },
  {
   "cell_type": "markdown",
   "metadata": {},
   "source": [
    "** Using Botplot to check out the distribution of TotalPay of each year.**"
   ]
  },
  {
   "cell_type": "code",
   "execution_count": 30,
   "metadata": {},
   "outputs": [
    {
     "data": {
      "text/plain": [
       "<matplotlib.figure.Figure at 0x107262cc0>"
      ]
     },
     "execution_count": 30,
     "metadata": {},
     "output_type": "execute_result"
    },
    {
     "data": {
      "text/plain": [
       "<matplotlib.axes._subplots.AxesSubplot at 0x1107d5cc0>"
      ]
     },
     "execution_count": 30,
     "metadata": {},
     "output_type": "execute_result"
    },
    {
     "data": {
      "image/png": "[encoded data removed]",
      "text/plain": [
       "<matplotlib.figure.Figure at 0x107262cc0>"
      ]
     },
     "metadata": {},
     "output_type": "display_data"
    }
   ],
   "source": [
    "plt.figure(figsize=(12,6))\n",
    "sns.set_style('darkgrid')\n",
    "sns.boxplot('Year','TotalPay',data=df)"
   ]
  },
  {
   "cell_type": "markdown",
   "metadata": {},
   "source": [
    "** As we could see in the above chart, indicated lot of outliers of each year. Then I use median on following analysis. Beacuse mean is very sensitive to the most abnormal of values such as outliers.**\n",
    "____"
   ]
  },
  {
   "cell_type": "markdown",
   "metadata": {},
   "source": [
    "**Showing median value of BasePay,TotalPay and TotalBenefitsPay of each year.**"
   ]
  },
  {
   "cell_type": "code",
   "execution_count": 31,
   "metadata": {},
   "outputs": [
    {
     "data": {
      "text/plain": [
       "<matplotlib.axes._subplots.AxesSubplot at 0x1099aaf60>"
      ]
     },
     "execution_count": 31,
     "metadata": {},
     "output_type": "execute_result"
    },
    {
     "data": {
      "text/plain": [
       "<matplotlib.text.Text at 0x10bd787f0>"
      ]
     },
     "execution_count": 31,
     "metadata": {},
     "output_type": "execute_result"
    },
    {
     "data": {
      "text/plain": [
       "<matplotlib.text.Text at 0x10bd906a0>"
      ]
     },
     "execution_count": 31,
     "metadata": {},
     "output_type": "execute_result"
    },
    {
     "data": {
      "text/plain": [
       "(array([0, 1, 2, 3]), <a list of 4 Text xticklabel objects>)"
      ]
     },
     "execution_count": 31,
     "metadata": {},
     "output_type": "execute_result"
    },
    {
     "data": {
      "text/plain": [
       "<matplotlib.legend.Legend at 0x109986400>"
      ]
     },
     "execution_count": 31,
     "metadata": {},
     "output_type": "execute_result"
    },
    {
     "data": {
      "image/png": "[encoded data removed]",
      "text/plain": [
       "<matplotlib.figure.Figure at 0x1099867f0>"
      ]
     },
     "metadata": {},
     "output_type": "display_data"
    }
   ],
   "source": [
    "df.groupby('Year')['BasePay','TotalPay','TotalPayBenefits'].median().plot(kind='bar')\n",
    "plt.ylabel('Pay')\n",
    "plt.title('Median Payment')\n",
    "plt.xticks(rotation=45)\n",
    "plt.legend(bbox_to_anchor=(1.05,1),loc=2)"
   ]
  },
  {
   "cell_type": "markdown",
   "metadata": {},
   "source": [
    "____\n",
    "**Top 10 jobs in 2011 and 2014**"
   ]
  },
  {
   "cell_type": "code",
   "execution_count": 32,
   "metadata": {
    "collapsed": true
   },
   "outputs": [],
   "source": [
    "top10=df.groupby(['Year','JobTitle'])['TotalPay'].median().unstack('Year').fillna(0)"
   ]
  },
  {
   "cell_type": "code",
   "execution_count": 33,
   "metadata": {},
   "outputs": [
    {
     "data": {
      "text/plain": [
       "<matplotlib.axes._subplots.AxesSubplot at 0x10d1cca90>"
      ]
     },
     "execution_count": 33,
     "metadata": {},
     "output_type": "execute_result"
    },
    {
     "data": {
      "text/plain": [
       "<matplotlib.text.Text at 0x10c7a7198>"
      ]
     },
     "execution_count": 33,
     "metadata": {},
     "output_type": "execute_result"
    },
    {
     "data": {
      "text/plain": [
       "<matplotlib.text.Text at 0x10bd7bfd0>"
      ]
     },
     "execution_count": 33,
     "metadata": {},
     "output_type": "execute_result"
    },
    {
     "data": {
      "image/png": "[encoded data removed]",
      "text/plain": [
       "<matplotlib.figure.Figure at 0x1107caf60>"
      ]
     },
     "metadata": {},
     "output_type": "display_data"
    }
   ],
   "source": [
    "top10[2011].sort_values(ascending=False).head(10).plot(kind='barh')\n",
    "plt.title('Top 10 Jobs in 2011 Based on TotalPay')\n",
    "plt.xlabel('TotalPay')"
   ]
  },
  {
   "cell_type": "code",
   "execution_count": 34,
   "metadata": {},
   "outputs": [
    {
     "data": {
      "text/plain": [
       "<matplotlib.axes._subplots.AxesSubplot at 0x10fbcb630>"
      ]
     },
     "execution_count": 34,
     "metadata": {},
     "output_type": "execute_result"
    },
    {
     "data": {
      "text/plain": [
       "<matplotlib.text.Text at 0x10fbe6be0>"
      ]
     },
     "execution_count": 34,
     "metadata": {},
     "output_type": "execute_result"
    },
    {
     "data": {
      "text/plain": [
       "<matplotlib.text.Text at 0x10d1b0ef0>"
      ]
     },
     "execution_count": 34,
     "metadata": {},
     "output_type": "execute_result"
    },
    {
     "data": {
      "image/png": "[encoded data removed]",
      "text/plain": [
       "<matplotlib.figure.Figure at 0x10d14acf8>"
      ]
     },
     "metadata": {},
     "output_type": "display_data"
    }
   ],
   "source": [
    "top10[2014].sort_values(ascending=False).head(10).plot(kind='barh')\n",
    "plt.title('Top 10 Jobs in 2014 Based on TotalPay')\n",
    "plt.xlabel('TotalPay')"
   ]
  },
  {
   "cell_type": "code",
   "execution_count": 35,
   "metadata": {},
   "outputs": [
    {
     "data": {
      "text/plain": [
       "<matplotlib.axes._subplots.AxesSubplot at 0x10fbd6828>"
      ]
     },
     "execution_count": 35,
     "metadata": {},
     "output_type": "execute_result"
    },
    {
     "data": {
      "text/plain": [
       "<matplotlib.text.Text at 0x10d174748>"
      ]
     },
     "execution_count": 35,
     "metadata": {},
     "output_type": "execute_result"
    },
    {
     "data": {
      "image/png": "[encoded data removed]",
      "text/plain": [
       "<matplotlib.figure.Figure at 0x10fbeaf28>"
      ]
     },
     "metadata": {},
     "output_type": "display_data"
    }
   ],
   "source": [
    "top10.sort_values(by=[(2011)],ascending=False).head(10).plot(kind='barh')\n",
    "plt.xlabel('TotalPay')"
   ]
  },
  {
   "cell_type": "markdown",
   "metadata": {},
   "source": [
    "____\n",
    "** Because I am very interested in how much Registered Nurse and FireFighter make. So Let's check out.**"
   ]
  },
  {
   "cell_type": "code",
   "execution_count": 36,
   "metadata": {
    "collapsed": true
   },
   "outputs": [],
   "source": [
    "NurseFire=df[df['JobTitle'].isin(['REGISTERED NURSE','FIREFIGHTER'])]"
   ]
  },
  {
   "cell_type": "code",
   "execution_count": 37,
   "metadata": {},
   "outputs": [
    {
     "data": {
      "text/plain": [
       "<matplotlib.axes._subplots.AxesSubplot at 0x10bf63710>"
      ]
     },
     "execution_count": 37,
     "metadata": {},
     "output_type": "execute_result"
    },
    {
     "data": {
      "text/plain": [
       "<matplotlib.legend.Legend at 0x10bdd6dd8>"
      ]
     },
     "execution_count": 37,
     "metadata": {},
     "output_type": "execute_result"
    },
    {
     "data": {
      "text/plain": [
       "<matplotlib.text.Text at 0x10c4a5390>"
      ]
     },
     "execution_count": 37,
     "metadata": {},
     "output_type": "execute_result"
    },
    {
     "data": {
      "image/png": "[encoded data removed]",
      "text/plain": [
       "<matplotlib.figure.Figure at 0x1099aed30>"
      ]
     },
     "metadata": {},
     "output_type": "display_data"
    }
   ],
   "source": [
    "##Distribution of TotalPay of Registered Nurese and FireFighter over years\n",
    "sns.violinplot('Year','TotalPay',data=NurseFire,hue='JobTitle')\n",
    "plt.legend(bbox_to_anchor=(1.05,1),loc=2)\n",
    "plt.title('Distribution of Registered Nurese and FireFighter')"
   ]
  },
  {
   "cell_type": "markdown",
   "metadata": {},
   "source": [
    "____"
   ]
  },
  {
   "cell_type": "code",
   "execution_count": 62,
   "metadata": {},
   "outputs": [
    {
     "data": {
      "text/plain": [
       "<matplotlib.axes._subplots.AxesSubplot at 0x10f82cd30>"
      ]
     },
     "execution_count": 62,
     "metadata": {},
     "output_type": "execute_result"
    },
    {
     "data": {
      "text/plain": [
       "<matplotlib.legend.Legend at 0x1147f2940>"
      ]
     },
     "execution_count": 62,
     "metadata": {},
     "output_type": "execute_result"
    },
    {
     "data": {
      "text/plain": [
       "<matplotlib.text.Text at 0x10fa3a710>"
      ]
     },
     "execution_count": 62,
     "metadata": {},
     "output_type": "execute_result"
    },
    {
     "data": {
      "image/png": "[encoded data removed]",
      "text/plain": [
       "<matplotlib.figure.Figure at 0x10d14ac18>"
      ]
     },
     "metadata": {},
     "output_type": "display_data"
    }
   ],
   "source": [
    "##Median Totalpay\n",
    "sns.barplot('Year','TotalPay',data=NurseFire,hue='JobTitle',estimator=np.median)\n",
    "plt.legend(bbox_to_anchor=(1.05,1),loc=2)\n",
    "plt.title('Median of TotalPay')"
   ]
  },
  {
   "cell_type": "code",
   "execution_count": 63,
   "metadata": {},
   "outputs": [
    {
     "data": {
      "text/plain": [
       "<matplotlib.axes._subplots.AxesSubplot at 0x1141bbf98>"
      ]
     },
     "execution_count": 63,
     "metadata": {},
     "output_type": "execute_result"
    },
    {
     "data": {
      "text/plain": [
       "<matplotlib.legend.Legend at 0x11482a4e0>"
      ]
     },
     "execution_count": 63,
     "metadata": {},
     "output_type": "execute_result"
    },
    {
     "data": {
      "text/plain": [
       "<matplotlib.text.Text at 0x114aa6208>"
      ]
     },
     "execution_count": 63,
     "metadata": {},
     "output_type": "execute_result"
    },
    {
     "data": {
      "image/png": "[encoded data removed]",
      "text/plain": [
       "<matplotlib.figure.Figure at 0x114828550>"
      ]
     },
     "metadata": {},
     "output_type": "display_data"
    }
   ],
   "source": [
    "##Median BasePay of each years\n",
    "sns.barplot('Year','BasePay',data=NurseFire,hue='JobTitle',estimator=np.median)\n",
    "plt.legend(bbox_to_anchor=(1.05,1),loc=2)\n",
    "plt.title('Median of BasePay')"
   ]
  },
  {
   "cell_type": "code",
   "execution_count": 38,
   "metadata": {
    "collapsed": true
   },
   "outputs": [],
   "source": [
    "fire=NurseFire[NurseFire['JobTitle']=='FIREFIGHTER']\n",
    "nurse=NurseFire[NurseFire['JobTitle']=='REGISTERED NURSE']"
   ]
  },
  {
   "cell_type": "code",
   "execution_count": 39,
   "metadata": {},
   "outputs": [
    {
     "data": {
      "text/plain": [
       "<matplotlib.axes._subplots.AxesSubplot at 0x10eea08d0>"
      ]
     },
     "execution_count": 39,
     "metadata": {},
     "output_type": "execute_result"
    },
    {
     "data": {
      "text/plain": [
       "<matplotlib.text.Text at 0x10f83c128>"
      ]
     },
     "execution_count": 39,
     "metadata": {},
     "output_type": "execute_result"
    },
    {
     "data": {
      "text/plain": [
       "(array([0, 1, 2, 3]), <a list of 4 Text xticklabel objects>)"
      ]
     },
     "execution_count": 39,
     "metadata": {},
     "output_type": "execute_result"
    },
    {
     "data": {
      "text/plain": [
       "<matplotlib.axes._subplots.AxesSubplot at 0x10fa80e10>"
      ]
     },
     "execution_count": 39,
     "metadata": {},
     "output_type": "execute_result"
    },
    {
     "data": {
      "text/plain": [
       "<matplotlib.text.Text at 0x10faa3b00>"
      ]
     },
     "execution_count": 39,
     "metadata": {},
     "output_type": "execute_result"
    },
    {
     "data": {
      "text/plain": [
       "(array([0, 1, 2, 3]), <a list of 4 Text xticklabel objects>)"
      ]
     },
     "execution_count": 39,
     "metadata": {},
     "output_type": "execute_result"
    },
    {
     "data": {
      "image/png": "[encoded data removed]",
      "text/plain": [
       "<matplotlib.figure.Figure at 0x10ee875c0>"
      ]
     },
     "metadata": {},
     "output_type": "display_data"
    },
    {
     "data": {
      "image/png": "[encoded data removed]",
      "text/plain": [
       "<matplotlib.figure.Figure at 0x10ee8a320>"
      ]
     },
     "metadata": {},
     "output_type": "display_data"
    }
   ],
   "source": [
    "fire.groupby('Year')[['BasePay','OtherPay','Benefits']].median().plot(kind='bar',stacked=True)\n",
    "plt.title('Fire Fighter')\n",
    "plt.xticks(rotation=360)\n",
    "\n",
    "nurse.groupby('Year')[['BasePay','OtherPay','Benefits']].median().plot(kind='bar',stacked=True)\n",
    "plt.title('Registered Nurse')\n",
    "plt.xticks(rotation=360)"
   ]
  },
  {
   "cell_type": "markdown",
   "metadata": {
    "collapsed": true
   },
   "source": [
    "** As we could see in the above, FireFighter's median TotalPay are much higher than Registered Nurse's. But Registered Nurse's median BasePay are much higher than FireFighter's. **\n",
    "\n",
    "**Also we could see that median TotalPay of both FireFighter and Registered Nurse had increase from 2011 to 2013, but had decline in 2014. **"
   ]
  },
  {
   "cell_type": "code",
   "execution_count": null,
   "metadata": {},
   "outputs": [],
   "source": []
  },
  {
   "cell_type": "code",
   "execution_count": null,
   "metadata": {},
   "outputs": [],
   "source": []
  },
  {
   "cell_type": "code",
   "execution_count": null,
   "metadata": {},
   "outputs": [],
   "source": []
  },
  {
   "cell_type": "code",
   "execution_count": null,
   "metadata": {
    "collapsed": true
   },
   "outputs": [],
   "source": []
  }
 ],
 "metadata": {
  "kernelspec": {
   "display_name": "Python 3",
   "language": "python",
   "name": "python3"
  },
  "language_info": {
   "codemirror_mode": {
    "name": "ipython",
    "version": 3
   },
   "file_extension": ".py",
   "mimetype": "text/x-python",
   "name": "python",
   "nbconvert_exporter": "python",
   "pygments_lexer": "ipython3",
   "version": "3.5.2"
  }
 },
 "nbformat": 4,
 "nbformat_minor": 2
}
